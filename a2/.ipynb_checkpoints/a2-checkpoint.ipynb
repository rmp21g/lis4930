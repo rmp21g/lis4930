{
 "cells": [
  {
   "cell_type": "markdown",
   "id": "2ac2e4f8-47c7-4a84-9d66-ff49dbce7ee4",
   "metadata": {},
   "source": [
    "### Assignment 2\n",
    "\n",
    "**Developer:** Ryan Parks\n",
    "\n",
    "**Course**: Artificial Intelligence Applications\n",
    "\n",
    "**Semester:** Summer 2024\n",
    "\n",
    "**Program requirements (data analysis and visualization steps):**\n",
    "\n",
    "1. Get\n",
    "2. Clean\n",
    "3. Prepare\n",
    "4. Analyze\n",
    "5. Display/Visualize (preparation)"
   ]
  },
  {
   "cell_type": "code",
   "execution_count": 2,
   "id": "e9f058d1-232e-40af-be2c-4a37b6376da9",
   "metadata": {},
   "outputs": [],
   "source": [
    "import pandas as pd"
   ]
  },
  {
   "cell_type": "markdown",
   "id": "b067fad7-b4e2-4c74-ad00-9743f9f489fd",
   "metadata": {},
   "source": [
    "### Get data"
   ]
  },
  {
   "cell_type": "code",
   "execution_count": 4,
   "id": "5c99e6e2-fd8a-41ae-a762-b075d5f4b2ca",
   "metadata": {
    "tags": []
   },
   "outputs": [],
   "source": [
    "# Get mortality data\n",
    "mortality_url = \"https://data.cdc.gov/api/views/v6ab-adf5/rows.csv\""
   ]
  },
  {
   "cell_type": "code",
   "execution_count": 5,
   "id": "eb3ae1ce-4441-4301-a03f-227fad645b4b",
   "metadata": {
    "tags": []
   },
   "outputs": [],
   "source": [
    "# Read cdv file to dataframe\n",
    "mortality_data = pd.read_csv(mortality_url)"
   ]
  },
  {
   "cell_type": "markdown",
   "id": "bda78c44-e0bd-4756-9a83-f9095b84f2ef",
   "metadata": {},
   "source": [
    "### Save DataFrame to pickle file"
   ]
  },
  {
   "cell_type": "code",
   "execution_count": 7,
   "id": "69689e4b-ef34-4abf-97e5-8e8daa4cd116",
   "metadata": {
    "tags": []
   },
   "outputs": [],
   "source": [
    "# Save DF to pickle file\n",
    "mortality_data.to_pickle('mortality_data.pkl')"
   ]
  },
  {
   "cell_type": "code",
   "execution_count": 8,
   "id": "83b2b8c6-d583-4e16-ba5e-03ba1585e730",
   "metadata": {
    "tags": []
   },
   "outputs": [],
   "source": [
    "# Read pickle file\n",
    "mortality_data = pd.read_pickle('mortality_data.pkl')"
   ]
  },
  {
   "cell_type": "markdown",
   "id": "5974e738-7b4d-4653-be6e-31c2a89e717d",
   "metadata": {},
   "source": [
    "### (First - examine, then...), clean, prepare, analyze, and display data"
   ]
  },
  {
   "cell_type": "code",
   "execution_count": 10,
   "id": "090c3b88-4aea-4693-8aaa-e9a0384c34aa",
   "metadata": {
    "tags": []
   },
   "outputs": [
    {
     "name": "stdout",
     "output_type": "stream",
     "text": [
      "     Year    Age Group  Death Rate\n",
      "0    1900    1-4 Years      1983.8\n",
      "1    1901    1-4 Years      1695.0\n",
      "2    1902    1-4 Years      1655.7\n",
      "3    1903    1-4 Years      1542.1\n",
      "4    1904    1-4 Years      1591.5\n",
      "..    ...          ...         ...\n",
      "471  2014  15-19 Years        45.5\n",
      "472  2015  15-19 Years        48.3\n",
      "473  2016  15-19 Years        51.2\n",
      "474  2017  15-19 Years        51.5\n",
      "475  2018  15-19 Years        49.2\n",
      "\n",
      "[476 rows x 3 columns]\n"
     ]
    }
   ],
   "source": [
    "# Print\n",
    "print(mortality_data)"
   ]
  },
  {
   "cell_type": "code",
   "execution_count": 11,
   "id": "07f08619-7686-40d8-9024-4cd080ac6cdf",
   "metadata": {
    "tags": []
   },
   "outputs": [
    {
     "name": "stdout",
     "output_type": "stream",
     "text": [
      "   Year  Age Group  Death Rate\n",
      "0  1900  1-4 Years      1983.8\n",
      "1  1901  1-4 Years      1695.0\n",
      "2  1902  1-4 Years      1655.7\n",
      "3  1903  1-4 Years      1542.1\n",
      "4  1904  1-4 Years      1591.5\n"
     ]
    }
   ],
   "source": [
    "# Print first 5 rows only\n",
    "print(mortality_data.head())"
   ]
  },
  {
   "cell_type": "code",
   "execution_count": 12,
   "id": "4c1647f9-f153-4f32-acfd-14702eb5aae7",
   "metadata": {
    "tags": []
   },
   "outputs": [
    {
     "name": "stdout",
     "output_type": "stream",
     "text": [
      "     Year    Age Group  Death Rate\n",
      "473  2016  15-19 Years        51.2\n",
      "474  2017  15-19 Years        51.5\n",
      "475  2018  15-19 Years        49.2\n"
     ]
    }
   ],
   "source": [
    "# Print last 3 rows only\n",
    "print(mortality_data.tail(3))"
   ]
  },
  {
   "cell_type": "code",
   "execution_count": 13,
   "id": "1ae3a08e-2889-4ec3-966d-35b76e0e0ffa",
   "metadata": {
    "tags": []
   },
   "outputs": [
    {
     "name": "stdout",
     "output_type": "stream",
     "text": [
      "     Year    Age Group  Death Rate\n",
      "0    1900    1-4 Years      1983.8\n",
      "1    1901    1-4 Years      1695.0\n",
      "2    1902    1-4 Years      1655.7\n",
      "..    ...          ...         ...\n",
      "473  2016  15-19 Years        51.2\n",
      "474  2017  15-19 Years        51.5\n",
      "475  2018  15-19 Years        49.2\n",
      "\n",
      "[476 rows x 3 columns]\n"
     ]
    }
   ],
   "source": [
    "# Display 6 rows with all cols\n",
    "with pd.option_context(\n",
    "    'display.max_rows', 6,\n",
    "    'display.max_columns', None):\n",
    "    print(mortality_data)"
   ]
  },
  {
   "cell_type": "markdown",
   "id": "1d0546e2-2e1a-4f39-bc18-9672346e01c0",
   "metadata": {},
   "source": [
    "### Display DataFrame attributes"
   ]
  },
  {
   "cell_type": "code",
   "execution_count": 15,
   "id": "3342eb5a-bfe7-4460-91aa-2613e6c986cd",
   "metadata": {
    "tags": []
   },
   "outputs": [
    {
     "name": "stdout",
     "output_type": "stream",
     "text": [
      "Index:  RangeIndex(start=0, stop=476, step=1)\n",
      "Columns:  Index(['Year', 'Age Group', 'Death Rate'], dtype='object')\n",
      "Size:  1428\n",
      "Shape:  (476, 3)\n"
     ]
    }
   ],
   "source": [
    "# Print DF attributes\n",
    "print(\"Index: \", mortality_data.index)\n",
    "print(\"Columns: \", mortality_data.columns)\n",
    "print(\"Size: \", mortality_data.size)\n",
    "print(\"Shape: \", mortality_data.shape)"
   ]
  },
  {
   "cell_type": "code",
   "execution_count": 16,
   "id": "ffe6cd91-0f50-4241-91b7-849d85fb0db6",
   "metadata": {
    "tags": []
   },
   "outputs": [
    {
     "name": "stdout",
     "output_type": "stream",
     "text": [
      "[[1900 '1-4 Years' 1983.8]\n",
      " [1901 '1-4 Years' 1695.0]\n",
      " [1902 '1-4 Years' 1655.7]\n",
      " ...\n",
      " [2016 '15-19 Years' 51.2]\n",
      " [2017 '15-19 Years' 51.5]\n",
      " [2018 '15-19 Years' 49.2]]\n"
     ]
    }
   ],
   "source": [
    "# Display DF values in array format\n",
    "print(mortality_data.values)"
   ]
  },
  {
   "cell_type": "markdown",
   "id": "779e9b48-9682-43be-91c5-c5e781a7325d",
   "metadata": {},
   "source": [
    "### Use columns attribute to change column names (i.e., remove any spaces)"
   ]
  },
  {
   "cell_type": "code",
   "execution_count": 18,
   "id": "daef3222-7662-4229-8cb9-41da7a6a075a",
   "metadata": {
    "tags": []
   },
   "outputs": [],
   "source": [
    "# Use columns attribute and replace() function to remove spaces in column names\n",
    "mortality_data.columns = mortality_data.columns.str.replace(\" \", \"\")"
   ]
  },
  {
   "cell_type": "code",
   "execution_count": 19,
   "id": "3e83f8ba-47d7-41d6-b636-90038c509bd4",
   "metadata": {
    "tags": []
   },
   "outputs": [
    {
     "name": "stdout",
     "output_type": "stream",
     "text": [
      "Index(['Year', 'AgeGroup', 'DeathRate'], dtype='object')\n"
     ]
    }
   ],
   "source": [
    "# Print column names\n",
    "print(mortality_data.columns)"
   ]
  },
  {
   "cell_type": "code",
   "execution_count": 20,
   "id": "4205bcaa-6765-424c-b6c2-132961d003b6",
   "metadata": {
    "tags": []
   },
   "outputs": [
    {
     "name": "stdout",
     "output_type": "stream",
     "text": [
      "   Year   AgeGroup  DeathRate\n",
      "0  1900  1-4 Years     1983.8\n",
      "1  1901  1-4 Years     1695.0\n",
      "2  1902  1-4 Years     1655.7\n",
      "3  1903  1-4 Years     1542.1\n",
      "4  1904  1-4 Years     1591.5\n"
     ]
    }
   ],
   "source": [
    "# Print column names with first 5 records\n",
    "print(mortality_data.head())"
   ]
  },
  {
   "cell_type": "markdown",
   "id": "d6bfc710-1b86-447e-90b5-701e6b6727be",
   "metadata": {},
   "source": [
    "### Use info(), nunique(), and describe() methods"
   ]
  },
  {
   "cell_type": "code",
   "execution_count": 22,
   "id": "d28114ff-0ad8-4e07-ab80-b05d4f75636f",
   "metadata": {
    "tags": []
   },
   "outputs": [
    {
     "name": "stdout",
     "output_type": "stream",
     "text": [
      "<class 'pandas.core.frame.DataFrame'>\n",
      "RangeIndex: 476 entries, 0 to 475\n",
      "Data columns (total 3 columns):\n",
      " #   Column     Non-Null Count  Dtype  \n",
      "---  ------     --------------  -----  \n",
      " 0   Year       476 non-null    int64  \n",
      " 1   AgeGroup   476 non-null    object \n",
      " 2   DeathRate  476 non-null    float64\n",
      "dtypes: float64(1), int64(1), object(1)\n",
      "memory usage: 11.3+ KB\n"
     ]
    }
   ],
   "source": [
    "# Print DF information\n",
    "mortality_data.info()"
   ]
  },
  {
   "cell_type": "code",
   "execution_count": 23,
   "id": "cfcc6c2b-4cfa-422b-af8f-9782a576557b",
   "metadata": {
    "tags": []
   },
   "outputs": [
    {
     "name": "stdout",
     "output_type": "stream",
     "text": [
      "<class 'pandas.core.frame.DataFrame'>\n",
      "RangeIndex: 476 entries, 0 to 475\n",
      "Data columns (total 3 columns):\n",
      " #   Column     Non-Null Count  Dtype  \n",
      "---  ------     --------------  -----  \n",
      " 0   Year       476 non-null    int64  \n",
      " 1   AgeGroup   476 non-null    object \n",
      " 2   DeathRate  476 non-null    float64\n",
      "dtypes: float64(1), int64(1), object(1)\n",
      "memory usage: 38.7 KB\n"
     ]
    }
   ],
   "source": [
    "# Print DF information, including accurate memory usage\n",
    "mortality_data.info(memory_usage='deep')"
   ]
  },
  {
   "cell_type": "code",
   "execution_count": 24,
   "id": "91f952f0-e4a4-4d7c-a653-36f9c36ff282",
   "metadata": {
    "tags": []
   },
   "outputs": [
    {
     "data": {
      "text/plain": [
       "Year         119\n",
       "AgeGroup       4\n",
       "DeathRate    430\n",
       "dtype: int64"
      ]
     },
     "execution_count": 24,
     "metadata": {},
     "output_type": "execute_result"
    }
   ],
   "source": [
    "# Summarize unique values in each column\n",
    "mortality_data.nunique()"
   ]
  },
  {
   "cell_type": "code",
   "execution_count": 25,
   "id": "ab3cbde3-0641-428e-a813-1e10355f0fcc",
   "metadata": {
    "tags": []
   },
   "outputs": [
    {
     "data": {
      "text/html": [
       "<div>\n",
       "<style scoped>\n",
       "    .dataframe tbody tr th:only-of-type {\n",
       "        vertical-align: middle;\n",
       "    }\n",
       "\n",
       "    .dataframe tbody tr th {\n",
       "        vertical-align: top;\n",
       "    }\n",
       "\n",
       "    .dataframe thead th {\n",
       "        text-align: right;\n",
       "    }\n",
       "</style>\n",
       "<table border=\"1\" class=\"dataframe\">\n",
       "  <thead>\n",
       "    <tr style=\"text-align: right;\">\n",
       "      <th></th>\n",
       "      <th>Year</th>\n",
       "      <th>DeathRate</th>\n",
       "    </tr>\n",
       "  </thead>\n",
       "  <tbody>\n",
       "    <tr>\n",
       "      <th>count</th>\n",
       "      <td>476.000000</td>\n",
       "      <td>476.000000</td>\n",
       "    </tr>\n",
       "    <tr>\n",
       "      <th>mean</th>\n",
       "      <td>1959.000000</td>\n",
       "      <td>192.924160</td>\n",
       "    </tr>\n",
       "    <tr>\n",
       "      <th>std</th>\n",
       "      <td>34.387268</td>\n",
       "      <td>293.224216</td>\n",
       "    </tr>\n",
       "    <tr>\n",
       "      <th>min</th>\n",
       "      <td>1900.000000</td>\n",
       "      <td>11.400000</td>\n",
       "    </tr>\n",
       "    <tr>\n",
       "      <th>25%</th>\n",
       "      <td>1929.000000</td>\n",
       "      <td>40.575000</td>\n",
       "    </tr>\n",
       "    <tr>\n",
       "      <th>50%</th>\n",
       "      <td>1959.000000</td>\n",
       "      <td>89.500000</td>\n",
       "    </tr>\n",
       "    <tr>\n",
       "      <th>75%</th>\n",
       "      <td>1989.000000</td>\n",
       "      <td>222.575000</td>\n",
       "    </tr>\n",
       "    <tr>\n",
       "      <th>max</th>\n",
       "      <td>2018.000000</td>\n",
       "      <td>1983.800000</td>\n",
       "    </tr>\n",
       "  </tbody>\n",
       "</table>\n",
       "</div>"
      ],
      "text/plain": [
       "              Year    DeathRate\n",
       "count   476.000000   476.000000\n",
       "mean   1959.000000   192.924160\n",
       "std      34.387268   293.224216\n",
       "min    1900.000000    11.400000\n",
       "25%    1929.000000    40.575000\n",
       "50%    1959.000000    89.500000\n",
       "75%    1989.000000   222.575000\n",
       "max    2018.000000  1983.800000"
      ]
     },
     "execution_count": 25,
     "metadata": {},
     "output_type": "execute_result"
    }
   ],
   "source": [
    "# Display generic stats for each numeric column\n",
    "mortality_data.describe()"
   ]
  },
  {
   "cell_type": "code",
   "execution_count": 26,
   "id": "110ff23a-1ea8-431b-96e4-2d40ee16d600",
   "metadata": {
    "tags": []
   },
   "outputs": [
    {
     "data": {
      "text/html": [
       "<div>\n",
       "<style scoped>\n",
       "    .dataframe tbody tr th:only-of-type {\n",
       "        vertical-align: middle;\n",
       "    }\n",
       "\n",
       "    .dataframe tbody tr th {\n",
       "        vertical-align: top;\n",
       "    }\n",
       "\n",
       "    .dataframe thead th {\n",
       "        text-align: right;\n",
       "    }\n",
       "</style>\n",
       "<table border=\"1\" class=\"dataframe\">\n",
       "  <thead>\n",
       "    <tr style=\"text-align: right;\">\n",
       "      <th></th>\n",
       "      <th>count</th>\n",
       "      <th>mean</th>\n",
       "      <th>std</th>\n",
       "      <th>min</th>\n",
       "      <th>25%</th>\n",
       "      <th>50%</th>\n",
       "      <th>75%</th>\n",
       "      <th>max</th>\n",
       "    </tr>\n",
       "  </thead>\n",
       "  <tbody>\n",
       "    <tr>\n",
       "      <th>Year</th>\n",
       "      <td>476.0</td>\n",
       "      <td>1959.00000</td>\n",
       "      <td>34.387268</td>\n",
       "      <td>1900.0</td>\n",
       "      <td>1929.000</td>\n",
       "      <td>1959.0</td>\n",
       "      <td>1989.000</td>\n",
       "      <td>2018.0</td>\n",
       "    </tr>\n",
       "    <tr>\n",
       "      <th>DeathRate</th>\n",
       "      <td>476.0</td>\n",
       "      <td>192.92416</td>\n",
       "      <td>293.224216</td>\n",
       "      <td>11.4</td>\n",
       "      <td>40.575</td>\n",
       "      <td>89.5</td>\n",
       "      <td>222.575</td>\n",
       "      <td>1983.8</td>\n",
       "    </tr>\n",
       "  </tbody>\n",
       "</table>\n",
       "</div>"
      ],
      "text/plain": [
       "           count        mean         std     min       25%     50%       75%  \\\n",
       "Year       476.0  1959.00000   34.387268  1900.0  1929.000  1959.0  1989.000   \n",
       "DeathRate  476.0   192.92416  293.224216    11.4    40.575    89.5   222.575   \n",
       "\n",
       "              max  \n",
       "Year       2018.0  \n",
       "DeathRate  1983.8  "
      ]
     },
     "execution_count": 26,
     "metadata": {},
     "output_type": "execute_result"
    }
   ],
   "source": [
    "# Transpose stats so that stat names are displayed in columns\n",
    "mortality_data.describe().T"
   ]
  },
  {
   "cell_type": "code",
   "execution_count": 27,
   "id": "bd48923d-2b3c-43bf-922f-1d3cd46aea84",
   "metadata": {
    "tags": []
   },
   "outputs": [],
   "source": [
    "# Save cleaned DF to pickle file\n",
    "mortality_data.to_pickle('mortality_cleaned.pkl')"
   ]
  },
  {
   "cell_type": "code",
   "execution_count": 28,
   "id": "cacd8e39-2cb3-4aba-ac01-634e7d59541d",
   "metadata": {
    "tags": []
   },
   "outputs": [],
   "source": [
    "# Read cleaned pickle file to mortality_data variable\n",
    "mortality_data = pd.read_pickle('mortality_cleaned.pkl')"
   ]
  },
  {
   "cell_type": "code",
   "execution_count": 29,
   "id": "f87a91fc-4c97-4978-95eb-9ff787c1bec9",
   "metadata": {
    "tags": []
   },
   "outputs": [
    {
     "name": "stdout",
     "output_type": "stream",
     "text": [
      "   Year   AgeGroup  DeathRate\n",
      "0  1900  1-4 Years     1983.8\n",
      "1  1901  1-4 Years     1695.0\n",
      "2  1902  1-4 Years     1655.7\n",
      "3  1903  1-4 Years     1542.1\n",
      "4  1904  1-4 Years     1591.5\n"
     ]
    }
   ],
   "source": [
    "# Display first 5 rows of cleaned pickle file\n",
    "print(mortality_data.head())"
   ]
  },
  {
   "cell_type": "markdown",
   "id": "ec7c7bef-5cc7-4ae4-b074-c752b4dbf618",
   "metadata": {},
   "source": [
    "### Accessing data (columns)"
   ]
  },
  {
   "cell_type": "code",
   "execution_count": 31,
   "id": "cb0b6d15-9f59-43b2-b1d2-c1aab3c381e9",
   "metadata": {
    "tags": []
   },
   "outputs": [
    {
     "name": "stdout",
     "output_type": "stream",
     "text": [
      "0    1983.8\n",
      "1    1695.0\n",
      "Name: DeathRate, dtype: float64\n"
     ]
    }
   ],
   "source": [
    "# Display first two records of DeathRate column using dot notation\n",
    "print(mortality_data.DeathRate.head(2))"
   ]
  },
  {
   "cell_type": "code",
   "execution_count": 32,
   "id": "491286f1-1b64-441a-a370-c18472fa228d",
   "metadata": {
    "tags": []
   },
   "outputs": [
    {
     "name": "stdout",
     "output_type": "stream",
     "text": [
      "0    1983.8\n",
      "1    1695.0\n",
      "Name: DeathRate, dtype: float64\n"
     ]
    }
   ],
   "source": [
    "# Same as above using single brackets\n",
    "print(mortality_data['DeathRate'].head(2))"
   ]
  },
  {
   "cell_type": "code",
   "execution_count": 33,
   "id": "102c37d7-5521-469f-8e9a-a6e2abdb3e90",
   "metadata": {
    "tags": []
   },
   "outputs": [
    {
     "name": "stdout",
     "output_type": "stream",
     "text": [
      "   DeathRate\n",
      "0     1983.8\n",
      "1     1695.0\n"
     ]
    }
   ],
   "source": [
    "# Same as above using double brackets\n",
    "print(mortality_data[['DeathRate']].head(2))"
   ]
  },
  {
   "cell_type": "code",
   "execution_count": 34,
   "id": "894eb9e6-5e3c-409b-a64e-cd0d2832193b",
   "metadata": {
    "tags": []
   },
   "outputs": [
    {
     "name": "stdout",
     "output_type": "stream",
     "text": [
      "<class 'pandas.core.series.Series'>\n"
     ]
    }
   ],
   "source": [
    "# Display DeathRate type using dot notation\n",
    "print(type(mortality_data.DeathRate))"
   ]
  },
  {
   "cell_type": "code",
   "execution_count": 35,
   "id": "6bd5abbb-8f1b-4e95-87ae-9ac0fe05290c",
   "metadata": {
    "tags": []
   },
   "outputs": [
    {
     "name": "stdout",
     "output_type": "stream",
     "text": [
      "<class 'pandas.core.series.Series'>\n"
     ]
    }
   ],
   "source": [
    "# Display DeathRate type using single brackets\n",
    "print(type(mortality_data['DeathRate']))"
   ]
  },
  {
   "cell_type": "code",
   "execution_count": 36,
   "id": "0b418bb8-457b-4f96-9169-3567af5cf8f5",
   "metadata": {
    "tags": []
   },
   "outputs": [
    {
     "name": "stdout",
     "output_type": "stream",
     "text": [
      "<class 'pandas.core.frame.DataFrame'>\n"
     ]
    }
   ],
   "source": [
    "# Display DeathRate type using double brackets\n",
    "print(type(mortality_data[['DeathRate']]))"
   ]
  },
  {
   "cell_type": "code",
   "execution_count": 37,
   "id": "cbc5ecb2-1d55-431b-8073-785b1664701e",
   "metadata": {
    "tags": []
   },
   "outputs": [
    {
     "name": "stdout",
     "output_type": "stream",
     "text": [
      "   Year  DeathRate\n",
      "0  1900     1983.8\n",
      "1  1901     1695.0\n"
     ]
    }
   ],
   "source": [
    "# Access more than one column\n",
    "print(mortality_data[['Year', 'DeathRate']].head(2))"
   ]
  },
  {
   "cell_type": "code",
   "execution_count": 38,
   "id": "5696c19a-3dfd-435f-82ad-33649109cfb9",
   "metadata": {
    "tags": []
   },
   "outputs": [
    {
     "data": {
      "text/plain": [
       "pandas.core.frame.DataFrame"
      ]
     },
     "execution_count": 38,
     "metadata": {},
     "output_type": "execute_result"
    }
   ],
   "source": [
    "# Display Year and DeathRate type using double brackets\n",
    "type(mortality_data[['Year', 'DeathRate']])"
   ]
  },
  {
   "cell_type": "markdown",
   "id": "c6fcf2e4-4d36-4edb-8dd5-3b1bd137ef9e",
   "metadata": {},
   "source": [
    "### Accessing rows"
   ]
  },
  {
   "cell_type": "code",
   "execution_count": 40,
   "id": "6d602f58-2208-44b9-8406-a9c446bfc5ac",
   "metadata": {
    "tags": []
   },
   "outputs": [
    {
     "name": "stdout",
     "output_type": "stream",
     "text": [
      "     Year     AgeGroup  DeathRate\n",
      "0    1900    1-4 Years     1983.8\n",
      "119  1900    5-9 Years      466.1\n",
      "238  1900  10-14 Years      298.3\n",
      "357  1900  15-19 Years      484.8\n"
     ]
    }
   ],
   "source": [
    "# Access data using query() function\n",
    "print(mortality_data.query('Year==1900'))"
   ]
  },
  {
   "cell_type": "code",
   "execution_count": 41,
   "id": "a90c6036-c39a-4f22-9d6c-186e37a4133d",
   "metadata": {
    "tags": []
   },
   "outputs": [
    {
     "name": "stdout",
     "output_type": "stream",
     "text": [
      "     Year     AgeGroup  DeathRate\n",
      "219  2000    5-9 Years       15.8\n",
      "338  2000  10-14 Years       20.3\n",
      "457  2000  15-19 Years       67.1\n"
     ]
    }
   ],
   "source": [
    "# Access data using query() function\n",
    "print(mortality_data.query('Year == 2000 and AgeGroup != \"1-4 Years\"'))"
   ]
  },
  {
   "cell_type": "code",
   "execution_count": 42,
   "id": "86004c97-d786-4f93-bd35-67c1bcb4a7b3",
   "metadata": {
    "tags": []
   },
   "outputs": [
    {
     "name": "stdout",
     "output_type": "stream",
     "text": [
      "     Year     AgeGroup  DeathRate\n",
      "0    1900    1-4 Years     1983.8\n",
      "100  2000    1-4 Years       32.4\n",
      "119  1900    5-9 Years      466.1\n",
      "219  2000    5-9 Years       15.8\n",
      "238  1900  10-14 Years      298.3\n"
     ]
    }
   ],
   "source": [
    "# Access data using query() function, display first 5 records\n",
    "print(mortality_data.query('Year == 1900 or Year == 2000').head())"
   ]
  },
  {
   "cell_type": "markdown",
   "id": "353b6a9d-97e5-4f5c-bee3-e2b64584940a",
   "metadata": {},
   "source": [
    "### Access subset of rows and columns"
   ]
  },
  {
   "cell_type": "code",
   "execution_count": 44,
   "id": "cf9d2048-47a0-429f-a8a5-08b5b4844cd8",
   "metadata": {
    "tags": []
   },
   "outputs": [
    {
     "name": "stdout",
     "output_type": "stream",
     "text": [
      "0      1983.8\n",
      "119     466.1\n",
      "238     298.3\n",
      "357     484.8\n",
      "Name: DeathRate, dtype: float64\n"
     ]
    }
   ],
   "source": [
    "# Using dot notation, access data using query() for DeathRate and display first 5 records\n",
    "print(mortality_data.query('Year == 1900').DeathRate.head())"
   ]
  },
  {
   "cell_type": "code",
   "execution_count": 45,
   "id": "cda31c1d-4df9-4a48-8c72-a4c1b8dbc24d",
   "metadata": {
    "tags": []
   },
   "outputs": [
    {
     "name": "stdout",
     "output_type": "stream",
     "text": [
      "0      1983.8\n",
      "119     466.1\n",
      "238     298.3\n",
      "357     484.8\n",
      "Name: DeathRate, dtype: float64\n"
     ]
    }
   ],
   "source": [
    "# Using single bracket notation, do same as above\n",
    "print(mortality_data.query('Year == 1900')['DeathRate'].head())"
   ]
  },
  {
   "cell_type": "code",
   "execution_count": 46,
   "id": "f97e5029-dbea-44c2-a26d-3d4b54c4b263",
   "metadata": {
    "tags": []
   },
   "outputs": [
    {
     "name": "stdout",
     "output_type": "stream",
     "text": [
      "     DeathRate\n",
      "0       1983.8\n",
      "119      466.1\n",
      "238      298.3\n",
      "357      484.8\n"
     ]
    }
   ],
   "source": [
    "# Using double bracket notation, do same as above\n",
    "print(mortality_data.query('Year == 1900')[['DeathRate']].head())"
   ]
  },
  {
   "cell_type": "code",
   "execution_count": 47,
   "id": "cf8991f6-4b8c-4629-9588-57de4fdc7ea1",
   "metadata": {
    "tags": []
   },
   "outputs": [
    {
     "name": "stdout",
     "output_type": "stream",
     "text": [
      "<class 'pandas.core.series.Series'>\n"
     ]
    }
   ],
   "source": [
    "# Display data type of dot notation used above\n",
    "print(type(mortality_data.query('Year == 1900').DeathRate.head()))"
   ]
  },
  {
   "cell_type": "code",
   "execution_count": 48,
   "id": "9e168943-a74d-43e7-8f55-8c0adf48152d",
   "metadata": {
    "tags": []
   },
   "outputs": [
    {
     "name": "stdout",
     "output_type": "stream",
     "text": [
      "<class 'pandas.core.series.Series'>\n"
     ]
    }
   ],
   "source": [
    "# Display data type of single bracket notation used above\n",
    "print(type(mortality_data.query('Year == 1900')['DeathRate'].head()))"
   ]
  },
  {
   "cell_type": "code",
   "execution_count": 49,
   "id": "737d6421-3eeb-4a1b-a01b-f980f46590ee",
   "metadata": {
    "tags": []
   },
   "outputs": [
    {
     "name": "stdout",
     "output_type": "stream",
     "text": [
      "<class 'pandas.core.frame.DataFrame'>\n"
     ]
    }
   ],
   "source": [
    "# Display data type of double bracket notation used above\n",
    "print(type(mortality_data.query('Year == 1900')[['DeathRate']].head()))"
   ]
  },
  {
   "cell_type": "code",
   "execution_count": 50,
   "id": "34048191-6280-4df7-87a6-4c41f9182946",
   "metadata": {
    "tags": []
   },
   "outputs": [
    {
     "name": "stdout",
     "output_type": "stream",
     "text": [
      "        AgeGroup  DeathRate\n",
      "0      1-4 Years     1983.8\n",
      "119    5-9 Years      466.1\n",
      "238  10-14 Years      298.3\n",
      "357  15-19 Years      484.8\n"
     ]
    }
   ],
   "source": [
    "# Using double bracket notation do same above\n",
    "print(mortality_data.query('Year == 1900')[['AgeGroup', 'DeathRate']].head())"
   ]
  },
  {
   "cell_type": "markdown",
   "id": "14c7b934-cf2b-423e-b8ff-aaed34748336",
   "metadata": {},
   "source": [
    "### Access rows with loc[] accessor"
   ]
  },
  {
   "cell_type": "code",
   "execution_count": 52,
   "id": "8c29eca1-0bf4-42c0-b387-3802c278b6ca",
   "metadata": {
    "tags": []
   },
   "outputs": [
    {
     "data": {
      "text/html": [
       "<div>\n",
       "<style scoped>\n",
       "    .dataframe tbody tr th:only-of-type {\n",
       "        vertical-align: middle;\n",
       "    }\n",
       "\n",
       "    .dataframe tbody tr th {\n",
       "        vertical-align: top;\n",
       "    }\n",
       "\n",
       "    .dataframe thead th {\n",
       "        text-align: right;\n",
       "    }\n",
       "</style>\n",
       "<table border=\"1\" class=\"dataframe\">\n",
       "  <thead>\n",
       "    <tr style=\"text-align: right;\">\n",
       "      <th></th>\n",
       "      <th>Year</th>\n",
       "      <th>AgeGroup</th>\n",
       "      <th>DeathRate</th>\n",
       "    </tr>\n",
       "  </thead>\n",
       "  <tbody>\n",
       "    <tr>\n",
       "      <th>0</th>\n",
       "      <td>1900</td>\n",
       "      <td>1-4 Years</td>\n",
       "      <td>1983.8</td>\n",
       "    </tr>\n",
       "    <tr>\n",
       "      <th>5</th>\n",
       "      <td>1905</td>\n",
       "      <td>1-4 Years</td>\n",
       "      <td>1498.9</td>\n",
       "    </tr>\n",
       "    <tr>\n",
       "      <th>10</th>\n",
       "      <td>1910</td>\n",
       "      <td>1-4 Years</td>\n",
       "      <td>1397.3</td>\n",
       "    </tr>\n",
       "  </tbody>\n",
       "</table>\n",
       "</div>"
      ],
      "text/plain": [
       "    Year   AgeGroup  DeathRate\n",
       "0   1900  1-4 Years     1983.8\n",
       "5   1905  1-4 Years     1498.9\n",
       "10  1910  1-4 Years     1397.3"
      ]
     },
     "execution_count": 52,
     "metadata": {},
     "output_type": "execute_result"
    }
   ],
   "source": [
    "# Display row values for 0, 5, and 10 index 'labels'\n",
    "mortality_data.loc[[0,5,10]]"
   ]
  },
  {
   "cell_type": "code",
   "execution_count": 53,
   "id": "74689fc3-0f27-4b11-9685-82bb635a2f1e",
   "metadata": {
    "tags": []
   },
   "outputs": [
    {
     "data": {
      "text/html": [
       "<div>\n",
       "<style scoped>\n",
       "    .dataframe tbody tr th:only-of-type {\n",
       "        vertical-align: middle;\n",
       "    }\n",
       "\n",
       "    .dataframe tbody tr th {\n",
       "        vertical-align: top;\n",
       "    }\n",
       "\n",
       "    .dataframe thead th {\n",
       "        text-align: right;\n",
       "    }\n",
       "</style>\n",
       "<table border=\"1\" class=\"dataframe\">\n",
       "  <thead>\n",
       "    <tr style=\"text-align: right;\">\n",
       "      <th></th>\n",
       "      <th>Year</th>\n",
       "      <th>AgeGroup</th>\n",
       "      <th>DeathRate</th>\n",
       "    </tr>\n",
       "  </thead>\n",
       "  <tbody>\n",
       "    <tr>\n",
       "      <th>0</th>\n",
       "      <td>1900</td>\n",
       "      <td>1-4 Years</td>\n",
       "      <td>1983.8</td>\n",
       "    </tr>\n",
       "    <tr>\n",
       "      <th>1</th>\n",
       "      <td>1901</td>\n",
       "      <td>1-4 Years</td>\n",
       "      <td>1695.0</td>\n",
       "    </tr>\n",
       "    <tr>\n",
       "      <th>2</th>\n",
       "      <td>1902</td>\n",
       "      <td>1-4 Years</td>\n",
       "      <td>1655.7</td>\n",
       "    </tr>\n",
       "    <tr>\n",
       "      <th>3</th>\n",
       "      <td>1903</td>\n",
       "      <td>1-4 Years</td>\n",
       "      <td>1542.1</td>\n",
       "    </tr>\n",
       "    <tr>\n",
       "      <th>4</th>\n",
       "      <td>1904</td>\n",
       "      <td>1-4 Years</td>\n",
       "      <td>1591.5</td>\n",
       "    </tr>\n",
       "    <tr>\n",
       "      <th>5</th>\n",
       "      <td>1905</td>\n",
       "      <td>1-4 Years</td>\n",
       "      <td>1498.9</td>\n",
       "    </tr>\n",
       "    <tr>\n",
       "      <th>6</th>\n",
       "      <td>1906</td>\n",
       "      <td>1-4 Years</td>\n",
       "      <td>1580.0</td>\n",
       "    </tr>\n",
       "    <tr>\n",
       "      <th>7</th>\n",
       "      <td>1907</td>\n",
       "      <td>1-4 Years</td>\n",
       "      <td>1468.3</td>\n",
       "    </tr>\n",
       "    <tr>\n",
       "      <th>8</th>\n",
       "      <td>1908</td>\n",
       "      <td>1-4 Years</td>\n",
       "      <td>1396.8</td>\n",
       "    </tr>\n",
       "    <tr>\n",
       "      <th>9</th>\n",
       "      <td>1909</td>\n",
       "      <td>1-4 Years</td>\n",
       "      <td>1348.9</td>\n",
       "    </tr>\n",
       "    <tr>\n",
       "      <th>10</th>\n",
       "      <td>1910</td>\n",
       "      <td>1-4 Years</td>\n",
       "      <td>1397.3</td>\n",
       "    </tr>\n",
       "  </tbody>\n",
       "</table>\n",
       "</div>"
      ],
      "text/plain": [
       "    Year   AgeGroup  DeathRate\n",
       "0   1900  1-4 Years     1983.8\n",
       "1   1901  1-4 Years     1695.0\n",
       "2   1902  1-4 Years     1655.7\n",
       "3   1903  1-4 Years     1542.1\n",
       "4   1904  1-4 Years     1591.5\n",
       "5   1905  1-4 Years     1498.9\n",
       "6   1906  1-4 Years     1580.0\n",
       "7   1907  1-4 Years     1468.3\n",
       "8   1908  1-4 Years     1396.8\n",
       "9   1909  1-4 Years     1348.9\n",
       "10  1910  1-4 Years     1397.3"
      ]
     },
     "execution_count": 53,
     "metadata": {},
     "output_type": "execute_result"
    }
   ],
   "source": [
    "# Verify index 'labels' and row values\n",
    "mortality_data.head(11)"
   ]
  },
  {
   "cell_type": "code",
   "execution_count": 54,
   "id": "851539fa-58c5-400c-9e28-44976f81bcfe",
   "metadata": {
    "tags": []
   },
   "outputs": [
    {
     "data": {
      "text/html": [
       "<div>\n",
       "<style scoped>\n",
       "    .dataframe tbody tr th:only-of-type {\n",
       "        vertical-align: middle;\n",
       "    }\n",
       "\n",
       "    .dataframe tbody tr th {\n",
       "        vertical-align: top;\n",
       "    }\n",
       "\n",
       "    .dataframe thead th {\n",
       "        text-align: right;\n",
       "    }\n",
       "</style>\n",
       "<table border=\"1\" class=\"dataframe\">\n",
       "  <thead>\n",
       "    <tr style=\"text-align: right;\">\n",
       "      <th></th>\n",
       "      <th>Year</th>\n",
       "      <th>AgeGroup</th>\n",
       "      <th>DeathRate</th>\n",
       "    </tr>\n",
       "  </thead>\n",
       "  <tbody>\n",
       "    <tr>\n",
       "      <th>4</th>\n",
       "      <td>1904</td>\n",
       "      <td>1-4 Years</td>\n",
       "      <td>1591.5</td>\n",
       "    </tr>\n",
       "    <tr>\n",
       "      <th>5</th>\n",
       "      <td>1905</td>\n",
       "      <td>1-4 Years</td>\n",
       "      <td>1498.9</td>\n",
       "    </tr>\n",
       "    <tr>\n",
       "      <th>6</th>\n",
       "      <td>1906</td>\n",
       "      <td>1-4 Years</td>\n",
       "      <td>1580.0</td>\n",
       "    </tr>\n",
       "  </tbody>\n",
       "</table>\n",
       "</div>"
      ],
      "text/plain": [
       "   Year   AgeGroup  DeathRate\n",
       "4  1904  1-4 Years     1591.5\n",
       "5  1905  1-4 Years     1498.9\n",
       "6  1906  1-4 Years     1580.0"
      ]
     },
     "execution_count": 54,
     "metadata": {},
     "output_type": "execute_result"
    }
   ],
   "source": [
    "# Access rows using *slice*\n",
    "mortality_data.loc[4:6]"
   ]
  },
  {
   "cell_type": "code",
   "execution_count": 55,
   "id": "7fceaa32-3a57-424d-815d-401250f70d98",
   "metadata": {
    "tags": []
   },
   "outputs": [
    {
     "data": {
      "text/html": [
       "<div>\n",
       "<style scoped>\n",
       "    .dataframe tbody tr th:only-of-type {\n",
       "        vertical-align: middle;\n",
       "    }\n",
       "\n",
       "    .dataframe tbody tr th {\n",
       "        vertical-align: top;\n",
       "    }\n",
       "\n",
       "    .dataframe thead th {\n",
       "        text-align: right;\n",
       "    }\n",
       "</style>\n",
       "<table border=\"1\" class=\"dataframe\">\n",
       "  <thead>\n",
       "    <tr style=\"text-align: right;\">\n",
       "      <th></th>\n",
       "      <th>Year</th>\n",
       "      <th>AgeGroup</th>\n",
       "      <th>DeathRate</th>\n",
       "    </tr>\n",
       "  </thead>\n",
       "  <tbody>\n",
       "    <tr>\n",
       "      <th>0</th>\n",
       "      <td>1900</td>\n",
       "      <td>1-4 Years</td>\n",
       "      <td>1983.8</td>\n",
       "    </tr>\n",
       "    <tr>\n",
       "      <th>5</th>\n",
       "      <td>1905</td>\n",
       "      <td>1-4 Years</td>\n",
       "      <td>1498.9</td>\n",
       "    </tr>\n",
       "    <tr>\n",
       "      <th>10</th>\n",
       "      <td>1910</td>\n",
       "      <td>1-4 Years</td>\n",
       "      <td>1397.3</td>\n",
       "    </tr>\n",
       "    <tr>\n",
       "      <th>15</th>\n",
       "      <td>1915</td>\n",
       "      <td>1-4 Years</td>\n",
       "      <td>924.2</td>\n",
       "    </tr>\n",
       "    <tr>\n",
       "      <th>20</th>\n",
       "      <td>1920</td>\n",
       "      <td>1-4 Years</td>\n",
       "      <td>987.2</td>\n",
       "    </tr>\n",
       "  </tbody>\n",
       "</table>\n",
       "</div>"
      ],
      "text/plain": [
       "    Year   AgeGroup  DeathRate\n",
       "0   1900  1-4 Years     1983.8\n",
       "5   1905  1-4 Years     1498.9\n",
       "10  1910  1-4 Years     1397.3\n",
       "15  1915  1-4 Years      924.2\n",
       "20  1920  1-4 Years      987.2"
      ]
     },
     "execution_count": 55,
     "metadata": {},
     "output_type": "execute_result"
    }
   ],
   "source": [
    "# Access rows using *slice*, include start, stop, and step values\n",
    "mortality_data.loc[0:20:5]"
   ]
  },
  {
   "cell_type": "code",
   "execution_count": 56,
   "id": "d32c3cfa-b453-4e6b-b92e-9c6908c6b611",
   "metadata": {
    "tags": []
   },
   "outputs": [
    {
     "data": {
      "text/html": [
       "<div>\n",
       "<style scoped>\n",
       "    .dataframe tbody tr th:only-of-type {\n",
       "        vertical-align: middle;\n",
       "    }\n",
       "\n",
       "    .dataframe tbody tr th {\n",
       "        vertical-align: top;\n",
       "    }\n",
       "\n",
       "    .dataframe thead th {\n",
       "        text-align: right;\n",
       "    }\n",
       "</style>\n",
       "<table border=\"1\" class=\"dataframe\">\n",
       "  <thead>\n",
       "    <tr style=\"text-align: right;\">\n",
       "      <th></th>\n",
       "      <th>Year</th>\n",
       "      <th>AgeGroup</th>\n",
       "      <th>DeathRate</th>\n",
       "    </tr>\n",
       "  </thead>\n",
       "  <tbody>\n",
       "    <tr>\n",
       "      <th>17</th>\n",
       "      <td>1917</td>\n",
       "      <td>1-4 Years</td>\n",
       "      <td>1066.0</td>\n",
       "    </tr>\n",
       "    <tr>\n",
       "      <th>136</th>\n",
       "      <td>1917</td>\n",
       "      <td>5-9 Years</td>\n",
       "      <td>290.7</td>\n",
       "    </tr>\n",
       "    <tr>\n",
       "      <th>255</th>\n",
       "      <td>1917</td>\n",
       "      <td>10-14 Years</td>\n",
       "      <td>218.9</td>\n",
       "    </tr>\n",
       "    <tr>\n",
       "      <th>374</th>\n",
       "      <td>1917</td>\n",
       "      <td>15-19 Years</td>\n",
       "      <td>380.3</td>\n",
       "    </tr>\n",
       "  </tbody>\n",
       "</table>\n",
       "</div>"
      ],
      "text/plain": [
       "     Year     AgeGroup  DeathRate\n",
       "17   1917    1-4 Years     1066.0\n",
       "136  1917    5-9 Years      290.7\n",
       "255  1917  10-14 Years      218.9\n",
       "374  1917  15-19 Years      380.3"
      ]
     },
     "execution_count": 56,
     "metadata": {},
     "output_type": "execute_result"
    }
   ],
   "source": [
    "# Access rows using conditional expression\n",
    "mortality_data.loc[mortality_data.Year == 1917]"
   ]
  },
  {
   "cell_type": "markdown",
   "id": "c786a9d8-f878-46a8-bf83-7e191c4e5f56",
   "metadata": {},
   "source": [
    "### Access rows and columns with loc[] accessor"
   ]
  },
  {
   "cell_type": "code",
   "execution_count": 58,
   "id": "f9a767ed-d15e-4893-9edf-f7927e34220e",
   "metadata": {
    "tags": []
   },
   "outputs": [
    {
     "data": {
      "text/html": [
       "<div>\n",
       "<style scoped>\n",
       "    .dataframe tbody tr th:only-of-type {\n",
       "        vertical-align: middle;\n",
       "    }\n",
       "\n",
       "    .dataframe tbody tr th {\n",
       "        vertical-align: top;\n",
       "    }\n",
       "\n",
       "    .dataframe thead th {\n",
       "        text-align: right;\n",
       "    }\n",
       "</style>\n",
       "<table border=\"1\" class=\"dataframe\">\n",
       "  <thead>\n",
       "    <tr style=\"text-align: right;\">\n",
       "      <th></th>\n",
       "      <th>Year</th>\n",
       "      <th>AgeGroup</th>\n",
       "    </tr>\n",
       "  </thead>\n",
       "  <tbody>\n",
       "    <tr>\n",
       "      <th>0</th>\n",
       "      <td>1900</td>\n",
       "      <td>1-4 Years</td>\n",
       "    </tr>\n",
       "    <tr>\n",
       "      <th>1</th>\n",
       "      <td>1901</td>\n",
       "      <td>1-4 Years</td>\n",
       "    </tr>\n",
       "    <tr>\n",
       "      <th>2</th>\n",
       "      <td>1902</td>\n",
       "      <td>1-4 Years</td>\n",
       "    </tr>\n",
       "    <tr>\n",
       "      <th>3</th>\n",
       "      <td>1903</td>\n",
       "      <td>1-4 Years</td>\n",
       "    </tr>\n",
       "    <tr>\n",
       "      <th>4</th>\n",
       "      <td>1904</td>\n",
       "      <td>1-4 Years</td>\n",
       "    </tr>\n",
       "    <tr>\n",
       "      <th>...</th>\n",
       "      <td>...</td>\n",
       "      <td>...</td>\n",
       "    </tr>\n",
       "    <tr>\n",
       "      <th>471</th>\n",
       "      <td>2014</td>\n",
       "      <td>15-19 Years</td>\n",
       "    </tr>\n",
       "    <tr>\n",
       "      <th>472</th>\n",
       "      <td>2015</td>\n",
       "      <td>15-19 Years</td>\n",
       "    </tr>\n",
       "    <tr>\n",
       "      <th>473</th>\n",
       "      <td>2016</td>\n",
       "      <td>15-19 Years</td>\n",
       "    </tr>\n",
       "    <tr>\n",
       "      <th>474</th>\n",
       "      <td>2017</td>\n",
       "      <td>15-19 Years</td>\n",
       "    </tr>\n",
       "    <tr>\n",
       "      <th>475</th>\n",
       "      <td>2018</td>\n",
       "      <td>15-19 Years</td>\n",
       "    </tr>\n",
       "  </tbody>\n",
       "</table>\n",
       "<p>476 rows × 2 columns</p>\n",
       "</div>"
      ],
      "text/plain": [
       "     Year     AgeGroup\n",
       "0    1900    1-4 Years\n",
       "1    1901    1-4 Years\n",
       "2    1902    1-4 Years\n",
       "3    1903    1-4 Years\n",
       "4    1904    1-4 Years\n",
       "..    ...          ...\n",
       "471  2014  15-19 Years\n",
       "472  2015  15-19 Years\n",
       "473  2016  15-19 Years\n",
       "474  2017  15-19 Years\n",
       "475  2018  15-19 Years\n",
       "\n",
       "[476 rows x 2 columns]"
      ]
     },
     "execution_count": 58,
     "metadata": {},
     "output_type": "execute_result"
    }
   ],
   "source": [
    "# Display first and last 5 rows, of Year and AgeGroup columns\n",
    "mortality_data.loc[:, ['Year', 'AgeGroup']]"
   ]
  },
  {
   "cell_type": "markdown",
   "id": "1873307c-f3e6-48b6-8108-19825d7e579d",
   "metadata": {},
   "source": [
    "### Access subset of rows and columns with loc[] accessor"
   ]
  },
  {
   "cell_type": "code",
   "execution_count": 60,
   "id": "5930dedf-34de-4ce1-bf05-7ff52a2d60cd",
   "metadata": {
    "tags": []
   },
   "outputs": [
    {
     "data": {
      "text/html": [
       "<div>\n",
       "<style scoped>\n",
       "    .dataframe tbody tr th:only-of-type {\n",
       "        vertical-align: middle;\n",
       "    }\n",
       "\n",
       "    .dataframe tbody tr th {\n",
       "        vertical-align: top;\n",
       "    }\n",
       "\n",
       "    .dataframe thead th {\n",
       "        text-align: right;\n",
       "    }\n",
       "</style>\n",
       "<table border=\"1\" class=\"dataframe\">\n",
       "  <thead>\n",
       "    <tr style=\"text-align: right;\">\n",
       "      <th></th>\n",
       "      <th>AgeGroup</th>\n",
       "      <th>DeathRate</th>\n",
       "    </tr>\n",
       "  </thead>\n",
       "  <tbody>\n",
       "    <tr>\n",
       "      <th>0</th>\n",
       "      <td>1-4 Years</td>\n",
       "      <td>1983.8</td>\n",
       "    </tr>\n",
       "    <tr>\n",
       "      <th>5</th>\n",
       "      <td>1-4 Years</td>\n",
       "      <td>1498.9</td>\n",
       "    </tr>\n",
       "    <tr>\n",
       "      <th>10</th>\n",
       "      <td>1-4 Years</td>\n",
       "      <td>1397.3</td>\n",
       "    </tr>\n",
       "  </tbody>\n",
       "</table>\n",
       "</div>"
      ],
      "text/plain": [
       "     AgeGroup  DeathRate\n",
       "0   1-4 Years     1983.8\n",
       "5   1-4 Years     1498.9\n",
       "10  1-4 Years     1397.3"
      ]
     },
     "execution_count": 60,
     "metadata": {},
     "output_type": "execute_result"
    }
   ],
   "source": [
    "# Using loc[] accessor with lists for row and column labels, display row values for 0, 5, and 10 index 'labels'\n",
    "mortality_data.loc[[0,5,10],['AgeGroup', 'DeathRate']]"
   ]
  },
  {
   "cell_type": "code",
   "execution_count": 61,
   "id": "a5579de7-bef6-4978-bce9-68c87b975cf7",
   "metadata": {
    "tags": []
   },
   "outputs": [
    {
     "data": {
      "text/html": [
       "<div>\n",
       "<style scoped>\n",
       "    .dataframe tbody tr th:only-of-type {\n",
       "        vertical-align: middle;\n",
       "    }\n",
       "\n",
       "    .dataframe tbody tr th {\n",
       "        vertical-align: top;\n",
       "    }\n",
       "\n",
       "    .dataframe thead th {\n",
       "        text-align: right;\n",
       "    }\n",
       "</style>\n",
       "<table border=\"1\" class=\"dataframe\">\n",
       "  <thead>\n",
       "    <tr style=\"text-align: right;\">\n",
       "      <th></th>\n",
       "      <th>AgeGroup</th>\n",
       "      <th>DeathRate</th>\n",
       "    </tr>\n",
       "  </thead>\n",
       "  <tbody>\n",
       "    <tr>\n",
       "      <th>4</th>\n",
       "      <td>1-4 Years</td>\n",
       "      <td>1591.5</td>\n",
       "    </tr>\n",
       "    <tr>\n",
       "      <th>5</th>\n",
       "      <td>1-4 Years</td>\n",
       "      <td>1498.9</td>\n",
       "    </tr>\n",
       "    <tr>\n",
       "      <th>6</th>\n",
       "      <td>1-4 Years</td>\n",
       "      <td>1580.0</td>\n",
       "    </tr>\n",
       "  </tbody>\n",
       "</table>\n",
       "</div>"
      ],
      "text/plain": [
       "    AgeGroup  DeathRate\n",
       "4  1-4 Years     1591.5\n",
       "5  1-4 Years     1498.9\n",
       "6  1-4 Years     1580.0"
      ]
     },
     "execution_count": 61,
     "metadata": {},
     "output_type": "execute_result"
    }
   ],
   "source": [
    "# Here, using slices of rows and column labels\n",
    "mortality_data.loc[4:6, 'AgeGroup': 'DeathRate']"
   ]
  },
  {
   "cell_type": "markdown",
   "id": "a0bff3c2-4b2a-4636-95f8-0fb7e8d52b7a",
   "metadata": {},
   "source": [
    "### Access rows with iloc[] accessor"
   ]
  },
  {
   "cell_type": "code",
   "execution_count": 63,
   "id": "76a3d9b4-f6c0-4103-82a3-9297c8765290",
   "metadata": {
    "tags": []
   },
   "outputs": [
    {
     "data": {
      "text/html": [
       "<div>\n",
       "<style scoped>\n",
       "    .dataframe tbody tr th:only-of-type {\n",
       "        vertical-align: middle;\n",
       "    }\n",
       "\n",
       "    .dataframe tbody tr th {\n",
       "        vertical-align: top;\n",
       "    }\n",
       "\n",
       "    .dataframe thead th {\n",
       "        text-align: right;\n",
       "    }\n",
       "</style>\n",
       "<table border=\"1\" class=\"dataframe\">\n",
       "  <thead>\n",
       "    <tr style=\"text-align: right;\">\n",
       "      <th></th>\n",
       "      <th>Year</th>\n",
       "      <th>AgeGroup</th>\n",
       "      <th>DeathRate</th>\n",
       "    </tr>\n",
       "  </thead>\n",
       "  <tbody>\n",
       "    <tr>\n",
       "      <th>0</th>\n",
       "      <td>1900</td>\n",
       "      <td>1-4 Years</td>\n",
       "      <td>1983.8</td>\n",
       "    </tr>\n",
       "    <tr>\n",
       "      <th>5</th>\n",
       "      <td>1905</td>\n",
       "      <td>1-4 Years</td>\n",
       "      <td>1498.9</td>\n",
       "    </tr>\n",
       "    <tr>\n",
       "      <th>10</th>\n",
       "      <td>1910</td>\n",
       "      <td>1-4 Years</td>\n",
       "      <td>1397.3</td>\n",
       "    </tr>\n",
       "  </tbody>\n",
       "</table>\n",
       "</div>"
      ],
      "text/plain": [
       "    Year   AgeGroup  DeathRate\n",
       "0   1900  1-4 Years     1983.8\n",
       "5   1905  1-4 Years     1498.9\n",
       "10  1910  1-4 Years     1397.3"
      ]
     },
     "execution_count": 63,
     "metadata": {},
     "output_type": "execute_result"
    }
   ],
   "source": [
    "# Display first, sixth, and 11th rows\n",
    "mortality_data.iloc[[0,5,10]]"
   ]
  },
  {
   "cell_type": "code",
   "execution_count": 64,
   "id": "e04a7d2c-7bb1-4311-9663-1046cfff7342",
   "metadata": {
    "tags": []
   },
   "outputs": [
    {
     "data": {
      "text/html": [
       "<div>\n",
       "<style scoped>\n",
       "    .dataframe tbody tr th:only-of-type {\n",
       "        vertical-align: middle;\n",
       "    }\n",
       "\n",
       "    .dataframe tbody tr th {\n",
       "        vertical-align: top;\n",
       "    }\n",
       "\n",
       "    .dataframe thead th {\n",
       "        text-align: right;\n",
       "    }\n",
       "</style>\n",
       "<table border=\"1\" class=\"dataframe\">\n",
       "  <thead>\n",
       "    <tr style=\"text-align: right;\">\n",
       "      <th></th>\n",
       "      <th>Year</th>\n",
       "      <th>AgeGroup</th>\n",
       "      <th>DeathRate</th>\n",
       "    </tr>\n",
       "  </thead>\n",
       "  <tbody>\n",
       "    <tr>\n",
       "      <th>0</th>\n",
       "      <td>1900</td>\n",
       "      <td>1-4 Years</td>\n",
       "      <td>1983.8</td>\n",
       "    </tr>\n",
       "    <tr>\n",
       "      <th>1</th>\n",
       "      <td>1901</td>\n",
       "      <td>1-4 Years</td>\n",
       "      <td>1695.0</td>\n",
       "    </tr>\n",
       "    <tr>\n",
       "      <th>2</th>\n",
       "      <td>1902</td>\n",
       "      <td>1-4 Years</td>\n",
       "      <td>1655.7</td>\n",
       "    </tr>\n",
       "    <tr>\n",
       "      <th>3</th>\n",
       "      <td>1903</td>\n",
       "      <td>1-4 Years</td>\n",
       "      <td>1542.1</td>\n",
       "    </tr>\n",
       "    <tr>\n",
       "      <th>4</th>\n",
       "      <td>1904</td>\n",
       "      <td>1-4 Years</td>\n",
       "      <td>1591.5</td>\n",
       "    </tr>\n",
       "    <tr>\n",
       "      <th>5</th>\n",
       "      <td>1905</td>\n",
       "      <td>1-4 Years</td>\n",
       "      <td>1498.9</td>\n",
       "    </tr>\n",
       "    <tr>\n",
       "      <th>6</th>\n",
       "      <td>1906</td>\n",
       "      <td>1-4 Years</td>\n",
       "      <td>1580.0</td>\n",
       "    </tr>\n",
       "    <tr>\n",
       "      <th>7</th>\n",
       "      <td>1907</td>\n",
       "      <td>1-4 Years</td>\n",
       "      <td>1468.3</td>\n",
       "    </tr>\n",
       "    <tr>\n",
       "      <th>8</th>\n",
       "      <td>1908</td>\n",
       "      <td>1-4 Years</td>\n",
       "      <td>1396.8</td>\n",
       "    </tr>\n",
       "    <tr>\n",
       "      <th>9</th>\n",
       "      <td>1909</td>\n",
       "      <td>1-4 Years</td>\n",
       "      <td>1348.9</td>\n",
       "    </tr>\n",
       "    <tr>\n",
       "      <th>10</th>\n",
       "      <td>1910</td>\n",
       "      <td>1-4 Years</td>\n",
       "      <td>1397.3</td>\n",
       "    </tr>\n",
       "  </tbody>\n",
       "</table>\n",
       "</div>"
      ],
      "text/plain": [
       "    Year   AgeGroup  DeathRate\n",
       "0   1900  1-4 Years     1983.8\n",
       "1   1901  1-4 Years     1695.0\n",
       "2   1902  1-4 Years     1655.7\n",
       "3   1903  1-4 Years     1542.1\n",
       "4   1904  1-4 Years     1591.5\n",
       "5   1905  1-4 Years     1498.9\n",
       "6   1906  1-4 Years     1580.0\n",
       "7   1907  1-4 Years     1468.3\n",
       "8   1908  1-4 Years     1396.8\n",
       "9   1909  1-4 Years     1348.9\n",
       "10  1910  1-4 Years     1397.3"
      ]
     },
     "execution_count": 64,
     "metadata": {},
     "output_type": "execute_result"
    }
   ],
   "source": [
    "# Verify index 'positions' and row values\n",
    "mortality_data.head(11)"
   ]
  },
  {
   "cell_type": "code",
   "execution_count": 65,
   "id": "b61e6851-1803-477c-a733-f105381d0279",
   "metadata": {
    "tags": []
   },
   "outputs": [
    {
     "data": {
      "text/html": [
       "<div>\n",
       "<style scoped>\n",
       "    .dataframe tbody tr th:only-of-type {\n",
       "        vertical-align: middle;\n",
       "    }\n",
       "\n",
       "    .dataframe tbody tr th {\n",
       "        vertical-align: top;\n",
       "    }\n",
       "\n",
       "    .dataframe thead th {\n",
       "        text-align: right;\n",
       "    }\n",
       "</style>\n",
       "<table border=\"1\" class=\"dataframe\">\n",
       "  <thead>\n",
       "    <tr style=\"text-align: right;\">\n",
       "      <th></th>\n",
       "      <th>Year</th>\n",
       "      <th>AgeGroup</th>\n",
       "      <th>DeathRate</th>\n",
       "    </tr>\n",
       "  </thead>\n",
       "  <tbody>\n",
       "    <tr>\n",
       "      <th>4</th>\n",
       "      <td>1904</td>\n",
       "      <td>1-4 Years</td>\n",
       "      <td>1591.5</td>\n",
       "    </tr>\n",
       "    <tr>\n",
       "      <th>5</th>\n",
       "      <td>1905</td>\n",
       "      <td>1-4 Years</td>\n",
       "      <td>1498.9</td>\n",
       "    </tr>\n",
       "  </tbody>\n",
       "</table>\n",
       "</div>"
      ],
      "text/plain": [
       "   Year   AgeGroup  DeathRate\n",
       "4  1904  1-4 Years     1591.5\n",
       "5  1905  1-4 Years     1498.9"
      ]
     },
     "execution_count": 65,
     "metadata": {},
     "output_type": "execute_result"
    }
   ],
   "source": [
    "# Access rows using *slice*\n",
    "mortality_data.iloc[4:6]"
   ]
  },
  {
   "cell_type": "code",
   "execution_count": 66,
   "id": "4a1271aa-366e-453d-bb4a-2fa3de14d351",
   "metadata": {
    "tags": []
   },
   "outputs": [
    {
     "data": {
      "text/html": [
       "<div>\n",
       "<style scoped>\n",
       "    .dataframe tbody tr th:only-of-type {\n",
       "        vertical-align: middle;\n",
       "    }\n",
       "\n",
       "    .dataframe tbody tr th {\n",
       "        vertical-align: top;\n",
       "    }\n",
       "\n",
       "    .dataframe thead th {\n",
       "        text-align: right;\n",
       "    }\n",
       "</style>\n",
       "<table border=\"1\" class=\"dataframe\">\n",
       "  <thead>\n",
       "    <tr style=\"text-align: right;\">\n",
       "      <th></th>\n",
       "      <th>Year</th>\n",
       "      <th>AgeGroup</th>\n",
       "      <th>DeathRate</th>\n",
       "    </tr>\n",
       "  </thead>\n",
       "  <tbody>\n",
       "    <tr>\n",
       "      <th>0</th>\n",
       "      <td>1900</td>\n",
       "      <td>1-4 Years</td>\n",
       "      <td>1983.8</td>\n",
       "    </tr>\n",
       "    <tr>\n",
       "      <th>5</th>\n",
       "      <td>1905</td>\n",
       "      <td>1-4 Years</td>\n",
       "      <td>1498.9</td>\n",
       "    </tr>\n",
       "    <tr>\n",
       "      <th>10</th>\n",
       "      <td>1910</td>\n",
       "      <td>1-4 Years</td>\n",
       "      <td>1397.3</td>\n",
       "    </tr>\n",
       "    <tr>\n",
       "      <th>15</th>\n",
       "      <td>1915</td>\n",
       "      <td>1-4 Years</td>\n",
       "      <td>924.2</td>\n",
       "    </tr>\n",
       "  </tbody>\n",
       "</table>\n",
       "</div>"
      ],
      "text/plain": [
       "    Year   AgeGroup  DeathRate\n",
       "0   1900  1-4 Years     1983.8\n",
       "5   1905  1-4 Years     1498.9\n",
       "10  1910  1-4 Years     1397.3\n",
       "15  1915  1-4 Years      924.2"
      ]
     },
     "execution_count": 66,
     "metadata": {},
     "output_type": "execute_result"
    }
   ],
   "source": [
    "# Access rows using *slice*, include start, stop, and step values\n",
    "mortality_data.iloc[0:20:5]"
   ]
  },
  {
   "cell_type": "markdown",
   "id": "47c34dc1-d016-4e72-9085-ccdf2f1d109c",
   "metadata": {},
   "source": [
    "### Access subset of rows and columns with iloc[] accessor -- can use negative values"
   ]
  },
  {
   "cell_type": "code",
   "execution_count": 68,
   "id": "951b6418-cf98-4234-9a95-62a1571e95f8",
   "metadata": {
    "tags": []
   },
   "outputs": [
    {
     "data": {
      "text/html": [
       "<div>\n",
       "<style scoped>\n",
       "    .dataframe tbody tr th:only-of-type {\n",
       "        vertical-align: middle;\n",
       "    }\n",
       "\n",
       "    .dataframe tbody tr th {\n",
       "        vertical-align: top;\n",
       "    }\n",
       "\n",
       "    .dataframe thead th {\n",
       "        text-align: right;\n",
       "    }\n",
       "</style>\n",
       "<table border=\"1\" class=\"dataframe\">\n",
       "  <thead>\n",
       "    <tr style=\"text-align: right;\">\n",
       "      <th></th>\n",
       "      <th>AgeGroup</th>\n",
       "      <th>DeathRate</th>\n",
       "    </tr>\n",
       "  </thead>\n",
       "  <tbody>\n",
       "    <tr>\n",
       "      <th>0</th>\n",
       "      <td>1-4 Years</td>\n",
       "      <td>1983.8</td>\n",
       "    </tr>\n",
       "    <tr>\n",
       "      <th>5</th>\n",
       "      <td>1-4 Years</td>\n",
       "      <td>1498.9</td>\n",
       "    </tr>\n",
       "    <tr>\n",
       "      <th>10</th>\n",
       "      <td>1-4 Years</td>\n",
       "      <td>1397.3</td>\n",
       "    </tr>\n",
       "  </tbody>\n",
       "</table>\n",
       "</div>"
      ],
      "text/plain": [
       "     AgeGroup  DeathRate\n",
       "0   1-4 Years     1983.8\n",
       "5   1-4 Years     1498.9\n",
       "10  1-4 Years     1397.3"
      ]
     },
     "execution_count": 68,
     "metadata": {},
     "output_type": "execute_result"
    }
   ],
   "source": [
    "# Display rows and columns using index positions and lists\n",
    "mortality_data.iloc[[0,5,10],[1,2]]"
   ]
  },
  {
   "cell_type": "code",
   "execution_count": 69,
   "id": "44317c31-b95f-4a60-a0aa-b88c8d0046f9",
   "metadata": {
    "tags": []
   },
   "outputs": [
    {
     "data": {
      "text/html": [
       "<div>\n",
       "<style scoped>\n",
       "    .dataframe tbody tr th:only-of-type {\n",
       "        vertical-align: middle;\n",
       "    }\n",
       "\n",
       "    .dataframe tbody tr th {\n",
       "        vertical-align: top;\n",
       "    }\n",
       "\n",
       "    .dataframe thead th {\n",
       "        text-align: right;\n",
       "    }\n",
       "</style>\n",
       "<table border=\"1\" class=\"dataframe\">\n",
       "  <thead>\n",
       "    <tr style=\"text-align: right;\">\n",
       "      <th></th>\n",
       "      <th>AgeGroup</th>\n",
       "      <th>DeathRate</th>\n",
       "    </tr>\n",
       "  </thead>\n",
       "  <tbody>\n",
       "    <tr>\n",
       "      <th>4</th>\n",
       "      <td>1-4 Years</td>\n",
       "      <td>1591.5</td>\n",
       "    </tr>\n",
       "    <tr>\n",
       "      <th>5</th>\n",
       "      <td>1-4 Years</td>\n",
       "      <td>1498.9</td>\n",
       "    </tr>\n",
       "    <tr>\n",
       "      <th>6</th>\n",
       "      <td>1-4 Years</td>\n",
       "      <td>1580.0</td>\n",
       "    </tr>\n",
       "  </tbody>\n",
       "</table>\n",
       "</div>"
      ],
      "text/plain": [
       "    AgeGroup  DeathRate\n",
       "4  1-4 Years     1591.5\n",
       "5  1-4 Years     1498.9\n",
       "6  1-4 Years     1580.0"
      ]
     },
     "execution_count": 69,
     "metadata": {},
     "output_type": "execute_result"
    }
   ],
   "source": [
    "# Display rows and columns using index positions and slices\n",
    "mortality_data.iloc[4:7,1:3]"
   ]
  },
  {
   "cell_type": "code",
   "execution_count": 70,
   "id": "4e0c118f-0f31-436d-b66b-588e5f060cb1",
   "metadata": {
    "tags": []
   },
   "outputs": [
    {
     "data": {
      "text/html": [
       "<div>\n",
       "<style scoped>\n",
       "    .dataframe tbody tr th:only-of-type {\n",
       "        vertical-align: middle;\n",
       "    }\n",
       "\n",
       "    .dataframe tbody tr th {\n",
       "        vertical-align: top;\n",
       "    }\n",
       "\n",
       "    .dataframe thead th {\n",
       "        text-align: right;\n",
       "    }\n",
       "</style>\n",
       "<table border=\"1\" class=\"dataframe\">\n",
       "  <thead>\n",
       "    <tr style=\"text-align: right;\">\n",
       "      <th></th>\n",
       "      <th>Year</th>\n",
       "      <th>AgeGroup</th>\n",
       "      <th>DeathRate</th>\n",
       "    </tr>\n",
       "  </thead>\n",
       "  <tbody>\n",
       "    <tr>\n",
       "      <th>466</th>\n",
       "      <td>2009</td>\n",
       "      <td>15-19 Years</td>\n",
       "      <td>51.9</td>\n",
       "    </tr>\n",
       "    <tr>\n",
       "      <th>467</th>\n",
       "      <td>2010</td>\n",
       "      <td>15-19 Years</td>\n",
       "      <td>49.4</td>\n",
       "    </tr>\n",
       "    <tr>\n",
       "      <th>468</th>\n",
       "      <td>2011</td>\n",
       "      <td>15-19 Years</td>\n",
       "      <td>48.9</td>\n",
       "    </tr>\n",
       "    <tr>\n",
       "      <th>469</th>\n",
       "      <td>2012</td>\n",
       "      <td>15-19 Years</td>\n",
       "      <td>47.2</td>\n",
       "    </tr>\n",
       "    <tr>\n",
       "      <th>470</th>\n",
       "      <td>2013</td>\n",
       "      <td>15-19 Years</td>\n",
       "      <td>44.8</td>\n",
       "    </tr>\n",
       "    <tr>\n",
       "      <th>471</th>\n",
       "      <td>2014</td>\n",
       "      <td>15-19 Years</td>\n",
       "      <td>45.5</td>\n",
       "    </tr>\n",
       "    <tr>\n",
       "      <th>472</th>\n",
       "      <td>2015</td>\n",
       "      <td>15-19 Years</td>\n",
       "      <td>48.3</td>\n",
       "    </tr>\n",
       "    <tr>\n",
       "      <th>473</th>\n",
       "      <td>2016</td>\n",
       "      <td>15-19 Years</td>\n",
       "      <td>51.2</td>\n",
       "    </tr>\n",
       "    <tr>\n",
       "      <th>474</th>\n",
       "      <td>2017</td>\n",
       "      <td>15-19 Years</td>\n",
       "      <td>51.5</td>\n",
       "    </tr>\n",
       "    <tr>\n",
       "      <th>475</th>\n",
       "      <td>2018</td>\n",
       "      <td>15-19 Years</td>\n",
       "      <td>49.2</td>\n",
       "    </tr>\n",
       "  </tbody>\n",
       "</table>\n",
       "</div>"
      ],
      "text/plain": [
       "     Year     AgeGroup  DeathRate\n",
       "466  2009  15-19 Years       51.9\n",
       "467  2010  15-19 Years       49.4\n",
       "468  2011  15-19 Years       48.9\n",
       "469  2012  15-19 Years       47.2\n",
       "470  2013  15-19 Years       44.8\n",
       "471  2014  15-19 Years       45.5\n",
       "472  2015  15-19 Years       48.3\n",
       "473  2016  15-19 Years       51.2\n",
       "474  2017  15-19 Years       51.5\n",
       "475  2018  15-19 Years       49.2"
      ]
     },
     "execution_count": 70,
     "metadata": {},
     "output_type": "execute_result"
    }
   ],
   "source": [
    "# Use iloc[] accessor with negative values\n",
    "mortality_data.iloc[-10:]"
   ]
  },
  {
   "cell_type": "code",
   "execution_count": null,
   "id": "8787ee03-51bf-4941-94b5-0184b6042063",
   "metadata": {},
   "outputs": [],
   "source": []
  }
 ],
 "metadata": {
  "kernelspec": {
   "display_name": "Python 3 (ipykernel)",
   "language": "python",
   "name": "python3"
  },
  "language_info": {
   "codemirror_mode": {
    "name": "ipython",
    "version": 3
   },
   "file_extension": ".py",
   "mimetype": "text/x-python",
   "name": "python",
   "nbconvert_exporter": "python",
   "pygments_lexer": "ipython3",
   "version": "3.11.7"
  }
 },
 "nbformat": 4,
 "nbformat_minor": 5
}
