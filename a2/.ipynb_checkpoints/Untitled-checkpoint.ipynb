{
 "cells": [
  {
   "cell_type": "markdown",
   "id": "2ac2e4f8-47c7-4a84-9d66-ff49dbce7ee4",
   "metadata": {},
   "source": [
    "### Assignment 2\n",
    "\n",
    "**Developer:** Ryan Parks\n",
    "\n",
    "**Course**: Artificial Intelligence Applications\n",
    "\n",
    "**Semester:** Summer 2024\n",
    "\n",
    "**Program requirements (data analysis and visualization steps):**\n",
    "\n",
    "1. Get\n",
    "2. Clean\n",
    "3. Prepare\n",
    "4. Analyze\n",
    "5. Display/Visualize (preparation)"
   ]
  },
  {
   "cell_type": "code",
   "execution_count": null,
   "id": "e9f058d1-232e-40af-be2c-4a37b6376da9",
   "metadata": {},
   "outputs": [],
   "source": []
  }
 ],
 "metadata": {
  "kernelspec": {
   "display_name": "Python 3 (ipykernel)",
   "language": "python",
   "name": "python3"
  },
  "language_info": {
   "codemirror_mode": {
    "name": "ipython",
    "version": 3
   },
   "file_extension": ".py",
   "mimetype": "text/x-python",
   "name": "python",
   "nbconvert_exporter": "python",
   "pygments_lexer": "ipython3",
   "version": "3.11.7"
  }
 },
 "nbformat": 4,
 "nbformat_minor": 5
}
