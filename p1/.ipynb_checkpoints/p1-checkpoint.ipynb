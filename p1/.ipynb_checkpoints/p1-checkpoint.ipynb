{
 "cells": [
  {
   "cell_type": "markdown",
   "id": "644a3fa6-6acb-4ddc-91d0-c8ca95309f47",
   "metadata": {},
   "source": [
    "### Project 1\n",
    "\n",
    "**Developer:** Ryan Parks\n",
    "\n",
    "**Course**: Artificial Intelligence Applications\n",
    "\n",
    "**Semester:** Summer 2024\n",
    "\n",
    "**Program requirements:**\n",
    "\n",
    "1. Import necessary packages\n",
    "2. Review data\n",
    "3. Prepare data for analysis\n",
    "4. Filter data\n",
    "5. Display product review sentiment analysis\n",
    "6. Create prediction analysis"
   ]
  },
  {
   "cell_type": "code",
   "execution_count": 3,
   "id": "9b0c7c08-4ccb-40c5-8fb4-a160c0493cf8",
   "metadata": {
    "tags": []
   },
   "outputs": [],
   "source": [
    "import pandas as pd\n",
    "\n",
    "import nltk\n",
    "\n",
    "# nltk.download('punkt')\n",
    "# nltk.download('stopwords')\n",
    "\n",
    "from nltk.tokenize import word_tokenize\n",
    "\n",
    "from nltk.corpus import stopwords\n",
    "\n",
    "# nltk.download('averaged_perceptron_tagger')\n",
    "\n",
    "from nltk.sentiment import SentimentIntensityAnalyzer\n",
    "\n",
    "# nltk.download('vader_lexicon')\n",
    "\n",
    "from sklearn.model_selection import train_test_split\n",
    "\n",
    "from sklearn.feature_extraction.text import CountVectorizer\n",
    "\n",
    "from sklearn.naive_bayes import MultinomialNB\n",
    "\n",
    "from sklearn import metrics\n",
    "\n",
    "from sklearn.metrics import accuracy_score\n",
    "\n",
    "import matplotlib.pyplot as plt"
   ]
  },
  {
   "cell_type": "markdown",
   "id": "1eb6d79c-6c6a-4b82-933a-98534884ec6f",
   "metadata": {
    "tags": []
   },
   "source": [
    "## Part 2: Load and review data"
   ]
  },
  {
   "cell_type": "code",
   "execution_count": 5,
   "id": "d4e3a7f2-df15-42cb-beca-244cb498be3d",
   "metadata": {
    "tags": []
   },
   "outputs": [
    {
     "name": "stdout",
     "output_type": "stream",
     "text": [
      "10\n",
      "3\n"
     ]
    }
   ],
   "source": [
    "df = pd.read_csv('GuitarReviews2out.txt', sep='|', index_col='#')\n",
    "\n",
    "rows = df.shape[0]\n",
    "cols = df.shape[1]\n",
    "\n",
    "print(rows)\n",
    "print(cols)"
   ]
  },
  {
   "cell_type": "code",
   "execution_count": 6,
   "id": "763fc1a5-1b67-4678-bda7-53785cea5321",
   "metadata": {
    "tags": []
   },
   "outputs": [
    {
     "data": {
      "text/html": [
       "<div>\n",
       "<style scoped>\n",
       "    .dataframe tbody tr th:only-of-type {\n",
       "        vertical-align: middle;\n",
       "    }\n",
       "\n",
       "    .dataframe tbody tr th {\n",
       "        vertical-align: top;\n",
       "    }\n",
       "\n",
       "    .dataframe thead th {\n",
       "        text-align: right;\n",
       "    }\n",
       "</style>\n",
       "<table border=\"1\" class=\"dataframe\">\n",
       "  <thead>\n",
       "    <tr style=\"text-align: right;\">\n",
       "      <th></th>\n",
       "      <th>product</th>\n",
       "      <th>title</th>\n",
       "      <th>review</th>\n",
       "    </tr>\n",
       "    <tr>\n",
       "      <th>#</th>\n",
       "      <th></th>\n",
       "      <th></th>\n",
       "      <th></th>\n",
       "    </tr>\n",
       "  </thead>\n",
       "  <tbody>\n",
       "    <tr>\n",
       "      <th>1</th>\n",
       "      <td>BenderCaster</td>\n",
       "      <td>My new favorite guitar</td>\n",
       "      <td>I’ve been playing the Wes Hall for many years,...</td>\n",
       "    </tr>\n",
       "    <tr>\n",
       "      <th>2</th>\n",
       "      <td>BenderCaster</td>\n",
       "      <td>Good but not Great</td>\n",
       "      <td>The Bender Caster sounds clean, the 3-position...</td>\n",
       "    </tr>\n",
       "    <tr>\n",
       "      <th>3</th>\n",
       "      <td>BenderCaster</td>\n",
       "      <td>Try before buying</td>\n",
       "      <td>I tried the Caster in my local music store and...</td>\n",
       "    </tr>\n",
       "    <tr>\n",
       "      <th>4</th>\n",
       "      <td>BenderCaster</td>\n",
       "      <td>Love It!</td>\n",
       "      <td>Everything about the Bender Caster met or exce...</td>\n",
       "    </tr>\n",
       "    <tr>\n",
       "      <th>5</th>\n",
       "      <td>BenderCaster</td>\n",
       "      <td>Great Guitar, Great Price</td>\n",
       "      <td>I’ve been playing Bender guitars for years, th...</td>\n",
       "    </tr>\n",
       "  </tbody>\n",
       "</table>\n",
       "</div>"
      ],
      "text/plain": [
       "        product                      title  \\\n",
       "#                                            \n",
       "1  BenderCaster     My new favorite guitar   \n",
       "2  BenderCaster         Good but not Great   \n",
       "3  BenderCaster          Try before buying   \n",
       "4  BenderCaster                   Love It!   \n",
       "5  BenderCaster  Great Guitar, Great Price   \n",
       "\n",
       "                                              review  \n",
       "#                                                     \n",
       "1  I’ve been playing the Wes Hall for many years,...  \n",
       "2  The Bender Caster sounds clean, the 3-position...  \n",
       "3  I tried the Caster in my local music store and...  \n",
       "4  Everything about the Bender Caster met or exce...  \n",
       "5  I’ve been playing Bender guitars for years, th...  "
      ]
     },
     "execution_count": 6,
     "metadata": {},
     "output_type": "execute_result"
    }
   ],
   "source": [
    "df.head()"
   ]
  },
  {
   "cell_type": "code",
   "execution_count": 7,
   "id": "cc95a3b4-6acc-448e-bc8d-833d2a2ac239",
   "metadata": {
    "tags": []
   },
   "outputs": [
    {
     "data": {
      "text/plain": [
       "'I’ve been playing the Wes Hall for many years, but finally decided to buy this Bender Caster.  My Wes has terrific sustain, but the Caster gives me a funky sound I love!  The maple neck is terrific too.  Would highly recommend this guitar!'"
      ]
     },
     "execution_count": 7,
     "metadata": {},
     "output_type": "execute_result"
    }
   ],
   "source": [
    "df.iloc[0].review"
   ]
  },
  {
   "cell_type": "markdown",
   "id": "04940a47-cb80-4fb1-9702-09b007e41451",
   "metadata": {},
   "source": [
    "## Part 3: Prepare, tokenize, and visualize data"
   ]
  },
  {
   "cell_type": "code",
   "execution_count": 9,
   "id": "f79f8802-e12c-4e90-b528-d2cebbe13aa0",
   "metadata": {
    "tags": []
   },
   "outputs": [
    {
     "name": "stdout",
     "output_type": "stream",
     "text": [
      "['I’ve been playing the Wes Hall for many years, but finally decided to buy this Bender Caster.  My Wes has terrific sustain, but the Caster gives me a funky sound I love!  The maple neck is terrific too.  Would highly recommend this guitar!', 'The Bender Caster sounds clean, the 3-position switch gives a good variety of tones.  Note bending can through the tuning out though.  If you are considering the Caster, I would pick the hard tail option.  The tuning pegs have some play, this was disappointing.  Overall a good guitar but could be improved.', 'I tried the Caster in my local music store and was impressed.  To save some $s I ordered online and the guitar came in a day (great) but was not as playable as the one in the store.  I’ve decided to return it and buy locally.', 'Everything about the Bender Caster met or exceeded my expectations.  Highly playable, great tone, sounds great through my Triple Echo amp.  The starburst looks great.  Highly recommend!', 'I’ve been playing Bender guitars for years, this is my 3rd Caster.  Plays great, the action is just right - playable with no buzz.  Versatile too - sounds great for blues, rock, even jazz.  Very affordable too - in my opinion sounds as good has guitars costing two or more times.', 'I’ve been playing an entry level guitar for years but finally decided to treat myself to the Wes Hall.  Now I’m sorry I waited!  The guitar looks amazing and plays terrific.  The sustain is like forever - without any pedals.  Only drawback - it’s heavy, so if you’re playing a long gig, keep that in mind :-)', 'The Wes Hall is THE GUITAR for rock & roll.  I know other people prefer the Bender but if you’re into hard rock, the Wes is the best.  Terrific tone and sustain, low action for incredible playability.  The pickups deliver great sound with almost no noise.', 'I’ve been playing guitar occasionally but now with the Wes Hall I’m playing every day and loving it.  The guitar sounds great - I can get the tone and feel of so many of the songs I love.  Sounds unbelievable with my Earsplit 200 tube amp.', 'I was excited to order the Wes but given the price I’ve been disappointed.  I chose the road-worn option, but it just looks used.  The action on the strings is too low - I need to get it set up to avoid buzz.  The neck is ok but wide for my taste.  Overall ok but disappointing.  May reconsider and go with the Bender.', 'Unbelievable!  It’s the classic, the original.  Nothing more to say']\n"
     ]
    }
   ],
   "source": [
    "allTextList = df.review.to_list()\n",
    "\n",
    "print(allTextList)"
   ]
  },
  {
   "cell_type": "code",
   "execution_count": 10,
   "id": "4c18cbe9-29bb-4f96-9cc6-fc3ed38328fb",
   "metadata": {
    "tags": []
   },
   "outputs": [
    {
     "name": "stdout",
     "output_type": "stream",
     "text": [
      "I’ve been playing the Wes Hall for many years, but finally decided to buy this Bender Caster.  My Wes has terrific sustain, but the Caster gives me a funky sound I love!  The maple neck is terrific too.  Would highly recommend this guitar! The Bender Caster sounds clean, the 3-position switch gives a good variety of tones.  Note bending can through the tuning out though.  If you are considering the Caster, I would pick the hard tail option.  The tuning pegs have some play, this was disappointing.  Overall a good guitar but could be improved. I tried the Caster in my local music store and was impressed.  To save some $s I ordered online and the guitar came in a day (great) but was not as playable as the one in the store.  I’ve decided to return it and buy locally. Everything about the Bender Caster met or exceeded my expectations.  Highly playable, great tone, sounds great through my Triple Echo amp.  The starburst looks great.  Highly recommend! I’ve been playing Bender guitars for years, this is my 3rd Caster.  Plays great, the action is just right - playable with no buzz.  Versatile too - sounds great for blues, rock, even jazz.  Very affordable too - in my opinion sounds as good has guitars costing two or more times. I’ve been playing an entry level guitar for years but finally decided to treat myself to the Wes Hall.  Now I’m sorry I waited!  The guitar looks amazing and plays terrific.  The sustain is like forever - without any pedals.  Only drawback - it’s heavy, so if you’re playing a long gig, keep that in mind :-) The Wes Hall is THE GUITAR for rock & roll.  I know other people prefer the Bender but if you’re into hard rock, the Wes is the best.  Terrific tone and sustain, low action for incredible playability.  The pickups deliver great sound with almost no noise. I’ve been playing guitar occasionally but now with the Wes Hall I’m playing every day and loving it.  The guitar sounds great - I can get the tone and feel of so many of the songs I love.  Sounds unbelievable with my Earsplit 200 tube amp. I was excited to order the Wes but given the price I’ve been disappointed.  I chose the road-worn option, but it just looks used.  The action on the strings is too low - I need to get it set up to avoid buzz.  The neck is ok but wide for my taste.  Overall ok but disappointing.  May reconsider and go with the Bender. Unbelievable!  It’s the classic, the original.  Nothing more to say\n"
     ]
    }
   ],
   "source": [
    "allText = ' '.join(allTextList)\n",
    "print(allText)"
   ]
  },
  {
   "cell_type": "code",
   "execution_count": 11,
   "id": "826da37f-02cd-4c2f-97c1-9a9d551a5891",
   "metadata": {
    "tags": []
   },
   "outputs": [
    {
     "data": {
      "text/plain": [
       "['I', '’', 've', 'been', 'playing', 'the', 'Wes', 'Hall', 'for', 'many']"
      ]
     },
     "execution_count": 11,
     "metadata": {},
     "output_type": "execute_result"
    }
   ],
   "source": [
    "tokens = nltk.word_tokenize(allText)\n",
    "\n",
    "tokens[:10]"
   ]
  },
  {
   "cell_type": "code",
   "execution_count": 12,
   "id": "9dd9fbdc-2731-4192-8e15-b03816d3028d",
   "metadata": {
    "tags": []
   },
   "outputs": [
    {
     "data": {
      "text/plain": [
       "FreqDist({'.': 34, 'the': 26, 'I': 19, ',': 17, '’': 12, 'but': 11, 'The': 11, 'to': 8, 'is': 8, 'and': 8, ...})"
      ]
     },
     "execution_count": 12,
     "metadata": {},
     "output_type": "execute_result"
    }
   ],
   "source": [
    "wordFrequency = nltk.FreqDist(tokens)\n",
    "wordFrequency"
   ]
  },
  {
   "cell_type": "code",
   "execution_count": 13,
   "id": "b3d8f06b-fdab-464d-8c6d-563cfc6d11e3",
   "metadata": {
    "tags": []
   },
   "outputs": [
    {
     "data": {
      "image/png": "[encoded data removed]",
      "text/plain": [
       "<Figure size 640x480 with 1 Axes>"
      ]
     },
     "metadata": {},
     "output_type": "display_data"
    },
    {
     "data": {
      "text/plain": [
       "<Axes: xlabel='Samples', ylabel='Counts'>"
      ]
     },
     "execution_count": 13,
     "metadata": {},
     "output_type": "execute_result"
    }
   ],
   "source": [
    "wordFrequency.plot(30)"
   ]
  },
  {
   "cell_type": "markdown",
   "id": "827f177c-0546-4bc4-bd9f-827ac7235107",
   "metadata": {},
   "source": [
    "## Part 4: Filter data"
   ]
  },
  {
   "cell_type": "code",
   "execution_count": 15,
   "id": "7bb29c4d-d6ba-4a3d-9dea-eb096336dcb4",
   "metadata": {
    "tags": []
   },
   "outputs": [
    {
     "data": {
      "text/plain": [
       "['I', 've', 'been', 'playing', 'the', 'Wes', 'Hall', 'for', 'many', 'years']"
      ]
     },
     "execution_count": 15,
     "metadata": {},
     "output_type": "execute_result"
    }
   ],
   "source": [
    "alpha_words = [token for token in tokens if token.isalpha()]\n",
    "\n",
    "alpha_words[:10]"
   ]
  },
  {
   "cell_type": "code",
   "execution_count": 16,
   "id": "3189e022-3617-4acc-be99-1c876e6cd3c4",
   "metadata": {
    "tags": []
   },
   "outputs": [
    {
     "data": {
      "text/plain": [
       "['i', 've', 'been', 'playing', 'the', 'wes', 'hall', 'for', 'many', 'years']"
      ]
     },
     "execution_count": 16,
     "metadata": {},
     "output_type": "execute_result"
    }
   ],
   "source": [
    "lower_case_words = [word.lower() for word in alpha_words]\n",
    "\n",
    "lower_case_words[:10]"
   ]
  },
  {
   "cell_type": "code",
   "execution_count": 17,
   "id": "68607054-dfb8-4607-975d-83cb4653f838",
   "metadata": {
    "tags": []
   },
   "outputs": [
    {
     "data": {
      "text/plain": [
       "list"
      ]
     },
     "execution_count": 17,
     "metadata": {},
     "output_type": "execute_result"
    }
   ],
   "source": [
    "stopWords = stopwords.words('english')\n",
    "\n",
    "type(stopWords)"
   ]
  },
  {
   "cell_type": "code",
   "execution_count": 18,
   "id": "a7df2a03-5c01-469c-ad73-8fbee75147c5",
   "metadata": {
    "tags": []
   },
   "outputs": [
    {
     "data": {
      "text/plain": [
       "179"
      ]
     },
     "execution_count": 18,
     "metadata": {},
     "output_type": "execute_result"
    }
   ],
   "source": [
    "len(stopWords)"
   ]
  },
  {
   "cell_type": "code",
   "execution_count": 19,
   "id": "b8c2b589-e7c4-4fc8-8766-f32de09bda06",
   "metadata": {
    "tags": []
   },
   "outputs": [
    {
     "data": {
      "text/plain": [
       "['i', 'me', 'my', 'myself', 'we', 'our', 'ours', 'ourselves', 'you', \"you're\"]"
      ]
     },
     "execution_count": 19,
     "metadata": {},
     "output_type": "execute_result"
    }
   ],
   "source": [
    "stopWords[:10]"
   ]
  },
  {
   "cell_type": "code",
   "execution_count": 20,
   "id": "baf4805c-4d23-4bed-8e43-b7878e72a828",
   "metadata": {
    "tags": []
   },
   "outputs": [
    {
     "data": {
      "text/plain": [
       "['playing',\n",
       " 'wes',\n",
       " 'hall',\n",
       " 'many',\n",
       " 'years',\n",
       " 'finally',\n",
       " 'decided',\n",
       " 'buy',\n",
       " 'bender',\n",
       " 'caster']"
      ]
     },
     "execution_count": 20,
     "metadata": {},
     "output_type": "execute_result"
    }
   ],
   "source": [
    "lower_case_no_stop_words = [word for word in lower_case_words if word not in stopWords]\n",
    "\n",
    "lower_case_no_stop_words[:10]"
   ]
  },
  {
   "cell_type": "code",
   "execution_count": 21,
   "id": "ec737b0b-7cb6-4c2c-b10c-f8120ca8ccee",
   "metadata": {
    "tags": []
   },
   "outputs": [
    {
     "data": {
      "text/plain": [
       "FreqDist({'guitar': 8, 'great': 8, 'wes': 7, 'caster': 7, 'playing': 6, 'bender': 6, 'sounds': 6, 'hall': 4, 'terrific': 4, 'years': 3, ...})"
      ]
     },
     "execution_count": 21,
     "metadata": {},
     "output_type": "execute_result"
    }
   ],
   "source": [
    "wordFrequency = nltk.FreqDist(lower_case_no_stop_words)\n",
    "wordFrequency"
   ]
  },
  {
   "cell_type": "code",
   "execution_count": 22,
   "id": "b2e39883-de84-4270-affe-789b1ce123b6",
   "metadata": {
    "tags": []
   },
   "outputs": [
    {
     "data": {
      "image/png": "[encoded data removed]",
      "text/plain": [
       "<Figure size 640x480 with 1 Axes>"
      ]
     },
     "metadata": {},
     "output_type": "display_data"
    },
    {
     "data": {
      "text/plain": [
       "<Axes: xlabel='Samples', ylabel='Counts'>"
      ]
     },
     "execution_count": 22,
     "metadata": {},
     "output_type": "execute_result"
    }
   ],
   "source": [
    "wordFrequency.plot(30)"
   ]
  },
  {
   "cell_type": "code",
   "execution_count": 23,
   "id": "03e5ef9a-2e4b-4f2c-9b7f-978a9d41c4f6",
   "metadata": {
    "tags": []
   },
   "outputs": [
    {
     "data": {
      "text/plain": [
       "['play',\n",
       " 'we',\n",
       " 'hall',\n",
       " 'mani',\n",
       " 'year',\n",
       " 'final',\n",
       " 'decid',\n",
       " 'buy',\n",
       " 'bender',\n",
       " 'caster']"
      ]
     },
     "execution_count": 23,
     "metadata": {},
     "output_type": "execute_result"
    }
   ],
   "source": [
    "porterStemmer = nltk.PorterStemmer()\n",
    "stemmed_words = [porterStemmer.stem(word) for word in lower_case_no_stop_words]\n",
    "\n",
    "stemmed_words[:10]"
   ]
  },
  {
   "cell_type": "code",
   "execution_count": 24,
   "id": "d94219cd-b1a3-43b5-aa1a-52c5a3900f47",
   "metadata": {
    "tags": []
   },
   "outputs": [
    {
     "data": {
      "text/plain": [
       "[('I', 'PRP'),\n",
       " ('’', 'VBP'),\n",
       " ('ve', 'RB'),\n",
       " ('been', 'VBN'),\n",
       " ('playing', 'VBG'),\n",
       " ('the', 'DT'),\n",
       " ('Wes', 'NNP'),\n",
       " ('Hall', 'NNP'),\n",
       " ('for', 'IN'),\n",
       " ('many', 'JJ')]"
      ]
     },
     "execution_count": 24,
     "metadata": {},
     "output_type": "execute_result"
    }
   ],
   "source": [
    "wordsWithTags = nltk.pos_tag(tokens)\n",
    "wordsWithTags[:10]"
   ]
  },
  {
   "cell_type": "code",
   "execution_count": 25,
   "id": "fa4764ff-df0e-47a0-81e3-a03b83a7cd2c",
   "metadata": {
    "tags": []
   },
   "outputs": [
    {
     "data": {
      "text/plain": [
       "['Wes', 'Hall', 'years', 'Bender', 'Caster', 'My', 'Wes', 'sustain']"
      ]
     },
     "execution_count": 25,
     "metadata": {},
     "output_type": "execute_result"
    }
   ],
   "source": [
    "nouns = [word for (word, tag) in wordsWithTags if tag.startswith('N')]\n",
    "nouns[:8]"
   ]
  },
  {
   "cell_type": "code",
   "execution_count": 26,
   "id": "0e234883-9d8d-4438-8223-fe6a21f4b4a7",
   "metadata": {
    "tags": []
   },
   "outputs": [
    {
     "data": {
      "text/plain": [
       "FreqDist({'Wes': 7, 'Caster': 7, 'guitar': 7, 'Bender': 6, 'Hall': 4, 'years': 3, 'sustain': 3, 'tone': 3, 'action': 3, 'rock': 3, ...})"
      ]
     },
     "execution_count": 26,
     "metadata": {},
     "output_type": "execute_result"
    }
   ],
   "source": [
    "wordFrequency = nltk.FreqDist(nouns)\n",
    "wordFrequency"
   ]
  },
  {
   "cell_type": "code",
   "execution_count": 27,
   "id": "49b42aab-85f8-4791-ac74-827a7ab80ba8",
   "metadata": {
    "tags": []
   },
   "outputs": [
    {
     "data": {
      "image/png": "[encoded data removed]",
      "text/plain": [
       "<Figure size 640x480 with 1 Axes>"
      ]
     },
     "metadata": {},
     "output_type": "display_data"
    },
    {
     "data": {
      "text/plain": [
       "<Axes: xlabel='Samples', ylabel='Counts'>"
      ]
     },
     "execution_count": 27,
     "metadata": {},
     "output_type": "execute_result"
    }
   ],
   "source": [
    "wordFrequency.plot(30)"
   ]
  },
  {
   "cell_type": "markdown",
   "id": "ced8dcd9-0c17-4a4c-9c8e-0192fc3b3d60",
   "metadata": {},
   "source": [
    "## Part 5: Sentiment analysis"
   ]
  },
  {
   "cell_type": "code",
   "execution_count": 29,
   "id": "3e09b2fa-a238-43bb-944b-fa45559e4a22",
   "metadata": {
    "tags": []
   },
   "outputs": [],
   "source": [
    "analyzer = SentimentIntensityAnalyzer()"
   ]
  },
  {
   "cell_type": "code",
   "execution_count": 30,
   "id": "3c15be1f-ec2f-4aab-abdd-695955b3abc8",
   "metadata": {
    "tags": []
   },
   "outputs": [
    {
     "data": {
      "text/plain": [
       "'I’ve been playing the Wes Hall for many years, but finally decided to buy this Bender Caster.  My Wes has terrific sustain, but the Caster gives me a funky sound I love!  The maple neck is terrific too.  Would highly recommend this guitar!'"
      ]
     },
     "execution_count": 30,
     "metadata": {},
     "output_type": "execute_result"
    }
   ],
   "source": [
    "review1 = df.iloc[0].review\n",
    "review1"
   ]
  },
  {
   "cell_type": "code",
   "execution_count": 31,
   "id": "d1a32b3a-021f-42c4-86f4-ba51a4b77e39",
   "metadata": {
    "tags": []
   },
   "outputs": [
    {
     "data": {
      "text/plain": [
       "{'neg': 0.028, 'neu': 0.621, 'pos': 0.351, 'compound': 0.9646}"
      ]
     },
     "execution_count": 31,
     "metadata": {},
     "output_type": "execute_result"
    }
   ],
   "source": [
    "analyzer.polarity_scores(review1)"
   ]
  },
  {
   "cell_type": "code",
   "execution_count": 32,
   "id": "212a5f49-2d88-484b-8439-0b97f15db283",
   "metadata": {
    "tags": []
   },
   "outputs": [
    {
     "name": "stdout",
     "output_type": "stream",
     "text": [
      " 1   0.96 My new favorite guitar\n",
      " 2   0.81 Good but not Great\n",
      " 3   0.49 Try before buying\n",
      " 4   0.95 Love It!\n",
      " 5   0.91 Great Guitar, Great Price\n",
      " 6   0.98 Amazing Guitar\n",
      " 7   0.92 None better\n",
      " 8   0.97 Great Choice\n",
      " 9  -0.82 Good Guitar but Pricey\n",
      "10   0.53 It’s it\n"
     ]
    }
   ],
   "source": [
    "compoundList = []\n",
    "for index, row in df.iterrows():\n",
    "    text = row.review\n",
    "    scores = analyzer.polarity_scores(text)\n",
    "    compound = scores['compound']\n",
    "    print(format(index, '2d'), format(compound, '6.2f'), row.title)\n",
    "    compoundList.append(compound)"
   ]
  },
  {
   "cell_type": "code",
   "execution_count": 33,
   "id": "c996d482-a51c-4791-ab0e-0147ea945a9b",
   "metadata": {
    "tags": []
   },
   "outputs": [
    {
     "data": {
      "text/html": [
       "<div>\n",
       "<style scoped>\n",
       "    .dataframe tbody tr th:only-of-type {\n",
       "        vertical-align: middle;\n",
       "    }\n",
       "\n",
       "    .dataframe tbody tr th {\n",
       "        vertical-align: top;\n",
       "    }\n",
       "\n",
       "    .dataframe thead th {\n",
       "        text-align: right;\n",
       "    }\n",
       "</style>\n",
       "<table border=\"1\" class=\"dataframe\">\n",
       "  <thead>\n",
       "    <tr style=\"text-align: right;\">\n",
       "      <th></th>\n",
       "      <th>product</th>\n",
       "      <th>title</th>\n",
       "      <th>review</th>\n",
       "      <th>compound</th>\n",
       "    </tr>\n",
       "    <tr>\n",
       "      <th>#</th>\n",
       "      <th></th>\n",
       "      <th></th>\n",
       "      <th></th>\n",
       "      <th></th>\n",
       "    </tr>\n",
       "  </thead>\n",
       "  <tbody>\n",
       "    <tr>\n",
       "      <th>1</th>\n",
       "      <td>BenderCaster</td>\n",
       "      <td>My new favorite guitar</td>\n",
       "      <td>I’ve been playing the Wes Hall for many years,...</td>\n",
       "      <td>0.9646</td>\n",
       "    </tr>\n",
       "    <tr>\n",
       "      <th>2</th>\n",
       "      <td>BenderCaster</td>\n",
       "      <td>Good but not Great</td>\n",
       "      <td>The Bender Caster sounds clean, the 3-position...</td>\n",
       "      <td>0.8074</td>\n",
       "    </tr>\n",
       "    <tr>\n",
       "      <th>3</th>\n",
       "      <td>BenderCaster</td>\n",
       "      <td>Try before buying</td>\n",
       "      <td>I tried the Caster in my local music store and...</td>\n",
       "      <td>0.4854</td>\n",
       "    </tr>\n",
       "    <tr>\n",
       "      <th>4</th>\n",
       "      <td>BenderCaster</td>\n",
       "      <td>Love It!</td>\n",
       "      <td>Everything about the Bender Caster met or exce...</td>\n",
       "      <td>0.9533</td>\n",
       "    </tr>\n",
       "    <tr>\n",
       "      <th>5</th>\n",
       "      <td>BenderCaster</td>\n",
       "      <td>Great Guitar, Great Price</td>\n",
       "      <td>I’ve been playing Bender guitars for years, th...</td>\n",
       "      <td>0.9136</td>\n",
       "    </tr>\n",
       "    <tr>\n",
       "      <th>6</th>\n",
       "      <td>WesHall</td>\n",
       "      <td>Amazing Guitar</td>\n",
       "      <td>I’ve been playing an entry level guitar for ye...</td>\n",
       "      <td>0.9751</td>\n",
       "    </tr>\n",
       "    <tr>\n",
       "      <th>7</th>\n",
       "      <td>WesHall</td>\n",
       "      <td>None better</td>\n",
       "      <td>The Wes Hall is THE GUITAR for rock &amp; roll.  I...</td>\n",
       "      <td>0.9184</td>\n",
       "    </tr>\n",
       "    <tr>\n",
       "      <th>8</th>\n",
       "      <td>WesHall</td>\n",
       "      <td>Great Choice</td>\n",
       "      <td>I’ve been playing guitar occasionally but now ...</td>\n",
       "      <td>0.9738</td>\n",
       "    </tr>\n",
       "    <tr>\n",
       "      <th>9</th>\n",
       "      <td>WesHall</td>\n",
       "      <td>Good Guitar but Pricey</td>\n",
       "      <td>I was excited to order the Wes but given the p...</td>\n",
       "      <td>-0.8225</td>\n",
       "    </tr>\n",
       "    <tr>\n",
       "      <th>10</th>\n",
       "      <td>WesHall</td>\n",
       "      <td>It’s it</td>\n",
       "      <td>Unbelievable!  It’s the classic, the original....</td>\n",
       "      <td>0.5255</td>\n",
       "    </tr>\n",
       "  </tbody>\n",
       "</table>\n",
       "</div>"
      ],
      "text/plain": [
       "         product                      title  \\\n",
       "#                                             \n",
       "1   BenderCaster     My new favorite guitar   \n",
       "2   BenderCaster         Good but not Great   \n",
       "3   BenderCaster          Try before buying   \n",
       "4   BenderCaster                   Love It!   \n",
       "5   BenderCaster  Great Guitar, Great Price   \n",
       "6        WesHall             Amazing Guitar   \n",
       "7        WesHall                None better   \n",
       "8        WesHall               Great Choice   \n",
       "9        WesHall     Good Guitar but Pricey   \n",
       "10       WesHall                    It’s it   \n",
       "\n",
       "                                               review  compound  \n",
       "#                                                                \n",
       "1   I’ve been playing the Wes Hall for many years,...    0.9646  \n",
       "2   The Bender Caster sounds clean, the 3-position...    0.8074  \n",
       "3   I tried the Caster in my local music store and...    0.4854  \n",
       "4   Everything about the Bender Caster met or exce...    0.9533  \n",
       "5   I’ve been playing Bender guitars for years, th...    0.9136  \n",
       "6   I’ve been playing an entry level guitar for ye...    0.9751  \n",
       "7   The Wes Hall is THE GUITAR for rock & roll.  I...    0.9184  \n",
       "8   I’ve been playing guitar occasionally but now ...    0.9738  \n",
       "9   I was excited to order the Wes but given the p...   -0.8225  \n",
       "10  Unbelievable!  It’s the classic, the original....    0.5255  "
      ]
     },
     "execution_count": 33,
     "metadata": {},
     "output_type": "execute_result"
    }
   ],
   "source": [
    "def compoundScore(text):\n",
    "    scores = analyzer.polarity_scores(text)\n",
    "    return scores['compound']\n",
    "\n",
    "df['compound'] = df['review'].apply(compoundScore)\n",
    "df"
   ]
  },
  {
   "cell_type": "code",
   "execution_count": 34,
   "id": "2c2befe3-e377-4b4a-8fd8-4b208b789981",
   "metadata": {
    "tags": []
   },
   "outputs": [
    {
     "name": "stdout",
     "output_type": "stream",
     "text": [
      "                        title  compound\n",
      "#                                      \n",
      "1      My new favorite guitar    0.9646\n",
      "2          Good but not Great    0.8074\n",
      "3           Try before buying    0.4854\n",
      "4                    Love It!    0.9533\n",
      "5   Great Guitar, Great Price    0.9136\n",
      "6              Amazing Guitar    0.9751\n",
      "7                 None better    0.9184\n",
      "8                Great Choice    0.9738\n",
      "9      Good Guitar but Pricey   -0.8225\n",
      "10                    It’s it    0.5255\n"
     ]
    }
   ],
   "source": [
    "print(df[['title', 'compound']])"
   ]
  },
  {
   "cell_type": "markdown",
   "id": "fb4e7034-7d5f-4d12-8fab-f988d2567958",
   "metadata": {},
   "source": [
    "## Part 6: Text Classification"
   ]
  },
  {
   "cell_type": "code",
   "execution_count": 36,
   "id": "74db9652-f444-45a6-be16-f6d2feb6a5d5",
   "metadata": {
    "tags": []
   },
   "outputs": [
    {
     "name": "stdout",
     "output_type": "stream",
     "text": [
      "279\n",
      "2\n"
     ]
    }
   ],
   "source": [
    "df = pd.read_csv('emails2.txt', usecols=['isSpam', 'Message'], sep='|')\n",
    "\n",
    "rows = df.shape[0]\n",
    "cols = df.shape[1]\n",
    "\n",
    "print(rows)\n",
    "print(cols)"
   ]
  },
  {
   "cell_type": "code",
   "execution_count": 37,
   "id": "aadd16bc-4917-4843-9ef4-4357f800f76f",
   "metadata": {
    "tags": []
   },
   "outputs": [
    {
     "data": {
      "text/html": [
       "<div>\n",
       "<style scoped>\n",
       "    .dataframe tbody tr th:only-of-type {\n",
       "        vertical-align: middle;\n",
       "    }\n",
       "\n",
       "    .dataframe tbody tr th {\n",
       "        vertical-align: top;\n",
       "    }\n",
       "\n",
       "    .dataframe thead th {\n",
       "        text-align: right;\n",
       "    }\n",
       "</style>\n",
       "<table border=\"1\" class=\"dataframe\">\n",
       "  <thead>\n",
       "    <tr style=\"text-align: right;\">\n",
       "      <th></th>\n",
       "      <th>isSpam</th>\n",
       "      <th>Message</th>\n",
       "    </tr>\n",
       "  </thead>\n",
       "  <tbody>\n",
       "    <tr>\n",
       "      <th>0</th>\n",
       "      <td>0</td>\n",
       "      <td>just to update you on this project ' s status ...</td>\n",
       "    </tr>\n",
       "    <tr>\n",
       "      <th>1</th>\n",
       "      <td>0</td>\n",
       "      <td>the above referenced meters need to be placed ...</td>\n",
       "    </tr>\n",
       "    <tr>\n",
       "      <th>2</th>\n",
       "      <td>0</td>\n",
       "      <td>( see attached file : hpll 228 . xls ) - hpll ...</td>\n",
       "    </tr>\n",
       "    <tr>\n",
       "      <th>3</th>\n",
       "      <td>0</td>\n",
       "      <td>daren , it ' s in . bob - - - - - - - - - - - ...</td>\n",
       "    </tr>\n",
       "    <tr>\n",
       "      <th>4</th>\n",
       "      <td>0</td>\n",
       "      <td>daren , fyi . bob - - - - - - - - - - - - - - ...</td>\n",
       "    </tr>\n",
       "  </tbody>\n",
       "</table>\n",
       "</div>"
      ],
      "text/plain": [
       "   isSpam                                            Message\n",
       "0       0  just to update you on this project ' s status ...\n",
       "1       0  the above referenced meters need to be placed ...\n",
       "2       0  ( see attached file : hpll 228 . xls ) - hpll ...\n",
       "3       0  daren , it ' s in . bob - - - - - - - - - - - ...\n",
       "4       0  daren , fyi . bob - - - - - - - - - - - - - - ..."
      ]
     },
     "execution_count": 37,
     "metadata": {},
     "output_type": "execute_result"
    }
   ],
   "source": [
    "df.head()"
   ]
  },
  {
   "cell_type": "code",
   "execution_count": 38,
   "id": "edfd8bf4-501e-4376-8891-e58912fb5f92",
   "metadata": {
    "tags": []
   },
   "outputs": [
    {
     "data": {
      "text/plain": [
       "isSpam\n",
       "0    140\n",
       "1    139\n",
       "Name: count, dtype: int64"
      ]
     },
     "execution_count": 38,
     "metadata": {},
     "output_type": "execute_result"
    }
   ],
   "source": [
    "df.isSpam.value_counts()"
   ]
  },
  {
   "cell_type": "code",
   "execution_count": 39,
   "id": "25504fd5-8f0f-4fd7-b919-b3593c0200cc",
   "metadata": {
    "tags": []
   },
   "outputs": [
    {
     "data": {
      "text/plain": [
       "\"just to update you on this project ' s status : based on a new report that scott mills ran for me from sitara , i have come up with the following counterparties\""
      ]
     },
     "execution_count": 39,
     "metadata": {},
     "output_type": "execute_result"
    }
   ],
   "source": [
    "df.iloc[0].Message[:160]"
   ]
  },
  {
   "cell_type": "code",
   "execution_count": 40,
   "id": "572c1e20-a8bc-4786-aa83-9773d9be7f38",
   "metadata": {
    "tags": []
   },
   "outputs": [],
   "source": [
    "def remove_non_letters(text):\n",
    "    alist = [c if c.isalpha() else ' ' for c in text]\n",
    "    return ''.join(alist)\n",
    "\n",
    "df['NonLettersRemoved'] = df['Message'].apply(remove_non_letters)"
   ]
  },
  {
   "cell_type": "code",
   "execution_count": 41,
   "id": "0b076663-686f-4bf5-a149-75ba16bd4083",
   "metadata": {
    "tags": []
   },
   "outputs": [
    {
     "data": {
      "text/plain": [
       "'just to update you on this project   s status   based on a new report that scott mills ran for me from sitara   i have come up with the following counterparties'"
      ]
     },
     "execution_count": 41,
     "metadata": {},
     "output_type": "execute_result"
    }
   ],
   "source": [
    "df.iloc[0].NonLettersRemoved[:160]"
   ]
  },
  {
   "cell_type": "code",
   "execution_count": 42,
   "id": "4a1d3d13-1c98-4a67-8ec9-5c89e0740935",
   "metadata": {
    "tags": []
   },
   "outputs": [],
   "source": [
    "tokenizer = lambda text: word_tokenize(text)\n",
    "df['NonLettersRemoved'] = df['NonLettersRemoved'].apply(tokenizer)"
   ]
  },
  {
   "cell_type": "code",
   "execution_count": 43,
   "id": "ebc07f34-64b1-459c-b361-4388025e9f84",
   "metadata": {
    "tags": []
   },
   "outputs": [
    {
     "data": {
      "text/plain": [
       "0    [just, to, update, you, on, this, project, s, ...\n",
       "1    [the, above, referenced, meters, need, to, be,...\n",
       "2          [see, attached, file, hpll, xls, hpll, xls]\n",
       "3    [daren, it, s, in, bob, forwarded, by, robert,...\n",
       "4    [daren, fyi, bob, forwarded, by, robert, cotte...\n",
       "5    [help, steve, mauch, at, hesco, is, wanting, a...\n",
       "6    [teco, tap, hpl, iferc, enron, ls, hpl, lsk, i...\n",
       "7    [daren, the, valve, for, meter, was, not, shut...\n",
       "8    [i, will, need, to, make, these, changes, in, ...\n",
       "9    [daren, do, you, know, if, there, should, be, ...\n",
       "Name: NonLettersRemoved, dtype: object"
      ]
     },
     "execution_count": 43,
     "metadata": {},
     "output_type": "execute_result"
    }
   ],
   "source": [
    "df['NonLettersRemoved'][:10]"
   ]
  },
  {
   "cell_type": "code",
   "execution_count": null,
   "id": "aee9a54d-7f4a-4460-a4c8-20626d72862a",
   "metadata": {
    "tags": []
   },
   "outputs": [],
   "source": [
    "stemmer = lambda words: [ porterStemmer.stem(word) for word in words ]\n",
    "df['NonLettersRemoved'] = df['NonLettersRemoved'].apply(stemmer)"
   ]
  },
  {
   "cell_type": "code",
   "execution_count": null,
   "id": "8d0607d4-9a5e-4472-ab82-c29a978ce098",
   "metadata": {
    "tags": []
   },
   "outputs": [],
   "source": [
    "df['NonLettersRemoved'][:10]"
   ]
  },
  {
   "cell_type": "code",
   "execution_count": null,
   "id": "2b8a52c7-8a6a-4930-87b2-73ec478fa0af",
   "metadata": {
    "tags": []
   },
   "outputs": [],
   "source": [
    "rejoiner = lambda words: ' '.join(words)\n",
    "df['NonLettersRemoved'] = df['NonLettersRemoved'].apply(rejoiner)"
   ]
  },
  {
   "cell_type": "code",
   "execution_count": null,
   "id": "92471e5b-5033-474a-8e8f-28c2ae5b0757",
   "metadata": {
    "tags": []
   },
   "outputs": [],
   "source": [
    "df.head()"
   ]
  },
  {
   "cell_type": "code",
   "execution_count": null,
   "id": "97147159-284c-45dc-8617-97e18e5da69e",
   "metadata": {
    "tags": []
   },
   "outputs": [],
   "source": [
    "df.tail()"
   ]
  },
  {
   "cell_type": "markdown",
   "id": "5e086a3a-e1dc-4fbe-9832-3a5b673e32e5",
   "metadata": {},
   "source": [
    "## Part 7: Predictive Analysis\n",
    "\n",
    "### Terms:\n",
    "1. Dependent Variables\n",
    "2. Independent Variables"
   ]
  },
  {
   "cell_type": "code",
   "execution_count": null,
   "id": "929e33a0-c807-4175-805f-e8032bc3209a",
   "metadata": {
    "tags": []
   },
   "outputs": [],
   "source": [
    "train_text, test_text, train_labels, test_labels = \\\n",
    " train_test_split(df.NonLettersRemoved, df.isSpam, test_size=0.25, random_state=1)"
   ]
  },
  {
   "cell_type": "code",
   "execution_count": null,
   "id": "1eb47e45-3008-4561-bdd5-706fd9b8d0a6",
   "metadata": {
    "tags": []
   },
   "outputs": [],
   "source": [
    "train_labels"
   ]
  },
  {
   "cell_type": "code",
   "execution_count": null,
   "id": "99482152-8e4d-4d3b-b03f-e829e28772ba",
   "metadata": {
    "tags": []
   },
   "outputs": [],
   "source": [
    "bow_vectorizer = CountVectorizer(min_df=1, ngram_range=(1,1))"
   ]
  },
  {
   "cell_type": "markdown",
   "id": "37b6551f-81c2-40e9-833f-fe412d3e3bb4",
   "metadata": {},
   "source": [
    "### fit() vs. transform() vs. fit_transform() methods:\n",
    "\n",
    "- fit(): calculates mean and variance of each of the features in data\n",
    "- transform(): transforms all features using respective mean and variance\n",
    "- fit_transform(): used on training data to scale training data"
   ]
  },
  {
   "cell_type": "code",
   "execution_count": null,
   "id": "d1e309c6-aa43-4d3f-b56a-87b9dae3f12a",
   "metadata": {
    "tags": []
   },
   "outputs": [],
   "source": [
    "bow_train_features = bow_vectorizer.fit_transform(train_text)"
   ]
  },
  {
   "cell_type": "code",
   "execution_count": null,
   "id": "12035ddc-acf1-4bca-a07f-07aaed6a0811",
   "metadata": {
    "tags": []
   },
   "outputs": [],
   "source": [
    "bow_test_features = bow_vectorizer.transform(test_text)"
   ]
  },
  {
   "cell_type": "code",
   "execution_count": null,
   "id": "25b986c2-9ec3-4302-a009-b2a69d4c17d9",
   "metadata": {
    "tags": []
   },
   "outputs": [],
   "source": [
    "model = MultinomialNB()"
   ]
  },
  {
   "cell_type": "code",
   "execution_count": null,
   "id": "85e7edc1-10f2-4218-af60-b89415108689",
   "metadata": {
    "tags": []
   },
   "outputs": [],
   "source": [
    "model.fit(bow_train_features, train_labels)"
   ]
  },
  {
   "cell_type": "code",
   "execution_count": null,
   "id": "d1912ff0-b4a1-47e9-b00b-7b4a3f0207a5",
   "metadata": {
    "tags": []
   },
   "outputs": [],
   "source": [
    "predictions = model.predict(bow_test_features)"
   ]
  },
  {
   "cell_type": "code",
   "execution_count": null,
   "id": "1c3bd306-ff6d-412d-9907-5a062db1d60e",
   "metadata": {
    "tags": []
   },
   "outputs": [],
   "source": [
    "len(test_labels)"
   ]
  },
  {
   "cell_type": "code",
   "execution_count": null,
   "id": "14feeb56-7283-4900-9531-4ae3605619d8",
   "metadata": {
    "tags": []
   },
   "outputs": [],
   "source": [
    "len(train_labels)"
   ]
  },
  {
   "cell_type": "code",
   "execution_count": null,
   "id": "a3e2ec93-6b72-41d6-9536-f10eeb5e004b",
   "metadata": {
    "tags": []
   },
   "outputs": [],
   "source": [
    "test_results = \\\n",
    "    pd.DataFrame({'actual':test_labels.tolist(), 'predict':list(predictions)})\n",
    "test_results"
   ]
  },
  {
   "cell_type": "code",
   "execution_count": null,
   "id": "dfade2a4-c307-4888-857b-b308b56bc1a4",
   "metadata": {
    "tags": []
   },
   "outputs": [],
   "source": [
    "test_results[test_results.actual != test_results.predict]"
   ]
  },
  {
   "cell_type": "code",
   "execution_count": null,
   "id": "b7facc8a-b306-4f7d-b23c-0d60989462c5",
   "metadata": {
    "tags": []
   },
   "outputs": [],
   "source": [
    "accuracy_score(test_results.actual, test_results.predict)\n",
    "\n",
    "print('Accuracy {:.1%}'.format(accuracy_score(test_results.actual, test_results.predict)))"
   ]
  },
  {
   "cell_type": "code",
   "execution_count": null,
   "id": "53d92db2-61ab-42f7-8b6f-713f36ac6081",
   "metadata": {
    "tags": []
   },
   "outputs": [],
   "source": [
    "confusion_matrix = metrics.confusion_matrix(test_results.actual, test_results.predict)\n",
    "\n",
    "confusion_matrix"
   ]
  },
  {
   "cell_type": "code",
   "execution_count": null,
   "id": "a2295253-b32f-4956-88b2-875bb5446094",
   "metadata": {
    "tags": []
   },
   "outputs": [],
   "source": [
    "cm_display = metrics.ConfusionMatrixDisplay(confusion_matrix = confusion_matrix, display_labels = [0, 1])\n",
    "\n",
    "cm_display.plot()\n",
    "plt.show()"
   ]
  },
  {
   "cell_type": "code",
   "execution_count": null,
   "id": "1b882305-35d9-4ddf-9132-de4ce0997d82",
   "metadata": {
    "tags": []
   },
   "outputs": [],
   "source": [
    "# interpretation:\n",
    "# row1: Model correctly categorized **nonspam** e-mails in 33 of 36 cases (91.7%), \"specificity\"\n",
    "# row2: Model correctly categorized **spam** e-mails in 33 out of 34 cases (97.1%), \"sensitivity\""
   ]
  },
  {
   "cell_type": "markdown",
   "id": "d395c4aa-a329-47a3-9a08-5606466b0040",
   "metadata": {},
   "source": [
    "### Confusion Matrix\n",
    "\n",
    "| Predicted | No (not spam) | Yes (spam) | Total |\n",
    "|--------------------|----------------|------------|-------|\n",
    "| **Actual: No (not spam)**  | TN=33          | FP=3       |36    |\n",
    "| **Actual: Yes (spam)**     | FN=1           | TP=33      |34    |\n",
    "| **Total**          | 34             | 36         |       |\n",
    "\n",
    "### Related Metrics\n",
    "\n",
    "| Metric               | Formula                     | Definition                                            |\n",
    "|----------------------|-----------------------------|-------------------------------------------------------|\n",
    "| Accuracy             | (TP + TN) / (TP + TN + FP + FN) | Percentage of total items classified correctly      |\n",
    "| Precision            | TP / (TP + FP)              | Positive predictions accuracy                         |\n",
    "| Recall/Sensitivity   | TP / (TP + FN)              | True positive rate (e.g., assess false positive rate) |\n",
    "| Specificity          | TN / (TN + FP)              | True negative rate (e.g., assess false negative rate) |\n",
    "| F1 score             | 2TP / (2TP + FP + FN)       | Weighted average of precision and recall/sensitivity  |"
   ]
  },
  {
   "cell_type": "markdown",
   "id": "c377c20c-e88a-4917-9869-5bd0b5f48b11",
   "metadata": {},
   "source": [
    "### Examples:"
   ]
  },
  {
   "cell_type": "code",
   "execution_count": null,
   "id": "732430cd-33fb-4f80-a3ef-fd4c0002f1aa",
   "metadata": {
    "tags": []
   },
   "outputs": [],
   "source": [
    "Accuracy = metrics.accuracy_score(test_results.actual, test_results.predict)"
   ]
  },
  {
   "cell_type": "code",
   "execution_count": null,
   "id": "0fe87641-100a-4a52-8433-fbcef3fd3829",
   "metadata": {
    "tags": []
   },
   "outputs": [],
   "source": [
    "Precision = metrics.precision_score(test_results.actual, test_results.predict)"
   ]
  },
  {
   "cell_type": "code",
   "execution_count": null,
   "id": "061c0cc9-665f-4b07-ba4b-8eadbef3b01b",
   "metadata": {
    "tags": []
   },
   "outputs": [],
   "source": [
    "Sensitivity_recall = metrics.recall_score(test_results.actual, test_results.predict)"
   ]
  },
  {
   "cell_type": "code",
   "execution_count": null,
   "id": "e46c4bfa-4a7a-43b8-9f97-0d66db346e64",
   "metadata": {
    "tags": []
   },
   "outputs": [],
   "source": [
    "Specificity = metrics.recall_score(test_results.actual, test_results.predict, pos_label=0)"
   ]
  },
  {
   "cell_type": "code",
   "execution_count": null,
   "id": "b65fd2dd-e175-4345-8086-ba1a36ed773c",
   "metadata": {
    "tags": []
   },
   "outputs": [],
   "source": [
    "F1_score = metrics.f1_score(test_results.actual, test_results.predict)"
   ]
  },
  {
   "cell_type": "code",
   "execution_count": null,
   "id": "414b8b97-ba8e-4c47-acd2-df024a850990",
   "metadata": {
    "tags": []
   },
   "outputs": [],
   "source": [
    "print({\"Accuracy\":Accuracy,\"Precision\":Precision,\"Sensitivity_recall\":Sensitivity_recall,\"Specificity\":Specificity,\"F1_score\":F1_score})"
   ]
  },
  {
   "cell_type": "code",
   "execution_count": null,
   "id": "099f188f-7426-4768-a617-1c90bd9998d4",
   "metadata": {
    "tags": []
   },
   "outputs": [],
   "source": [
    "my_dictionary = {\"Accuracy\":Accuracy,\"Precision\":Precision,\"Sensitivity_recall\":Sensitivity_recall,\"Specificity\":Specificity,\"F1_score\":F1_score}\n",
    "\n",
    "print(\"\\n\".join(\"{0: <16}\\t{1:.2f}\".format(k, v) for k, v in my_dictionary.items()))"
   ]
  }
 ],
 "metadata": {
  "kernelspec": {
   "display_name": "Python 3 (ipykernel)",
   "language": "python",
   "name": "python3"
  },
  "language_info": {
   "codemirror_mode": {
    "name": "ipython",
    "version": 3
   },
   "file_extension": ".py",
   "mimetype": "text/x-python",
   "name": "python",
   "nbconvert_exporter": "python",
   "pygments_lexer": "ipython3",
   "version": "3.11.7"
  }
 },
 "nbformat": 4,
 "nbformat_minor": 5
}
