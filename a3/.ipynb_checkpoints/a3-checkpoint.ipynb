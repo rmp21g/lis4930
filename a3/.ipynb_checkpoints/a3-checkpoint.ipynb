{
 "cells": [
  {
   "cell_type": "markdown",
   "id": "3a8b4bf2-cf44-4f9e-931b-2000c6b51a11",
   "metadata": {
    "tags": []
   },
   "source": [
    "### Assignment 3\n",
    "\n",
    "**Developer:** Ryan Parks\n",
    "\n",
    "**Course**: Artificial Intelligence Applications\n",
    "\n",
    "**Semester:** Summer 2024\n",
    "\n",
    "**Program requirements:**\n",
    "\n",
    "1. Get\n",
    "2. Clean\n",
    "3. Prepare\n",
    "4. Analyze\n",
    "5. Display/Visualize"
   ]
  },
  {
   "cell_type": "code",
   "execution_count": 2,
   "id": "8e362284-6a7b-48cf-81ee-441d6668dd76",
   "metadata": {
    "tags": []
   },
   "outputs": [],
   "source": [
    "import pandas as pd"
   ]
  },
  {
   "cell_type": "markdown",
   "id": "5a58dd50-c600-4548-81d7-2a38675568b7",
   "metadata": {
    "tags": []
   },
   "source": [
    "## Get data - read cleaned pickle file"
   ]
  },
  {
   "cell_type": "code",
   "execution_count": 4,
   "id": "b0934104-9346-4048-8f5d-a070a0073daa",
   "metadata": {
    "tags": []
   },
   "outputs": [],
   "source": [
    "mortality_data = pd.read_pickle('mortality_cleaned.pkl')"
   ]
  },
  {
   "cell_type": "markdown",
   "id": "9ba91aad-78f9-4945-9992-14086365a63c",
   "metadata": {},
   "source": [
    "## Examine cleaned data"
   ]
  },
  {
   "cell_type": "code",
   "execution_count": 6,
   "id": "16539457-adfe-4924-84ca-a69e392f50cd",
   "metadata": {
    "tags": []
   },
   "outputs": [
    {
     "name": "stdout",
     "output_type": "stream",
     "text": [
      "     Year     AgeGroup  DeathRate\n",
      "0    1900    1-4 Years     1983.8\n",
      "1    1901    1-4 Years     1695.0\n",
      "2    1902    1-4 Years     1655.7\n",
      "3    1903    1-4 Years     1542.1\n",
      "4    1904    1-4 Years     1591.5\n",
      "..    ...          ...        ...\n",
      "471  2014  15-19 Years       45.5\n",
      "472  2015  15-19 Years       48.3\n",
      "473  2016  15-19 Years       51.2\n",
      "474  2017  15-19 Years       51.5\n",
      "475  2018  15-19 Years       49.2\n",
      "\n",
      "[476 rows x 3 columns]\n"
     ]
    }
   ],
   "source": [
    "print(mortality_data)"
   ]
  },
  {
   "cell_type": "markdown",
   "id": "f1885c6c-33b5-4b01-9010-7faca2e2ac6d",
   "metadata": {},
   "source": [
    "## Display DataFrame attributes"
   ]
  },
  {
   "cell_type": "code",
   "execution_count": 8,
   "id": "9677acf1-5cff-4922-9fb5-f79d583d9dd5",
   "metadata": {
    "tags": []
   },
   "outputs": [
    {
     "name": "stdout",
     "output_type": "stream",
     "text": [
      "<class 'pandas.core.frame.DataFrame'>\n",
      "RangeIndex: 476 entries, 0 to 475\n",
      "Data columns (total 3 columns):\n",
      " #   Column     Non-Null Count  Dtype  \n",
      "---  ------     --------------  -----  \n",
      " 0   Year       476 non-null    int64  \n",
      " 1   AgeGroup   476 non-null    object \n",
      " 2   DeathRate  476 non-null    float64\n",
      "dtypes: float64(1), int64(1), object(1)\n",
      "memory usage: 11.3+ KB\n"
     ]
    }
   ],
   "source": [
    "mortality_data.info()"
   ]
  },
  {
   "cell_type": "code",
   "execution_count": 9,
   "id": "d44ccac2-7e9e-4183-840e-1a5362727f10",
   "metadata": {
    "tags": []
   },
   "outputs": [
    {
     "name": "stdout",
     "output_type": "stream",
     "text": [
      "Index:  RangeIndex(start=0, stop=476, step=1)\n",
      "Columns:  Index(['Year', 'AgeGroup', 'DeathRate'], dtype='object')\n",
      "Size:  1428\n",
      "Shape:  (476, 3)\n"
     ]
    }
   ],
   "source": [
    "print(\"Index: \", mortality_data.index)\n",
    "print(\"Columns: \", mortality_data.columns)\n",
    "print(\"Size: \", mortality_data.size)\n",
    "print(\"Shape: \", mortality_data.shape)"
   ]
  },
  {
   "cell_type": "markdown",
   "id": "66606ac6-000b-4484-b4aa-2962f1d1c627",
   "metadata": {},
   "source": [
    "## Prepare data"
   ]
  },
  {
   "cell_type": "markdown",
   "id": "bdfe91ed-9ce9-4a0a-b22b-070c318dc224",
   "metadata": {},
   "source": [
    "### Sort data"
   ]
  },
  {
   "cell_type": "code",
   "execution_count": 12,
   "id": "42aeb6a9-91fa-496f-9d5c-97507f9f4a91",
   "metadata": {
    "tags": []
   },
   "outputs": [
    {
     "name": "stdout",
     "output_type": "stream",
     "text": [
      "     Year   AgeGroup  DeathRate\n",
      "231  2012  5-9 Years       11.4\n",
      "237  2018  5-9 Years       11.5\n",
      "229  2010  5-9 Years       11.5\n"
     ]
    }
   ],
   "source": [
    "print(mortality_data.sort_values('DeathRate').head(3))"
   ]
  },
  {
   "cell_type": "code",
   "execution_count": 13,
   "id": "bbba03ca-673a-4a4f-896d-e932c8ac010d",
   "metadata": {
    "tags": []
   },
   "outputs": [
    {
     "name": "stdout",
     "output_type": "stream",
     "text": [
      "   Year   AgeGroup  DeathRate\n",
      "0  1900  1-4 Years     1983.8\n",
      "1  1901  1-4 Years     1695.0\n",
      "2  1902  1-4 Years     1655.7\n"
     ]
    }
   ],
   "source": [
    "print(mortality_data.sort_values('DeathRate', ascending=False).head(3))"
   ]
  },
  {
   "cell_type": "code",
   "execution_count": 14,
   "id": "f63fc899-e06f-421a-a83d-ef71d80f7ae2",
   "metadata": {
    "tags": []
   },
   "outputs": [
    {
     "name": "stdout",
     "output_type": "stream",
     "text": [
      "     Year     AgeGroup  DeathRate\n",
      "238  1900  10-14 Years      298.3\n",
      "119  1900    5-9 Years      466.1\n",
      "357  1900  15-19 Years      484.8\n"
     ]
    }
   ],
   "source": [
    "print(mortality_data.sort_values(['Year', 'DeathRate']).head(3))"
   ]
  },
  {
   "cell_type": "code",
   "execution_count": 15,
   "id": "362f1d17-da1b-49dc-aaa8-b7065b7435a0",
   "metadata": {
    "tags": []
   },
   "outputs": [
    {
     "name": "stdout",
     "output_type": "stream",
     "text": [
      "     Year   AgeGroup  DeathRate\n",
      "231  2012  5-9 Years       11.4\n",
      "229  2010  5-9 Years       11.5\n",
      "233  2014  5-9 Years       11.5\n"
     ]
    }
   ],
   "source": [
    "print(mortality_data.sort_values(['DeathRate', 'Year']).head(3))"
   ]
  },
  {
   "cell_type": "code",
   "execution_count": 16,
   "id": "f3f0e228-d819-40cf-815b-3040942fb713",
   "metadata": {
    "tags": []
   },
   "outputs": [
    {
     "name": "stdout",
     "output_type": "stream",
     "text": [
      "     Year     AgeGroup  DeathRate\n",
      "0    1900    1-4 Years     1983.8\n",
      "357  1900  15-19 Years      484.8\n",
      "119  1900    5-9 Years      466.1\n",
      "238  1900  10-14 Years      298.3\n",
      "1    1901    1-4 Years     1695.0\n"
     ]
    }
   ],
   "source": [
    "print(mortality_data.sort_values(['Year', 'DeathRate'],\n",
    "                                 ascending=[True,False]).head())"
   ]
  },
  {
   "cell_type": "code",
   "execution_count": 17,
   "id": "7a826030-fb30-4b89-b231-b586fdb507f4",
   "metadata": {
    "tags": []
   },
   "outputs": [
    {
     "name": "stdout",
     "output_type": "stream",
     "text": [
      "   Year   AgeGroup  DeathRate\n",
      "0  1900  1-4 Years     1983.8\n",
      "1  1901  1-4 Years     1695.0\n",
      "2  1902  1-4 Years     1655.7\n",
      "4  1904  1-4 Years     1591.5\n",
      "6  1906  1-4 Years     1580.0\n"
     ]
    }
   ],
   "source": [
    "print(mortality_data.sort_values(['DeathRate', 'Year'],\n",
    "                                 ascending=[False,True]).head())"
   ]
  },
  {
   "cell_type": "markdown",
   "id": "048ef494-bef7-4698-9a43-538d7573558d",
   "metadata": {},
   "source": [
    "## Preparing data - applying statistical functions"
   ]
  },
  {
   "cell_type": "code",
   "execution_count": 19,
   "id": "d7cb202d-b3ea-4da9-9f3c-35e3c5dbc2b9",
   "metadata": {
    "tags": []
   },
   "outputs": [
    {
     "name": "stdout",
     "output_type": "stream",
     "text": [
      "192.92415966386554\n"
     ]
    }
   ],
   "source": [
    "print(mortality_data.DeathRate.mean())"
   ]
  },
  {
   "cell_type": "code",
   "execution_count": 20,
   "id": "1d877040-432e-42f4-a623-248d4db98875",
   "metadata": {
    "tags": []
   },
   "outputs": [
    {
     "name": "stdout",
     "output_type": "stream",
     "text": [
      "DeathRate mean: 192.92415966386554\n"
     ]
    }
   ],
   "source": [
    "print(\"DeathRate mean: \" + str(mortality_data.DeathRate.mean()))"
   ]
  },
  {
   "cell_type": "code",
   "execution_count": 21,
   "id": "1c4437eb-735f-4ec2-92c4-c9779d638244",
   "metadata": {
    "tags": []
   },
   "outputs": [
    {
     "name": "stdout",
     "output_type": "stream",
     "text": [
      "DeathRate mean: 192.92\n"
     ]
    }
   ],
   "source": [
    "print(\"DeathRate mean: \"\n",
    "      + str(format(mortality_data.DeathRate.mean(), \".2f\")))"
   ]
  },
  {
   "cell_type": "code",
   "execution_count": 22,
   "id": "d9080251-8bf5-4c42-8fc3-2d109dff3915",
   "metadata": {
    "tags": []
   },
   "outputs": [
    {
     "name": "stdout",
     "output_type": "stream",
     "text": [
      "AgeGroup     5-9 Years\n",
      "DeathRate       1983.8\n",
      "dtype: object\n"
     ]
    }
   ],
   "source": [
    "print(mortality_data[['AgeGroup', 'DeathRate']].max())"
   ]
  },
  {
   "cell_type": "code",
   "execution_count": 23,
   "id": "c95bca52-8aa9-43d6-84c6-68de2c41c015",
   "metadata": {
    "tags": []
   },
   "outputs": [
    {
     "name": "stdout",
     "output_type": "stream",
     "text": [
      "Year         476\n",
      "AgeGroup     476\n",
      "DeathRate    476\n",
      "dtype: int64\n"
     ]
    }
   ],
   "source": [
    "print(mortality_data.count())"
   ]
  },
  {
   "cell_type": "code",
   "execution_count": 24,
   "id": "2cf831f4-8eb4-4d3e-9083-f5af16a3a288",
   "metadata": {
    "tags": []
   },
   "outputs": [
    {
     "name": "stdout",
     "output_type": "stream",
     "text": [
      "       Year\n",
      "0.5  1959.0\n",
      "Year    1959.0\n",
      "dtype: float64\n"
     ]
    }
   ],
   "source": [
    "print(mortality_data[['Year']].quantile([.5]))\n",
    "print(mortality_data[['Year']].median())"
   ]
  },
  {
   "cell_type": "code",
   "execution_count": 25,
   "id": "e2973823-5b7b-4b8b-aa88-77fd28083964",
   "metadata": {
    "tags": []
   },
   "outputs": [
    {
     "name": "stdout",
     "output_type": "stream",
     "text": [
      "       Year  DeathRate\n",
      "0.5  1959.0       89.5\n",
      "Year         1959.0\n",
      "DeathRate      89.5\n",
      "dtype: float64\n"
     ]
    }
   ],
   "source": [
    "print(mortality_data[['Year', 'DeathRate']].quantile([.5]))\n",
    "print(mortality_data[['Year', 'DeathRate']].median())"
   ]
  },
  {
   "cell_type": "code",
   "execution_count": 26,
   "id": "7e141bab-224a-483d-8974-cf710ee745cd",
   "metadata": {
    "tags": []
   },
   "outputs": [
    {
     "name": "stdout",
     "output_type": "stream",
     "text": [
      "       Year  DeathRate\n",
      "0.1  1911.5      21.50\n",
      "0.9  2006.5     430.85\n"
     ]
    }
   ],
   "source": [
    "print(mortality_data.quantile([.1, .9], numeric_only=True))"
   ]
  },
  {
   "cell_type": "code",
   "execution_count": 27,
   "id": "9f828584-ee6e-4394-8b67-a7b88d76d555",
   "metadata": {
    "tags": []
   },
   "outputs": [
    {
     "name": "stdout",
     "output_type": "stream",
     "text": [
      "0       1983.8\n",
      "1       3678.8\n",
      "2       5334.5\n",
      "3       6876.6\n",
      "4       8468.1\n",
      "        ...   \n",
      "471    91631.7\n",
      "472    91680.0\n",
      "473    91731.2\n",
      "474    91782.7\n",
      "475    91831.9\n",
      "Name: DeathRate, Length: 476, dtype: float64\n"
     ]
    }
   ],
   "source": [
    "print(mortality_data['DeathRate'].cumsum())"
   ]
  },
  {
   "cell_type": "code",
   "execution_count": 28,
   "id": "fa19a3c3-3414-401a-812c-24d9ff0e798e",
   "metadata": {
    "tags": []
   },
   "outputs": [
    {
     "name": "stdout",
     "output_type": "stream",
     "text": [
      "0    1983.8\n",
      "1    1695.0\n",
      "2    1655.7\n",
      "3    1542.1\n",
      "4    1591.5\n",
      "Name: DeathRate, dtype: float64\n"
     ]
    }
   ],
   "source": [
    "print(mortality_data['DeathRate'].head(5))"
   ]
  },
  {
   "cell_type": "markdown",
   "id": "3dc5a71b-589c-49a7-8e1c-3ae7faf72dd2",
   "metadata": {},
   "source": [
    "## Preparing data - column arithmetic"
   ]
  },
  {
   "cell_type": "code",
   "execution_count": 30,
   "id": "5fd7150e-7ddf-4c42-84c1-ad87909037aa",
   "metadata": {
    "tags": []
   },
   "outputs": [],
   "source": [
    "mortality_data['Mean'] = mortality_data.DeathRate.mean()\n",
    "mortality_data['MeanCentered'] = \\\n",
    "    mortality_data.DeathRate - mortality_data.DeathRate.mean()"
   ]
  },
  {
   "cell_type": "code",
   "execution_count": 31,
   "id": "491eafe4-79bf-4441-bd22-72b5d5b4806a",
   "metadata": {
    "tags": []
   },
   "outputs": [
    {
     "name": "stdout",
     "output_type": "stream",
     "text": [
      "     Year     AgeGroup  DeathRate       Mean  MeanCentered\n",
      "0    1900    1-4 Years     1983.8  192.92416    1790.87584\n",
      "1    1901    1-4 Years     1695.0  192.92416    1502.07584\n",
      "2    1902    1-4 Years     1655.7  192.92416    1462.77584\n",
      "3    1903    1-4 Years     1542.1  192.92416    1349.17584\n",
      "4    1904    1-4 Years     1591.5  192.92416    1398.57584\n",
      "..    ...          ...        ...        ...           ...\n",
      "471  2014  15-19 Years       45.5  192.92416    -147.42416\n",
      "472  2015  15-19 Years       48.3  192.92416    -144.62416\n",
      "473  2016  15-19 Years       51.2  192.92416    -141.72416\n",
      "474  2017  15-19 Years       51.5  192.92416    -141.42416\n",
      "475  2018  15-19 Years       49.2  192.92416    -143.72416\n",
      "\n",
      "[476 rows x 5 columns]\n"
     ]
    }
   ],
   "source": [
    "print(mortality_data)"
   ]
  },
  {
   "cell_type": "markdown",
   "id": "8cfc17ab-fe97-41b8-bb42-ce55a5c8b7b4",
   "metadata": {},
   "source": [
    "## Preparing data - modify string data in column"
   ]
  },
  {
   "cell_type": "code",
   "execution_count": 33,
   "id": "0f0d7230-d92a-4c6e-92e9-07c14ea4822b",
   "metadata": {
    "tags": []
   },
   "outputs": [],
   "source": [
    "mortality_data.AgeGroup.replace(\n",
    "    {'1-4 Years':'01-04 Years','5-9 Years':'05-09 Years'},\n",
    "    inplace=True)"
   ]
  },
  {
   "cell_type": "markdown",
   "id": "44d41beb-545f-4cb3-83e3-dea9fb6fa3d8",
   "metadata": {},
   "source": [
    "## Save prepped DataFrame to pickle file, then read"
   ]
  },
  {
   "cell_type": "code",
   "execution_count": 35,
   "id": "657eb517-d237-4923-a7c6-ee584d00e74f",
   "metadata": {
    "tags": []
   },
   "outputs": [],
   "source": [
    "mortality_data.to_pickle('mortality_prepped.pkl')"
   ]
  },
  {
   "cell_type": "code",
   "execution_count": 36,
   "id": "822a3e44-0e5b-49eb-92be-9f3ec1a0a7e8",
   "metadata": {
    "tags": []
   },
   "outputs": [
    {
     "data": {
      "text/html": [
       "<div>\n",
       "<style scoped>\n",
       "    .dataframe tbody tr th:only-of-type {\n",
       "        vertical-align: middle;\n",
       "    }\n",
       "\n",
       "    .dataframe tbody tr th {\n",
       "        vertical-align: top;\n",
       "    }\n",
       "\n",
       "    .dataframe thead th {\n",
       "        text-align: right;\n",
       "    }\n",
       "</style>\n",
       "<table border=\"1\" class=\"dataframe\">\n",
       "  <thead>\n",
       "    <tr style=\"text-align: right;\">\n",
       "      <th></th>\n",
       "      <th>Year</th>\n",
       "      <th>AgeGroup</th>\n",
       "      <th>DeathRate</th>\n",
       "      <th>Mean</th>\n",
       "      <th>MeanCentered</th>\n",
       "    </tr>\n",
       "  </thead>\n",
       "  <tbody>\n",
       "    <tr>\n",
       "      <th>0</th>\n",
       "      <td>1900</td>\n",
       "      <td>01-04 Years</td>\n",
       "      <td>1983.8</td>\n",
       "      <td>192.92416</td>\n",
       "      <td>1790.87584</td>\n",
       "    </tr>\n",
       "    <tr>\n",
       "      <th>1</th>\n",
       "      <td>1901</td>\n",
       "      <td>01-04 Years</td>\n",
       "      <td>1695.0</td>\n",
       "      <td>192.92416</td>\n",
       "      <td>1502.07584</td>\n",
       "    </tr>\n",
       "    <tr>\n",
       "      <th>2</th>\n",
       "      <td>1902</td>\n",
       "      <td>01-04 Years</td>\n",
       "      <td>1655.7</td>\n",
       "      <td>192.92416</td>\n",
       "      <td>1462.77584</td>\n",
       "    </tr>\n",
       "    <tr>\n",
       "      <th>3</th>\n",
       "      <td>1903</td>\n",
       "      <td>01-04 Years</td>\n",
       "      <td>1542.1</td>\n",
       "      <td>192.92416</td>\n",
       "      <td>1349.17584</td>\n",
       "    </tr>\n",
       "    <tr>\n",
       "      <th>4</th>\n",
       "      <td>1904</td>\n",
       "      <td>01-04 Years</td>\n",
       "      <td>1591.5</td>\n",
       "      <td>192.92416</td>\n",
       "      <td>1398.57584</td>\n",
       "    </tr>\n",
       "  </tbody>\n",
       "</table>\n",
       "</div>"
      ],
      "text/plain": [
       "   Year     AgeGroup  DeathRate       Mean  MeanCentered\n",
       "0  1900  01-04 Years     1983.8  192.92416    1790.87584\n",
       "1  1901  01-04 Years     1695.0  192.92416    1502.07584\n",
       "2  1902  01-04 Years     1655.7  192.92416    1462.77584\n",
       "3  1903  01-04 Years     1542.1  192.92416    1349.17584\n",
       "4  1904  01-04 Years     1591.5  192.92416    1398.57584"
      ]
     },
     "execution_count": 36,
     "metadata": {},
     "output_type": "execute_result"
    }
   ],
   "source": [
    "mortality_data = pd.read_pickle('mortality_prepped.pkl')\n",
    "mortality_data.head()"
   ]
  },
  {
   "cell_type": "markdown",
   "id": "66452850-b108-4afb-a92d-d44c399bb2e1",
   "metadata": {
    "tags": []
   },
   "source": [
    "## Shape data - using index (sometimes, makes plotting easier!)"
   ]
  },
  {
   "cell_type": "markdown",
   "id": "e99fd3d0-336a-4803-a7d6-09e8d5ec7fdc",
   "metadata": {},
   "source": [
    "### Set and use an index"
   ]
  },
  {
   "cell_type": "code",
   "execution_count": 39,
   "id": "d4f0f687-6420-4004-b19a-cdb4fc3f88ba",
   "metadata": {
    "tags": []
   },
   "outputs": [
    {
     "data": {
      "text/html": [
       "<div>\n",
       "<style scoped>\n",
       "    .dataframe tbody tr th:only-of-type {\n",
       "        vertical-align: middle;\n",
       "    }\n",
       "\n",
       "    .dataframe tbody tr th {\n",
       "        vertical-align: top;\n",
       "    }\n",
       "\n",
       "    .dataframe thead th {\n",
       "        text-align: right;\n",
       "    }\n",
       "</style>\n",
       "<table border=\"1\" class=\"dataframe\">\n",
       "  <thead>\n",
       "    <tr style=\"text-align: right;\">\n",
       "      <th></th>\n",
       "      <th>Year</th>\n",
       "      <th>AgeGroup</th>\n",
       "      <th>DeathRate</th>\n",
       "      <th>Mean</th>\n",
       "      <th>MeanCentered</th>\n",
       "    </tr>\n",
       "  </thead>\n",
       "  <tbody>\n",
       "    <tr>\n",
       "      <th>0</th>\n",
       "      <td>1900</td>\n",
       "      <td>01-04 Years</td>\n",
       "      <td>1983.8</td>\n",
       "      <td>192.92416</td>\n",
       "      <td>1790.87584</td>\n",
       "    </tr>\n",
       "    <tr>\n",
       "      <th>1</th>\n",
       "      <td>1901</td>\n",
       "      <td>01-04 Years</td>\n",
       "      <td>1695.0</td>\n",
       "      <td>192.92416</td>\n",
       "      <td>1502.07584</td>\n",
       "    </tr>\n",
       "  </tbody>\n",
       "</table>\n",
       "</div>"
      ],
      "text/plain": [
       "   Year     AgeGroup  DeathRate       Mean  MeanCentered\n",
       "0  1900  01-04 Years     1983.8  192.92416    1790.87584\n",
       "1  1901  01-04 Years     1695.0  192.92416    1502.07584"
      ]
     },
     "execution_count": 39,
     "metadata": {},
     "output_type": "execute_result"
    }
   ],
   "source": [
    "mortality_data.head(2)"
   ]
  },
  {
   "cell_type": "code",
   "execution_count": 40,
   "id": "519d5dad-6954-412a-ae51-0211c5867a8a",
   "metadata": {
    "tags": []
   },
   "outputs": [
    {
     "data": {
      "text/html": [
       "<div>\n",
       "<style scoped>\n",
       "    .dataframe tbody tr th:only-of-type {\n",
       "        vertical-align: middle;\n",
       "    }\n",
       "\n",
       "    .dataframe tbody tr th {\n",
       "        vertical-align: top;\n",
       "    }\n",
       "\n",
       "    .dataframe thead th {\n",
       "        text-align: right;\n",
       "    }\n",
       "</style>\n",
       "<table border=\"1\" class=\"dataframe\">\n",
       "  <thead>\n",
       "    <tr style=\"text-align: right;\">\n",
       "      <th></th>\n",
       "      <th>AgeGroup</th>\n",
       "      <th>DeathRate</th>\n",
       "      <th>Mean</th>\n",
       "      <th>MeanCentered</th>\n",
       "    </tr>\n",
       "    <tr>\n",
       "      <th>Year</th>\n",
       "      <th></th>\n",
       "      <th></th>\n",
       "      <th></th>\n",
       "      <th></th>\n",
       "    </tr>\n",
       "  </thead>\n",
       "  <tbody>\n",
       "    <tr>\n",
       "      <th>1900</th>\n",
       "      <td>01-04 Years</td>\n",
       "      <td>1983.8</td>\n",
       "      <td>192.92416</td>\n",
       "      <td>1790.87584</td>\n",
       "    </tr>\n",
       "    <tr>\n",
       "      <th>1901</th>\n",
       "      <td>01-04 Years</td>\n",
       "      <td>1695.0</td>\n",
       "      <td>192.92416</td>\n",
       "      <td>1502.07584</td>\n",
       "    </tr>\n",
       "  </tbody>\n",
       "</table>\n",
       "</div>"
      ],
      "text/plain": [
       "         AgeGroup  DeathRate       Mean  MeanCentered\n",
       "Year                                                 \n",
       "1900  01-04 Years     1983.8  192.92416    1790.87584\n",
       "1901  01-04 Years     1695.0  192.92416    1502.07584"
      ]
     },
     "execution_count": 40,
     "metadata": {},
     "output_type": "execute_result"
    }
   ],
   "source": [
    "mortality_data = mortality_data.set_index('Year')\n",
    "mortality_data.head(2)"
   ]
  },
  {
   "cell_type": "code",
   "execution_count": 41,
   "id": "a94672c5-a2aa-4204-b916-d766406d465f",
   "metadata": {
    "tags": []
   },
   "outputs": [
    {
     "data": {
      "text/html": [
       "<div>\n",
       "<style scoped>\n",
       "    .dataframe tbody tr th:only-of-type {\n",
       "        vertical-align: middle;\n",
       "    }\n",
       "\n",
       "    .dataframe tbody tr th {\n",
       "        vertical-align: top;\n",
       "    }\n",
       "\n",
       "    .dataframe thead th {\n",
       "        text-align: right;\n",
       "    }\n",
       "</style>\n",
       "<table border=\"1\" class=\"dataframe\">\n",
       "  <thead>\n",
       "    <tr style=\"text-align: right;\">\n",
       "      <th></th>\n",
       "      <th>Year</th>\n",
       "      <th>AgeGroup</th>\n",
       "      <th>DeathRate</th>\n",
       "      <th>Mean</th>\n",
       "      <th>MeanCentered</th>\n",
       "    </tr>\n",
       "  </thead>\n",
       "  <tbody>\n",
       "    <tr>\n",
       "      <th>0</th>\n",
       "      <td>1900</td>\n",
       "      <td>01-04 Years</td>\n",
       "      <td>1983.8</td>\n",
       "      <td>192.92416</td>\n",
       "      <td>1790.87584</td>\n",
       "    </tr>\n",
       "    <tr>\n",
       "      <th>1</th>\n",
       "      <td>1901</td>\n",
       "      <td>01-04 Years</td>\n",
       "      <td>1695.0</td>\n",
       "      <td>192.92416</td>\n",
       "      <td>1502.07584</td>\n",
       "    </tr>\n",
       "  </tbody>\n",
       "</table>\n",
       "</div>"
      ],
      "text/plain": [
       "   Year     AgeGroup  DeathRate       Mean  MeanCentered\n",
       "0  1900  01-04 Years     1983.8  192.92416    1790.87584\n",
       "1  1901  01-04 Years     1695.0  192.92416    1502.07584"
      ]
     },
     "execution_count": 41,
     "metadata": {},
     "output_type": "execute_result"
    }
   ],
   "source": [
    "mortality_data.reset_index(inplace=True)\n",
    "mortality_data.head(2)"
   ]
  },
  {
   "cell_type": "code",
   "execution_count": 42,
   "id": "76a21696-c2fc-4676-8238-deee0da5f384",
   "metadata": {
    "tags": []
   },
   "outputs": [
    {
     "data": {
      "text/html": [
       "<div>\n",
       "<style scoped>\n",
       "    .dataframe tbody tr th:only-of-type {\n",
       "        vertical-align: middle;\n",
       "    }\n",
       "\n",
       "    .dataframe tbody tr th {\n",
       "        vertical-align: top;\n",
       "    }\n",
       "\n",
       "    .dataframe thead th {\n",
       "        text-align: right;\n",
       "    }\n",
       "</style>\n",
       "<table border=\"1\" class=\"dataframe\">\n",
       "  <thead>\n",
       "    <tr style=\"text-align: right;\">\n",
       "      <th></th>\n",
       "      <th></th>\n",
       "      <th>DeathRate</th>\n",
       "      <th>Mean</th>\n",
       "      <th>MeanCentered</th>\n",
       "    </tr>\n",
       "    <tr>\n",
       "      <th>Year</th>\n",
       "      <th>AgeGroup</th>\n",
       "      <th></th>\n",
       "      <th></th>\n",
       "      <th></th>\n",
       "    </tr>\n",
       "  </thead>\n",
       "  <tbody>\n",
       "    <tr>\n",
       "      <th>1900</th>\n",
       "      <th>01-04 Years</th>\n",
       "      <td>1983.8</td>\n",
       "      <td>192.92416</td>\n",
       "      <td>1790.87584</td>\n",
       "    </tr>\n",
       "    <tr>\n",
       "      <th>1901</th>\n",
       "      <th>01-04 Years</th>\n",
       "      <td>1695.0</td>\n",
       "      <td>192.92416</td>\n",
       "      <td>1502.07584</td>\n",
       "    </tr>\n",
       "  </tbody>\n",
       "</table>\n",
       "</div>"
      ],
      "text/plain": [
       "                  DeathRate       Mean  MeanCentered\n",
       "Year AgeGroup                                       \n",
       "1900 01-04 Years     1983.8  192.92416    1790.87584\n",
       "1901 01-04 Years     1695.0  192.92416    1502.07584"
      ]
     },
     "execution_count": 42,
     "metadata": {},
     "output_type": "execute_result"
    }
   ],
   "source": [
    "mortality_data = mortality_data.set_index(\n",
    "    ['Year', 'AgeGroup'], verify_integrity=True)\n",
    "mortality_data.head(2)"
   ]
  },
  {
   "cell_type": "code",
   "execution_count": 43,
   "id": "b2ab7710-801b-4d11-9bec-1815a6a20e32",
   "metadata": {
    "tags": []
   },
   "outputs": [
    {
     "data": {
      "text/html": [
       "<div>\n",
       "<style scoped>\n",
       "    .dataframe tbody tr th:only-of-type {\n",
       "        vertical-align: middle;\n",
       "    }\n",
       "\n",
       "    .dataframe tbody tr th {\n",
       "        vertical-align: top;\n",
       "    }\n",
       "\n",
       "    .dataframe thead th {\n",
       "        text-align: right;\n",
       "    }\n",
       "</style>\n",
       "<table border=\"1\" class=\"dataframe\">\n",
       "  <thead>\n",
       "    <tr style=\"text-align: right;\">\n",
       "      <th></th>\n",
       "      <th>Year</th>\n",
       "      <th>AgeGroup</th>\n",
       "      <th>DeathRate</th>\n",
       "      <th>Mean</th>\n",
       "      <th>MeanCentered</th>\n",
       "    </tr>\n",
       "  </thead>\n",
       "  <tbody>\n",
       "    <tr>\n",
       "      <th>0</th>\n",
       "      <td>1900</td>\n",
       "      <td>01-04 Years</td>\n",
       "      <td>1983.8</td>\n",
       "      <td>192.92416</td>\n",
       "      <td>1790.87584</td>\n",
       "    </tr>\n",
       "    <tr>\n",
       "      <th>1</th>\n",
       "      <td>1901</td>\n",
       "      <td>01-04 Years</td>\n",
       "      <td>1695.0</td>\n",
       "      <td>192.92416</td>\n",
       "      <td>1502.07584</td>\n",
       "    </tr>\n",
       "  </tbody>\n",
       "</table>\n",
       "</div>"
      ],
      "text/plain": [
       "   Year     AgeGroup  DeathRate       Mean  MeanCentered\n",
       "0  1900  01-04 Years     1983.8  192.92416    1790.87584\n",
       "1  1901  01-04 Years     1695.0  192.92416    1502.07584"
      ]
     },
     "execution_count": 43,
     "metadata": {},
     "output_type": "execute_result"
    }
   ],
   "source": [
    "mortality_data.reset_index(inplace=True)\n",
    "mortality_data.head(2)"
   ]
  },
  {
   "cell_type": "markdown",
   "id": "62c68560-6c85-4ccb-9c34-d3ae6b12ae9b",
   "metadata": {},
   "source": [
    "## Shape data - using pivot (wide data)\n",
    "\n",
    "- Similar to spreadsheet\n",
    "- Each observation defined by both\n",
    "    1. value at cell in table, and\n",
    "    2. coordinates of cell with respect to row and column indices.\n",
    "- Note: **Cannot** access variables in dataset by name\n",
    "\n",
    "## Pandas pivot() function:\n",
    "\n",
    "**Parameters:** \n",
    "\n",
    "- *index*: Column to use to make new DataFrame's index. If None, uses existing index.\n",
    "- *columns*: Column to use to make new DataFrame's columns.\n",
    "- *values*: Column(s) to use for populating new DataFrame's values. If not specified, all remaining columns used.\n",
    "- Returns: Reshaped DataFrame\n",
    "- Exception: ValueError raised if there are any duplicate indexes"
   ]
  },
  {
   "cell_type": "code",
   "execution_count": 45,
   "id": "b94c31b7-9a28-41cd-9ea5-41c5537152e0",
   "metadata": {
    "tags": []
   },
   "outputs": [
    {
     "data": {
      "text/html": [
       "<div>\n",
       "<style scoped>\n",
       "    .dataframe tbody tr th:only-of-type {\n",
       "        vertical-align: middle;\n",
       "    }\n",
       "\n",
       "    .dataframe tbody tr th {\n",
       "        vertical-align: top;\n",
       "    }\n",
       "\n",
       "    .dataframe thead tr th {\n",
       "        text-align: left;\n",
       "    }\n",
       "\n",
       "    .dataframe thead tr:last-of-type th {\n",
       "        text-align: right;\n",
       "    }\n",
       "</style>\n",
       "<table border=\"1\" class=\"dataframe\">\n",
       "  <thead>\n",
       "    <tr>\n",
       "      <th></th>\n",
       "      <th colspan=\"4\" halign=\"left\">DeathRate</th>\n",
       "      <th colspan=\"4\" halign=\"left\">Mean</th>\n",
       "      <th colspan=\"4\" halign=\"left\">MeanCentered</th>\n",
       "    </tr>\n",
       "    <tr>\n",
       "      <th>AgeGroup</th>\n",
       "      <th>01-04 Years</th>\n",
       "      <th>05-09 Years</th>\n",
       "      <th>10-14 Years</th>\n",
       "      <th>15-19 Years</th>\n",
       "      <th>01-04 Years</th>\n",
       "      <th>05-09 Years</th>\n",
       "      <th>10-14 Years</th>\n",
       "      <th>15-19 Years</th>\n",
       "      <th>01-04 Years</th>\n",
       "      <th>05-09 Years</th>\n",
       "      <th>10-14 Years</th>\n",
       "      <th>15-19 Years</th>\n",
       "    </tr>\n",
       "    <tr>\n",
       "      <th>Year</th>\n",
       "      <th></th>\n",
       "      <th></th>\n",
       "      <th></th>\n",
       "      <th></th>\n",
       "      <th></th>\n",
       "      <th></th>\n",
       "      <th></th>\n",
       "      <th></th>\n",
       "      <th></th>\n",
       "      <th></th>\n",
       "      <th></th>\n",
       "      <th></th>\n",
       "    </tr>\n",
       "  </thead>\n",
       "  <tbody>\n",
       "    <tr>\n",
       "      <th>1900</th>\n",
       "      <td>1983.8</td>\n",
       "      <td>466.1</td>\n",
       "      <td>298.3</td>\n",
       "      <td>484.8</td>\n",
       "      <td>192.92416</td>\n",
       "      <td>192.92416</td>\n",
       "      <td>192.92416</td>\n",
       "      <td>192.92416</td>\n",
       "      <td>1790.87584</td>\n",
       "      <td>273.17584</td>\n",
       "      <td>105.37584</td>\n",
       "      <td>291.87584</td>\n",
       "    </tr>\n",
       "    <tr>\n",
       "      <th>1901</th>\n",
       "      <td>1695.0</td>\n",
       "      <td>427.6</td>\n",
       "      <td>273.6</td>\n",
       "      <td>454.4</td>\n",
       "      <td>192.92416</td>\n",
       "      <td>192.92416</td>\n",
       "      <td>192.92416</td>\n",
       "      <td>192.92416</td>\n",
       "      <td>1502.07584</td>\n",
       "      <td>234.67584</td>\n",
       "      <td>80.67584</td>\n",
       "      <td>261.47584</td>\n",
       "    </tr>\n",
       "    <tr>\n",
       "      <th>1902</th>\n",
       "      <td>1655.7</td>\n",
       "      <td>403.3</td>\n",
       "      <td>252.5</td>\n",
       "      <td>421.5</td>\n",
       "      <td>192.92416</td>\n",
       "      <td>192.92416</td>\n",
       "      <td>192.92416</td>\n",
       "      <td>192.92416</td>\n",
       "      <td>1462.77584</td>\n",
       "      <td>210.37584</td>\n",
       "      <td>59.57584</td>\n",
       "      <td>228.57584</td>\n",
       "    </tr>\n",
       "  </tbody>\n",
       "</table>\n",
       "</div>"
      ],
      "text/plain": [
       "           DeathRate                                            Mean  \\\n",
       "AgeGroup 01-04 Years 05-09 Years 10-14 Years 15-19 Years 01-04 Years   \n",
       "Year                                                                   \n",
       "1900          1983.8       466.1       298.3       484.8   192.92416   \n",
       "1901          1695.0       427.6       273.6       454.4   192.92416   \n",
       "1902          1655.7       403.3       252.5       421.5   192.92416   \n",
       "\n",
       "                                             MeanCentered              \\\n",
       "AgeGroup 05-09 Years 10-14 Years 15-19 Years  01-04 Years 05-09 Years   \n",
       "Year                                                                    \n",
       "1900       192.92416   192.92416   192.92416   1790.87584   273.17584   \n",
       "1901       192.92416   192.92416   192.92416   1502.07584   234.67584   \n",
       "1902       192.92416   192.92416   192.92416   1462.77584   210.37584   \n",
       "\n",
       "                                  \n",
       "AgeGroup 10-14 Years 15-19 Years  \n",
       "Year                              \n",
       "1900       105.37584   291.87584  \n",
       "1901        80.67584   261.47584  \n",
       "1902        59.57584   228.57584  "
      ]
     },
     "execution_count": 45,
     "metadata": {},
     "output_type": "execute_result"
    }
   ],
   "source": [
    "mortality_wide = mortality_data.pivot(index=\"Year\",columns=\"AgeGroup\")\n",
    "mortality_wide.head(3)"
   ]
  },
  {
   "cell_type": "code",
   "execution_count": 46,
   "id": "aab6f5fb-ef06-4f1f-a00a-461e10105ae9",
   "metadata": {
    "tags": []
   },
   "outputs": [
    {
     "data": {
      "text/html": [
       "<div>\n",
       "<style scoped>\n",
       "    .dataframe tbody tr th:only-of-type {\n",
       "        vertical-align: middle;\n",
       "    }\n",
       "\n",
       "    .dataframe tbody tr th {\n",
       "        vertical-align: top;\n",
       "    }\n",
       "\n",
       "    .dataframe thead th {\n",
       "        text-align: right;\n",
       "    }\n",
       "</style>\n",
       "<table border=\"1\" class=\"dataframe\">\n",
       "  <thead>\n",
       "    <tr style=\"text-align: right;\">\n",
       "      <th>AgeGroup</th>\n",
       "      <th>01-04 Years</th>\n",
       "      <th>05-09 Years</th>\n",
       "      <th>10-14 Years</th>\n",
       "      <th>15-19 Years</th>\n",
       "    </tr>\n",
       "    <tr>\n",
       "      <th>Year</th>\n",
       "      <th></th>\n",
       "      <th></th>\n",
       "      <th></th>\n",
       "      <th></th>\n",
       "    </tr>\n",
       "  </thead>\n",
       "  <tbody>\n",
       "    <tr>\n",
       "      <th>1900</th>\n",
       "      <td>1983.8</td>\n",
       "      <td>466.1</td>\n",
       "      <td>298.3</td>\n",
       "      <td>484.8</td>\n",
       "    </tr>\n",
       "    <tr>\n",
       "      <th>1901</th>\n",
       "      <td>1695.0</td>\n",
       "      <td>427.6</td>\n",
       "      <td>273.6</td>\n",
       "      <td>454.4</td>\n",
       "    </tr>\n",
       "    <tr>\n",
       "      <th>1902</th>\n",
       "      <td>1655.7</td>\n",
       "      <td>403.3</td>\n",
       "      <td>252.5</td>\n",
       "      <td>421.5</td>\n",
       "    </tr>\n",
       "  </tbody>\n",
       "</table>\n",
       "</div>"
      ],
      "text/plain": [
       "AgeGroup  01-04 Years  05-09 Years  10-14 Years  15-19 Years\n",
       "Year                                                        \n",
       "1900           1983.8        466.1        298.3        484.8\n",
       "1901           1695.0        427.6        273.6        454.4\n",
       "1902           1655.7        403.3        252.5        421.5"
      ]
     },
     "execution_count": 46,
     "metadata": {},
     "output_type": "execute_result"
    }
   ],
   "source": [
    "mortality_wide = mortality_data.pivot(index=\"Year\", columns=\"AgeGroup\", values=\"DeathRate\")\n",
    "mortality_wide.head(3)"
   ]
  },
  {
   "cell_type": "code",
   "execution_count": 47,
   "id": "d306cd4f-375d-4e8e-905a-6805659be884",
   "metadata": {
    "tags": []
   },
   "outputs": [],
   "source": [
    "mortality_wide.to_excel('mortality_wide.xlsx')"
   ]
  },
  {
   "cell_type": "code",
   "execution_count": 48,
   "id": "0659fe1e-483f-4df9-a995-b6f7bd8e8b14",
   "metadata": {
    "tags": []
   },
   "outputs": [
    {
     "name": "stdout",
     "output_type": "stream",
     "text": [
      "   Year  01-04 Years  05-09 Years  10-14 Years  15-19 Years\n",
      "0  1900       1983.8        466.1        298.3        484.8\n",
      "1  1901       1695.0        427.6        273.6        454.4\n",
      "2  1902       1655.7        403.3        252.5        421.5\n",
      "3  1903       1542.1        414.7        268.2        434.1\n"
     ]
    }
   ],
   "source": [
    "mortality_wide = pd.read_excel('mortality_wide.xlsx')\n",
    "print(mortality_wide.head(4))"
   ]
  },
  {
   "cell_type": "code",
   "execution_count": 49,
   "id": "97dba258-019f-4601-880f-773f24d83459",
   "metadata": {
    "tags": []
   },
   "outputs": [],
   "source": [
    "mortality_wide.to_pickle('mortality_wide.pkl')"
   ]
  },
  {
   "cell_type": "code",
   "execution_count": 50,
   "id": "efcfd3c8-edaf-4168-8327-4a253d40835c",
   "metadata": {
    "tags": []
   },
   "outputs": [
    {
     "data": {
      "text/html": [
       "<div>\n",
       "<style scoped>\n",
       "    .dataframe tbody tr th:only-of-type {\n",
       "        vertical-align: middle;\n",
       "    }\n",
       "\n",
       "    .dataframe tbody tr th {\n",
       "        vertical-align: top;\n",
       "    }\n",
       "\n",
       "    .dataframe thead th {\n",
       "        text-align: right;\n",
       "    }\n",
       "</style>\n",
       "<table border=\"1\" class=\"dataframe\">\n",
       "  <thead>\n",
       "    <tr style=\"text-align: right;\">\n",
       "      <th></th>\n",
       "      <th>Year</th>\n",
       "      <th>01-04 Years</th>\n",
       "      <th>05-09 Years</th>\n",
       "      <th>10-14 Years</th>\n",
       "      <th>15-19 Years</th>\n",
       "    </tr>\n",
       "  </thead>\n",
       "  <tbody>\n",
       "    <tr>\n",
       "      <th>0</th>\n",
       "      <td>1900</td>\n",
       "      <td>1983.8</td>\n",
       "      <td>466.1</td>\n",
       "      <td>298.3</td>\n",
       "      <td>484.8</td>\n",
       "    </tr>\n",
       "    <tr>\n",
       "      <th>1</th>\n",
       "      <td>1901</td>\n",
       "      <td>1695.0</td>\n",
       "      <td>427.6</td>\n",
       "      <td>273.6</td>\n",
       "      <td>454.4</td>\n",
       "    </tr>\n",
       "    <tr>\n",
       "      <th>2</th>\n",
       "      <td>1902</td>\n",
       "      <td>1655.7</td>\n",
       "      <td>403.3</td>\n",
       "      <td>252.5</td>\n",
       "      <td>421.5</td>\n",
       "    </tr>\n",
       "    <tr>\n",
       "      <th>3</th>\n",
       "      <td>1903</td>\n",
       "      <td>1542.1</td>\n",
       "      <td>414.7</td>\n",
       "      <td>268.2</td>\n",
       "      <td>434.1</td>\n",
       "    </tr>\n",
       "    <tr>\n",
       "      <th>4</th>\n",
       "      <td>1904</td>\n",
       "      <td>1591.5</td>\n",
       "      <td>425.0</td>\n",
       "      <td>305.2</td>\n",
       "      <td>471.4</td>\n",
       "    </tr>\n",
       "  </tbody>\n",
       "</table>\n",
       "</div>"
      ],
      "text/plain": [
       "   Year  01-04 Years  05-09 Years  10-14 Years  15-19 Years\n",
       "0  1900       1983.8        466.1        298.3        484.8\n",
       "1  1901       1695.0        427.6        273.6        454.4\n",
       "2  1902       1655.7        403.3        252.5        421.5\n",
       "3  1903       1542.1        414.7        268.2        434.1\n",
       "4  1904       1591.5        425.0        305.2        471.4"
      ]
     },
     "execution_count": 50,
     "metadata": {},
     "output_type": "execute_result"
    }
   ],
   "source": [
    "mortality_wide = pd.read_pickle('mortality_wide.pkl')\n",
    "mortality_wide.head()"
   ]
  },
  {
   "cell_type": "markdown",
   "id": "449120ce-3fc0-4c6f-88f5-45623567f7a6",
   "metadata": {},
   "source": [
    "## Shape data - using melt (long data)\n",
    "    - Each variable is a column\n",
    "    - Each observation is a row\n",
    "    - can access variables in dataset by name\n",
    "    \n",
    "## Pandas melt() function:\n",
    "\n",
    "**Parameters:**\n",
    "\n",
    "    - *id_vars*: Column(s) to use as identifier variables\n",
    "    - *value_vars*: Column(s) to unpivot. If not specified, uses all columns not set as id_vars.\n",
    "    - *var_name*: Name to use for 'variable' column. If None, uses frame.columns.name or 'variable'.\n",
    "    - *value_name*: Name to use for 'value' column.\n",
    "    - *col_level*: If columns MultiIndex, then use this level to melt.\n",
    "    - *ignore_index*: If True, original index ignored. If False, original index retained. Index labels will be repeated as necessary.\n",
    "    - Returns: Reshaped DataFrame"
   ]
  },
  {
   "cell_type": "code",
   "execution_count": 52,
   "id": "ff6526ff-f7f7-4e5c-b8a3-5c618035cde2",
   "metadata": {
    "tags": []
   },
   "outputs": [
    {
     "data": {
      "text/html": [
       "<div>\n",
       "<style scoped>\n",
       "    .dataframe tbody tr th:only-of-type {\n",
       "        vertical-align: middle;\n",
       "    }\n",
       "\n",
       "    .dataframe tbody tr th {\n",
       "        vertical-align: top;\n",
       "    }\n",
       "\n",
       "    .dataframe thead th {\n",
       "        text-align: right;\n",
       "    }\n",
       "</style>\n",
       "<table border=\"1\" class=\"dataframe\">\n",
       "  <thead>\n",
       "    <tr style=\"text-align: right;\">\n",
       "      <th></th>\n",
       "      <th>Year</th>\n",
       "      <th>AgeGroup</th>\n",
       "      <th>DeathRate</th>\n",
       "    </tr>\n",
       "  </thead>\n",
       "  <tbody>\n",
       "    <tr>\n",
       "      <th>0</th>\n",
       "      <td>1900</td>\n",
       "      <td>01-04 Years</td>\n",
       "      <td>1983.8</td>\n",
       "    </tr>\n",
       "    <tr>\n",
       "      <th>1</th>\n",
       "      <td>1901</td>\n",
       "      <td>01-04 Years</td>\n",
       "      <td>1695.0</td>\n",
       "    </tr>\n",
       "    <tr>\n",
       "      <th>2</th>\n",
       "      <td>1902</td>\n",
       "      <td>01-04 Years</td>\n",
       "      <td>1655.7</td>\n",
       "    </tr>\n",
       "    <tr>\n",
       "      <th>3</th>\n",
       "      <td>1903</td>\n",
       "      <td>01-04 Years</td>\n",
       "      <td>1542.1</td>\n",
       "    </tr>\n",
       "  </tbody>\n",
       "</table>\n",
       "</div>"
      ],
      "text/plain": [
       "   Year     AgeGroup  DeathRate\n",
       "0  1900  01-04 Years     1983.8\n",
       "1  1901  01-04 Years     1695.0\n",
       "2  1902  01-04 Years     1655.7\n",
       "3  1903  01-04 Years     1542.1"
      ]
     },
     "execution_count": 52,
     "metadata": {},
     "output_type": "execute_result"
    }
   ],
   "source": [
    "mortality_long = mortality_wide.melt(\n",
    "    id_vars = 'Year',\n",
    "    value_vars = ['01-04 Years', '05-09 Years'],\n",
    "    var_name = 'AgeGroup',\n",
    "    value_name = 'DeathRate')\n",
    "mortality_long.head(4)"
   ]
  },
  {
   "cell_type": "code",
   "execution_count": 53,
   "id": "92f0d641-8ab3-408e-ae1b-df278581cffe",
   "metadata": {
    "tags": []
   },
   "outputs": [
    {
     "name": "stdout",
     "output_type": "stream",
     "text": [
      "     Year     AgeGroup  DeathRate\n",
      "0    1900  01-04 Years     1983.8\n",
      "1    1901  01-04 Years     1695.0\n",
      "2    1902  01-04 Years     1655.7\n",
      "..    ...          ...        ...\n",
      "235  2016  05-09 Years       12.2\n",
      "236  2017  05-09 Years       11.6\n",
      "237  2018  05-09 Years       11.5\n",
      "\n",
      "[238 rows x 3 columns]\n"
     ]
    }
   ],
   "source": [
    "with pd.option_context(\n",
    "    'display.max_rows', 6,\n",
    "        'display.max_columns', None):\n",
    "    print(mortality_long)"
   ]
  },
  {
   "cell_type": "markdown",
   "id": "308c827f-e25f-49bb-819b-329bde440612",
   "metadata": {},
   "source": [
    "## Analyze grouped data using (single) aggregate functions"
   ]
  },
  {
   "cell_type": "code",
   "execution_count": 55,
   "id": "7684a34a-d9e9-463a-9b14-6c50c7d33fdb",
   "metadata": {
    "tags": []
   },
   "outputs": [
    {
     "data": {
      "text/html": [
       "<div>\n",
       "<style scoped>\n",
       "    .dataframe tbody tr th:only-of-type {\n",
       "        vertical-align: middle;\n",
       "    }\n",
       "\n",
       "    .dataframe tbody tr th {\n",
       "        vertical-align: top;\n",
       "    }\n",
       "\n",
       "    .dataframe thead th {\n",
       "        text-align: right;\n",
       "    }\n",
       "</style>\n",
       "<table border=\"1\" class=\"dataframe\">\n",
       "  <thead>\n",
       "    <tr style=\"text-align: right;\">\n",
       "      <th></th>\n",
       "      <th>Year</th>\n",
       "      <th>AgeGroup</th>\n",
       "      <th>DeathRate</th>\n",
       "      <th>Mean</th>\n",
       "      <th>MeanCentered</th>\n",
       "    </tr>\n",
       "  </thead>\n",
       "  <tbody>\n",
       "    <tr>\n",
       "      <th>0</th>\n",
       "      <td>1900</td>\n",
       "      <td>01-04 Years</td>\n",
       "      <td>1983.8</td>\n",
       "      <td>192.92416</td>\n",
       "      <td>1790.87584</td>\n",
       "    </tr>\n",
       "    <tr>\n",
       "      <th>1</th>\n",
       "      <td>1901</td>\n",
       "      <td>01-04 Years</td>\n",
       "      <td>1695.0</td>\n",
       "      <td>192.92416</td>\n",
       "      <td>1502.07584</td>\n",
       "    </tr>\n",
       "    <tr>\n",
       "      <th>2</th>\n",
       "      <td>1902</td>\n",
       "      <td>01-04 Years</td>\n",
       "      <td>1655.7</td>\n",
       "      <td>192.92416</td>\n",
       "      <td>1462.77584</td>\n",
       "    </tr>\n",
       "    <tr>\n",
       "      <th>3</th>\n",
       "      <td>1903</td>\n",
       "      <td>01-04 Years</td>\n",
       "      <td>1542.1</td>\n",
       "      <td>192.92416</td>\n",
       "      <td>1349.17584</td>\n",
       "    </tr>\n",
       "    <tr>\n",
       "      <th>4</th>\n",
       "      <td>1904</td>\n",
       "      <td>01-04 Years</td>\n",
       "      <td>1591.5</td>\n",
       "      <td>192.92416</td>\n",
       "      <td>1398.57584</td>\n",
       "    </tr>\n",
       "  </tbody>\n",
       "</table>\n",
       "</div>"
      ],
      "text/plain": [
       "   Year     AgeGroup  DeathRate       Mean  MeanCentered\n",
       "0  1900  01-04 Years     1983.8  192.92416    1790.87584\n",
       "1  1901  01-04 Years     1695.0  192.92416    1502.07584\n",
       "2  1902  01-04 Years     1655.7  192.92416    1462.77584\n",
       "3  1903  01-04 Years     1542.1  192.92416    1349.17584\n",
       "4  1904  01-04 Years     1591.5  192.92416    1398.57584"
      ]
     },
     "execution_count": 55,
     "metadata": {},
     "output_type": "execute_result"
    }
   ],
   "source": [
    "mortality_data.head()"
   ]
  },
  {
   "cell_type": "code",
   "execution_count": 56,
   "id": "031c7135-d35e-45e5-8581-320483f1fea6",
   "metadata": {
    "tags": []
   },
   "outputs": [
    {
     "data": {
      "text/html": [
       "<div>\n",
       "<style scoped>\n",
       "    .dataframe tbody tr th:only-of-type {\n",
       "        vertical-align: middle;\n",
       "    }\n",
       "\n",
       "    .dataframe tbody tr th {\n",
       "        vertical-align: top;\n",
       "    }\n",
       "\n",
       "    .dataframe thead th {\n",
       "        text-align: right;\n",
       "    }\n",
       "</style>\n",
       "<table border=\"1\" class=\"dataframe\">\n",
       "  <thead>\n",
       "    <tr style=\"text-align: right;\">\n",
       "      <th></th>\n",
       "      <th>Year</th>\n",
       "      <th>DeathRate</th>\n",
       "      <th>Mean</th>\n",
       "      <th>MeanCentered</th>\n",
       "    </tr>\n",
       "    <tr>\n",
       "      <th>AgeGroup</th>\n",
       "      <th></th>\n",
       "      <th></th>\n",
       "      <th></th>\n",
       "      <th></th>\n",
       "    </tr>\n",
       "  </thead>\n",
       "  <tbody>\n",
       "    <tr>\n",
       "      <th>01-04 Years</th>\n",
       "      <td>1959.0</td>\n",
       "      <td>383.226050</td>\n",
       "      <td>192.92416</td>\n",
       "      <td>190.301891</td>\n",
       "    </tr>\n",
       "    <tr>\n",
       "      <th>05-09 Years</th>\n",
       "      <td>1959.0</td>\n",
       "      <td>117.326050</td>\n",
       "      <td>192.92416</td>\n",
       "      <td>-75.598109</td>\n",
       "    </tr>\n",
       "    <tr>\n",
       "      <th>10-14 Years</th>\n",
       "      <td>1959.0</td>\n",
       "      <td>93.769748</td>\n",
       "      <td>192.92416</td>\n",
       "      <td>-99.154412</td>\n",
       "    </tr>\n",
       "    <tr>\n",
       "      <th>15-19 Years</th>\n",
       "      <td>1959.0</td>\n",
       "      <td>177.374790</td>\n",
       "      <td>192.92416</td>\n",
       "      <td>-15.549370</td>\n",
       "    </tr>\n",
       "  </tbody>\n",
       "</table>\n",
       "</div>"
      ],
      "text/plain": [
       "               Year   DeathRate       Mean  MeanCentered\n",
       "AgeGroup                                                \n",
       "01-04 Years  1959.0  383.226050  192.92416    190.301891\n",
       "05-09 Years  1959.0  117.326050  192.92416    -75.598109\n",
       "10-14 Years  1959.0   93.769748  192.92416    -99.154412\n",
       "15-19 Years  1959.0  177.374790  192.92416    -15.549370"
      ]
     },
     "execution_count": 56,
     "metadata": {},
     "output_type": "execute_result"
    }
   ],
   "source": [
    "mortality_data.groupby('AgeGroup').mean()"
   ]
  },
  {
   "cell_type": "code",
   "execution_count": 57,
   "id": "fccd4948-b153-4b99-a433-d0d6b7cb771d",
   "metadata": {
    "tags": []
   },
   "outputs": [
    {
     "data": {
      "text/html": [
       "<div>\n",
       "<style scoped>\n",
       "    .dataframe tbody tr th:only-of-type {\n",
       "        vertical-align: middle;\n",
       "    }\n",
       "\n",
       "    .dataframe tbody tr th {\n",
       "        vertical-align: top;\n",
       "    }\n",
       "\n",
       "    .dataframe thead th {\n",
       "        text-align: right;\n",
       "    }\n",
       "</style>\n",
       "<table border=\"1\" class=\"dataframe\">\n",
       "  <thead>\n",
       "    <tr style=\"text-align: right;\">\n",
       "      <th></th>\n",
       "      <th>DeathRate</th>\n",
       "      <th>Mean</th>\n",
       "      <th>MeanCentered</th>\n",
       "    </tr>\n",
       "    <tr>\n",
       "      <th>Year</th>\n",
       "      <th></th>\n",
       "      <th></th>\n",
       "      <th></th>\n",
       "    </tr>\n",
       "  </thead>\n",
       "  <tbody>\n",
       "    <tr>\n",
       "      <th>1900</th>\n",
       "      <td>475.45</td>\n",
       "      <td>192.92416</td>\n",
       "      <td>282.52584</td>\n",
       "    </tr>\n",
       "    <tr>\n",
       "      <th>1901</th>\n",
       "      <td>441.00</td>\n",
       "      <td>192.92416</td>\n",
       "      <td>248.07584</td>\n",
       "    </tr>\n",
       "    <tr>\n",
       "      <th>1902</th>\n",
       "      <td>412.40</td>\n",
       "      <td>192.92416</td>\n",
       "      <td>219.47584</td>\n",
       "    </tr>\n",
       "    <tr>\n",
       "      <th>1903</th>\n",
       "      <td>424.40</td>\n",
       "      <td>192.92416</td>\n",
       "      <td>231.47584</td>\n",
       "    </tr>\n",
       "  </tbody>\n",
       "</table>\n",
       "</div>"
      ],
      "text/plain": [
       "      DeathRate       Mean  MeanCentered\n",
       "Year                                    \n",
       "1900     475.45  192.92416     282.52584\n",
       "1901     441.00  192.92416     248.07584\n",
       "1902     412.40  192.92416     219.47584\n",
       "1903     424.40  192.92416     231.47584"
      ]
     },
     "execution_count": 57,
     "metadata": {},
     "output_type": "execute_result"
    }
   ],
   "source": [
    "mortality_data.groupby('Year').median(numeric_only=True).head(4)"
   ]
  },
  {
   "cell_type": "code",
   "execution_count": 58,
   "id": "8dfda415-9cd0-4359-aded-41ff9327fc1e",
   "metadata": {
    "tags": []
   },
   "outputs": [
    {
     "data": {
      "text/html": [
       "<div>\n",
       "<style scoped>\n",
       "    .dataframe tbody tr th:only-of-type {\n",
       "        vertical-align: middle;\n",
       "    }\n",
       "\n",
       "    .dataframe tbody tr th {\n",
       "        vertical-align: top;\n",
       "    }\n",
       "\n",
       "    .dataframe thead th {\n",
       "        text-align: right;\n",
       "    }\n",
       "</style>\n",
       "<table border=\"1\" class=\"dataframe\">\n",
       "  <thead>\n",
       "    <tr style=\"text-align: right;\">\n",
       "      <th></th>\n",
       "      <th></th>\n",
       "      <th>DeathRate</th>\n",
       "      <th>Mean</th>\n",
       "      <th>MeanCentered</th>\n",
       "    </tr>\n",
       "    <tr>\n",
       "      <th>Year</th>\n",
       "      <th>AgeGroup</th>\n",
       "      <th></th>\n",
       "      <th></th>\n",
       "      <th></th>\n",
       "    </tr>\n",
       "  </thead>\n",
       "  <tbody>\n",
       "    <tr>\n",
       "      <th rowspan=\"4\" valign=\"top\">1900</th>\n",
       "      <th>01-04 Years</th>\n",
       "      <td>1</td>\n",
       "      <td>1</td>\n",
       "      <td>1</td>\n",
       "    </tr>\n",
       "    <tr>\n",
       "      <th>05-09 Years</th>\n",
       "      <td>1</td>\n",
       "      <td>1</td>\n",
       "      <td>1</td>\n",
       "    </tr>\n",
       "    <tr>\n",
       "      <th>10-14 Years</th>\n",
       "      <td>1</td>\n",
       "      <td>1</td>\n",
       "      <td>1</td>\n",
       "    </tr>\n",
       "    <tr>\n",
       "      <th>15-19 Years</th>\n",
       "      <td>1</td>\n",
       "      <td>1</td>\n",
       "      <td>1</td>\n",
       "    </tr>\n",
       "    <tr>\n",
       "      <th>1901</th>\n",
       "      <th>01-04 Years</th>\n",
       "      <td>1</td>\n",
       "      <td>1</td>\n",
       "      <td>1</td>\n",
       "    </tr>\n",
       "  </tbody>\n",
       "</table>\n",
       "</div>"
      ],
      "text/plain": [
       "                  DeathRate  Mean  MeanCentered\n",
       "Year AgeGroup                                  \n",
       "1900 01-04 Years          1     1             1\n",
       "     05-09 Years          1     1             1\n",
       "     10-14 Years          1     1             1\n",
       "     15-19 Years          1     1             1\n",
       "1901 01-04 Years          1     1             1"
      ]
     },
     "execution_count": 58,
     "metadata": {},
     "output_type": "execute_result"
    }
   ],
   "source": [
    "mortality_data.groupby(['Year', 'AgeGroup']).count().head()"
   ]
  },
  {
   "cell_type": "code",
   "execution_count": 59,
   "id": "c3f84a68-5b93-4d12-954d-2646a6b06755",
   "metadata": {
    "tags": []
   },
   "outputs": [
    {
     "data": {
      "text/html": [
       "<div>\n",
       "<style scoped>\n",
       "    .dataframe tbody tr th:only-of-type {\n",
       "        vertical-align: middle;\n",
       "    }\n",
       "\n",
       "    .dataframe tbody tr th {\n",
       "        vertical-align: top;\n",
       "    }\n",
       "\n",
       "    .dataframe thead th {\n",
       "        text-align: right;\n",
       "    }\n",
       "</style>\n",
       "<table border=\"1\" class=\"dataframe\">\n",
       "  <thead>\n",
       "    <tr style=\"text-align: right;\">\n",
       "      <th></th>\n",
       "      <th>count</th>\n",
       "      <th>mean</th>\n",
       "      <th>std</th>\n",
       "      <th>min</th>\n",
       "      <th>25%</th>\n",
       "      <th>50%</th>\n",
       "      <th>75%</th>\n",
       "      <th>max</th>\n",
       "    </tr>\n",
       "    <tr>\n",
       "      <th>AgeGroup</th>\n",
       "      <th></th>\n",
       "      <th></th>\n",
       "      <th></th>\n",
       "      <th></th>\n",
       "      <th></th>\n",
       "      <th></th>\n",
       "      <th></th>\n",
       "      <th></th>\n",
       "    </tr>\n",
       "  </thead>\n",
       "  <tbody>\n",
       "    <tr>\n",
       "      <th>01-04 Years</th>\n",
       "      <td>119.0</td>\n",
       "      <td>383.226050</td>\n",
       "      <td>500.454211</td>\n",
       "      <td>24.0</td>\n",
       "      <td>50.65</td>\n",
       "      <td>109.1</td>\n",
       "      <td>577.30</td>\n",
       "      <td>1983.8</td>\n",
       "    </tr>\n",
       "    <tr>\n",
       "      <th>05-09 Years</th>\n",
       "      <td>119.0</td>\n",
       "      <td>117.326050</td>\n",
       "      <td>127.474958</td>\n",
       "      <td>11.4</td>\n",
       "      <td>24.00</td>\n",
       "      <td>48.4</td>\n",
       "      <td>198.90</td>\n",
       "      <td>466.1</td>\n",
       "    </tr>\n",
       "    <tr>\n",
       "      <th>10-14 Years</th>\n",
       "      <td>119.0</td>\n",
       "      <td>93.769748</td>\n",
       "      <td>88.404363</td>\n",
       "      <td>13.9</td>\n",
       "      <td>27.20</td>\n",
       "      <td>44.6</td>\n",
       "      <td>158.90</td>\n",
       "      <td>375.1</td>\n",
       "    </tr>\n",
       "    <tr>\n",
       "      <th>15-19 Years</th>\n",
       "      <td>119.0</td>\n",
       "      <td>177.374790</td>\n",
       "      <td>138.362290</td>\n",
       "      <td>44.8</td>\n",
       "      <td>85.45</td>\n",
       "      <td>106.9</td>\n",
       "      <td>283.65</td>\n",
       "      <td>777.4</td>\n",
       "    </tr>\n",
       "  </tbody>\n",
       "</table>\n",
       "</div>"
      ],
      "text/plain": [
       "             count        mean         std   min    25%    50%     75%     max\n",
       "AgeGroup                                                                      \n",
       "01-04 Years  119.0  383.226050  500.454211  24.0  50.65  109.1  577.30  1983.8\n",
       "05-09 Years  119.0  117.326050  127.474958  11.4  24.00   48.4  198.90   466.1\n",
       "10-14 Years  119.0   93.769748   88.404363  13.9  27.20   44.6  158.90   375.1\n",
       "15-19 Years  119.0  177.374790  138.362290  44.8  85.45  106.9  283.65   777.4"
      ]
     },
     "execution_count": 59,
     "metadata": {},
     "output_type": "execute_result"
    }
   ],
   "source": [
    "mortality_data.groupby('AgeGroup')['DeathRate'].describe()"
   ]
  },
  {
   "cell_type": "markdown",
   "id": "45a17415-e8d9-4384-9acb-b8474ef41f3d",
   "metadata": {},
   "source": [
    "## Analyze grouped data using (multiple) aggregate functions"
   ]
  },
  {
   "cell_type": "code",
   "execution_count": 61,
   "id": "589f0d71-ac86-412b-ba75-7343b90282ca",
   "metadata": {
    "tags": []
   },
   "outputs": [
    {
     "data": {
      "text/html": [
       "<div>\n",
       "<style scoped>\n",
       "    .dataframe tbody tr th:only-of-type {\n",
       "        vertical-align: middle;\n",
       "    }\n",
       "\n",
       "    .dataframe tbody tr th {\n",
       "        vertical-align: top;\n",
       "    }\n",
       "\n",
       "    .dataframe thead tr th {\n",
       "        text-align: left;\n",
       "    }\n",
       "\n",
       "    .dataframe thead tr:last-of-type th {\n",
       "        text-align: right;\n",
       "    }\n",
       "</style>\n",
       "<table border=\"1\" class=\"dataframe\">\n",
       "  <thead>\n",
       "    <tr>\n",
       "      <th></th>\n",
       "      <th colspan=\"2\" halign=\"left\">Year</th>\n",
       "      <th colspan=\"2\" halign=\"left\">DeathRate</th>\n",
       "      <th colspan=\"2\" halign=\"left\">Mean</th>\n",
       "      <th colspan=\"2\" halign=\"left\">MeanCentered</th>\n",
       "    </tr>\n",
       "    <tr>\n",
       "      <th></th>\n",
       "      <th>mean</th>\n",
       "      <th>median</th>\n",
       "      <th>mean</th>\n",
       "      <th>median</th>\n",
       "      <th>mean</th>\n",
       "      <th>median</th>\n",
       "      <th>mean</th>\n",
       "      <th>median</th>\n",
       "    </tr>\n",
       "    <tr>\n",
       "      <th>AgeGroup</th>\n",
       "      <th></th>\n",
       "      <th></th>\n",
       "      <th></th>\n",
       "      <th></th>\n",
       "      <th></th>\n",
       "      <th></th>\n",
       "      <th></th>\n",
       "      <th></th>\n",
       "    </tr>\n",
       "  </thead>\n",
       "  <tbody>\n",
       "    <tr>\n",
       "      <th>01-04 Years</th>\n",
       "      <td>1959.0</td>\n",
       "      <td>1959.0</td>\n",
       "      <td>383.226050</td>\n",
       "      <td>109.1</td>\n",
       "      <td>192.92416</td>\n",
       "      <td>192.92416</td>\n",
       "      <td>190.301891</td>\n",
       "      <td>-83.82416</td>\n",
       "    </tr>\n",
       "    <tr>\n",
       "      <th>05-09 Years</th>\n",
       "      <td>1959.0</td>\n",
       "      <td>1959.0</td>\n",
       "      <td>117.326050</td>\n",
       "      <td>48.4</td>\n",
       "      <td>192.92416</td>\n",
       "      <td>192.92416</td>\n",
       "      <td>-75.598109</td>\n",
       "      <td>-144.52416</td>\n",
       "    </tr>\n",
       "    <tr>\n",
       "      <th>10-14 Years</th>\n",
       "      <td>1959.0</td>\n",
       "      <td>1959.0</td>\n",
       "      <td>93.769748</td>\n",
       "      <td>44.6</td>\n",
       "      <td>192.92416</td>\n",
       "      <td>192.92416</td>\n",
       "      <td>-99.154412</td>\n",
       "      <td>-148.32416</td>\n",
       "    </tr>\n",
       "    <tr>\n",
       "      <th>15-19 Years</th>\n",
       "      <td>1959.0</td>\n",
       "      <td>1959.0</td>\n",
       "      <td>177.374790</td>\n",
       "      <td>106.9</td>\n",
       "      <td>192.92416</td>\n",
       "      <td>192.92416</td>\n",
       "      <td>-15.549370</td>\n",
       "      <td>-86.02416</td>\n",
       "    </tr>\n",
       "  </tbody>\n",
       "</table>\n",
       "</div>"
      ],
      "text/plain": [
       "               Year           DeathRate              Mean             \\\n",
       "               mean  median        mean median       mean     median   \n",
       "AgeGroup                                                               \n",
       "01-04 Years  1959.0  1959.0  383.226050  109.1  192.92416  192.92416   \n",
       "05-09 Years  1959.0  1959.0  117.326050   48.4  192.92416  192.92416   \n",
       "10-14 Years  1959.0  1959.0   93.769748   44.6  192.92416  192.92416   \n",
       "15-19 Years  1959.0  1959.0  177.374790  106.9  192.92416  192.92416   \n",
       "\n",
       "            MeanCentered             \n",
       "                    mean     median  \n",
       "AgeGroup                             \n",
       "01-04 Years   190.301891  -83.82416  \n",
       "05-09 Years   -75.598109 -144.52416  \n",
       "10-14 Years   -99.154412 -148.32416  \n",
       "15-19 Years   -15.549370  -86.02416  "
      ]
     },
     "execution_count": 61,
     "metadata": {},
     "output_type": "execute_result"
    }
   ],
   "source": [
    "mortality_data.groupby('AgeGroup').agg(['mean', 'median'])"
   ]
  },
  {
   "cell_type": "code",
   "execution_count": 62,
   "id": "f03313d9-e061-4efa-92d4-881b1a0fc009",
   "metadata": {
    "tags": []
   },
   "outputs": [
    {
     "data": {
      "text/html": [
       "<div>\n",
       "<style scoped>\n",
       "    .dataframe tbody tr th:only-of-type {\n",
       "        vertical-align: middle;\n",
       "    }\n",
       "\n",
       "    .dataframe tbody tr th {\n",
       "        vertical-align: top;\n",
       "    }\n",
       "\n",
       "    .dataframe thead th {\n",
       "        text-align: right;\n",
       "    }\n",
       "</style>\n",
       "<table border=\"1\" class=\"dataframe\">\n",
       "  <thead>\n",
       "    <tr style=\"text-align: right;\">\n",
       "      <th></th>\n",
       "      <th>mean</th>\n",
       "      <th>median</th>\n",
       "      <th>std</th>\n",
       "      <th>nunique</th>\n",
       "    </tr>\n",
       "    <tr>\n",
       "      <th>AgeGroup</th>\n",
       "      <th></th>\n",
       "      <th></th>\n",
       "      <th></th>\n",
       "      <th></th>\n",
       "    </tr>\n",
       "  </thead>\n",
       "  <tbody>\n",
       "    <tr>\n",
       "      <th>01-04 Years</th>\n",
       "      <td>383.226050</td>\n",
       "      <td>109.1</td>\n",
       "      <td>500.454211</td>\n",
       "      <td>117</td>\n",
       "    </tr>\n",
       "    <tr>\n",
       "      <th>05-09 Years</th>\n",
       "      <td>117.326050</td>\n",
       "      <td>48.4</td>\n",
       "      <td>127.474958</td>\n",
       "      <td>115</td>\n",
       "    </tr>\n",
       "    <tr>\n",
       "      <th>10-14 Years</th>\n",
       "      <td>93.769748</td>\n",
       "      <td>44.6</td>\n",
       "      <td>88.404363</td>\n",
       "      <td>115</td>\n",
       "    </tr>\n",
       "    <tr>\n",
       "      <th>15-19 Years</th>\n",
       "      <td>177.374790</td>\n",
       "      <td>106.9</td>\n",
       "      <td>138.362290</td>\n",
       "      <td>117</td>\n",
       "    </tr>\n",
       "  </tbody>\n",
       "</table>\n",
       "</div>"
      ],
      "text/plain": [
       "                   mean  median         std  nunique\n",
       "AgeGroup                                            \n",
       "01-04 Years  383.226050   109.1  500.454211      117\n",
       "05-09 Years  117.326050    48.4  127.474958      115\n",
       "10-14 Years   93.769748    44.6   88.404363      115\n",
       "15-19 Years  177.374790   106.9  138.362290      117"
      ]
     },
     "execution_count": 62,
     "metadata": {},
     "output_type": "execute_result"
    }
   ],
   "source": [
    "mortality_data.groupby('AgeGroup')['DeathRate'].agg(['mean', 'median', 'std', 'nunique'])"
   ]
  },
  {
   "cell_type": "code",
   "execution_count": 63,
   "id": "781184bd-8016-4c16-9b2f-bc99e4acaf48",
   "metadata": {
    "tags": []
   },
   "outputs": [
    {
     "data": {
      "text/html": [
       "<div>\n",
       "<style scoped>\n",
       "    .dataframe tbody tr th:only-of-type {\n",
       "        vertical-align: middle;\n",
       "    }\n",
       "\n",
       "    .dataframe tbody tr th {\n",
       "        vertical-align: top;\n",
       "    }\n",
       "\n",
       "    .dataframe thead th {\n",
       "        text-align: right;\n",
       "    }\n",
       "</style>\n",
       "<table border=\"1\" class=\"dataframe\">\n",
       "  <thead>\n",
       "    <tr style=\"text-align: right;\">\n",
       "      <th></th>\n",
       "      <th>mean</th>\n",
       "      <th>median</th>\n",
       "      <th>std</th>\n",
       "      <th>min</th>\n",
       "      <th>max</th>\n",
       "      <th>var</th>\n",
       "      <th>nunique</th>\n",
       "    </tr>\n",
       "    <tr>\n",
       "      <th>Year</th>\n",
       "      <th></th>\n",
       "      <th></th>\n",
       "      <th></th>\n",
       "      <th></th>\n",
       "      <th></th>\n",
       "      <th></th>\n",
       "      <th></th>\n",
       "    </tr>\n",
       "  </thead>\n",
       "  <tbody>\n",
       "    <tr>\n",
       "      <th>1900</th>\n",
       "      <td>808.250</td>\n",
       "      <td>475.45</td>\n",
       "      <td>788.173697</td>\n",
       "      <td>298.3</td>\n",
       "      <td>1983.8</td>\n",
       "      <td>621217.776667</td>\n",
       "      <td>4</td>\n",
       "    </tr>\n",
       "    <tr>\n",
       "      <th>1901</th>\n",
       "      <td>712.650</td>\n",
       "      <td>441.00</td>\n",
       "      <td>659.727972</td>\n",
       "      <td>273.6</td>\n",
       "      <td>1695.0</td>\n",
       "      <td>435240.996667</td>\n",
       "      <td>4</td>\n",
       "    </tr>\n",
       "    <tr>\n",
       "      <th>1902</th>\n",
       "      <td>683.250</td>\n",
       "      <td>412.40</td>\n",
       "      <td>652.709642</td>\n",
       "      <td>252.5</td>\n",
       "      <td>1655.7</td>\n",
       "      <td>426029.876667</td>\n",
       "      <td>4</td>\n",
       "    </tr>\n",
       "    <tr>\n",
       "      <th>1903</th>\n",
       "      <td>664.775</td>\n",
       "      <td>424.40</td>\n",
       "      <td>589.553319</td>\n",
       "      <td>268.2</td>\n",
       "      <td>1542.1</td>\n",
       "      <td>347573.115833</td>\n",
       "      <td>4</td>\n",
       "    </tr>\n",
       "    <tr>\n",
       "      <th>1904</th>\n",
       "      <td>698.275</td>\n",
       "      <td>448.20</td>\n",
       "      <td>599.586065</td>\n",
       "      <td>305.2</td>\n",
       "      <td>1591.5</td>\n",
       "      <td>359503.449167</td>\n",
       "      <td>4</td>\n",
       "    </tr>\n",
       "    <tr>\n",
       "      <th>...</th>\n",
       "      <td>...</td>\n",
       "      <td>...</td>\n",
       "      <td>...</td>\n",
       "      <td>...</td>\n",
       "      <td>...</td>\n",
       "      <td>...</td>\n",
       "      <td>...</td>\n",
       "    </tr>\n",
       "    <tr>\n",
       "      <th>2014</th>\n",
       "      <td>23.750</td>\n",
       "      <td>19.00</td>\n",
       "      <td>15.473095</td>\n",
       "      <td>11.5</td>\n",
       "      <td>45.5</td>\n",
       "      <td>239.416667</td>\n",
       "      <td>4</td>\n",
       "    </tr>\n",
       "    <tr>\n",
       "      <th>2015</th>\n",
       "      <td>24.875</td>\n",
       "      <td>19.75</td>\n",
       "      <td>16.612119</td>\n",
       "      <td>11.7</td>\n",
       "      <td>48.3</td>\n",
       "      <td>275.962500</td>\n",
       "      <td>4</td>\n",
       "    </tr>\n",
       "    <tr>\n",
       "      <th>2016</th>\n",
       "      <td>25.825</td>\n",
       "      <td>19.95</td>\n",
       "      <td>17.849440</td>\n",
       "      <td>12.2</td>\n",
       "      <td>51.2</td>\n",
       "      <td>318.602500</td>\n",
       "      <td>4</td>\n",
       "    </tr>\n",
       "    <tr>\n",
       "      <th>2017</th>\n",
       "      <td>25.725</td>\n",
       "      <td>19.90</td>\n",
       "      <td>17.985619</td>\n",
       "      <td>11.6</td>\n",
       "      <td>51.5</td>\n",
       "      <td>323.482500</td>\n",
       "      <td>4</td>\n",
       "    </tr>\n",
       "    <tr>\n",
       "      <th>2018</th>\n",
       "      <td>24.900</td>\n",
       "      <td>19.45</td>\n",
       "      <td>17.037801</td>\n",
       "      <td>11.5</td>\n",
       "      <td>49.2</td>\n",
       "      <td>290.286667</td>\n",
       "      <td>4</td>\n",
       "    </tr>\n",
       "  </tbody>\n",
       "</table>\n",
       "<p>119 rows × 7 columns</p>\n",
       "</div>"
      ],
      "text/plain": [
       "         mean  median         std    min     max            var  nunique\n",
       "Year                                                                    \n",
       "1900  808.250  475.45  788.173697  298.3  1983.8  621217.776667        4\n",
       "1901  712.650  441.00  659.727972  273.6  1695.0  435240.996667        4\n",
       "1902  683.250  412.40  652.709642  252.5  1655.7  426029.876667        4\n",
       "1903  664.775  424.40  589.553319  268.2  1542.1  347573.115833        4\n",
       "1904  698.275  448.20  599.586065  305.2  1591.5  359503.449167        4\n",
       "...       ...     ...         ...    ...     ...            ...      ...\n",
       "2014   23.750   19.00   15.473095   11.5    45.5     239.416667        4\n",
       "2015   24.875   19.75   16.612119   11.7    48.3     275.962500        4\n",
       "2016   25.825   19.95   17.849440   12.2    51.2     318.602500        4\n",
       "2017   25.725   19.90   17.985619   11.6    51.5     323.482500        4\n",
       "2018   24.900   19.45   17.037801   11.5    49.2     290.286667        4\n",
       "\n",
       "[119 rows x 7 columns]"
      ]
     },
     "execution_count": 63,
     "metadata": {},
     "output_type": "execute_result"
    }
   ],
   "source": [
    "mortality_data.groupby('Year')['DeathRate'].agg(['mean', 'median', 'std', 'min', 'max', 'var', 'nunique'])"
   ]
  },
  {
   "cell_type": "markdown",
   "id": "8960d5a8-78a2-4e64-948f-a20a029c2960",
   "metadata": {},
   "source": [
    "## Visualize data\n",
    "\n",
    "**Note**: There is no \"best\" way to visualize data. Different questions are best answered by different visualizations!"
   ]
  },
  {
   "cell_type": "code",
   "execution_count": 65,
   "id": "04f24c82-f98c-440d-a08a-6c55b675266e",
   "metadata": {
    "tags": []
   },
   "outputs": [
    {
     "data": {
      "text/plain": [
       "<Axes: xlabel='Year'>"
      ]
     },
     "execution_count": 65,
     "metadata": {},
     "output_type": "execute_result"
    },
    {
     "data": {
      "image/png": "[encoded data removed]",
      "text/plain": [
       "<Figure size 640x480 with 1 Axes>"
      ]
     },
     "metadata": {},
     "output_type": "display_data"
    }
   ],
   "source": [
    "mortality_data.pivot(index='Year', columns='AgeGroup')['DeathRate'].plot()"
   ]
  },
  {
   "cell_type": "code",
   "execution_count": 66,
   "id": "5a3e9f25-aae2-4aa0-9ab1-bab8257b0d56",
   "metadata": {
    "tags": []
   },
   "outputs": [
    {
     "data": {
      "text/html": [
       "<div>\n",
       "<style scoped>\n",
       "    .dataframe tbody tr th:only-of-type {\n",
       "        vertical-align: middle;\n",
       "    }\n",
       "\n",
       "    .dataframe tbody tr th {\n",
       "        vertical-align: top;\n",
       "    }\n",
       "\n",
       "    .dataframe thead th {\n",
       "        text-align: right;\n",
       "    }\n",
       "</style>\n",
       "<table border=\"1\" class=\"dataframe\">\n",
       "  <thead>\n",
       "    <tr style=\"text-align: right;\">\n",
       "      <th></th>\n",
       "      <th>01-04 Years</th>\n",
       "      <th>05-09 Years</th>\n",
       "      <th>10-14 Years</th>\n",
       "      <th>15-19 Years</th>\n",
       "    </tr>\n",
       "    <tr>\n",
       "      <th>Year</th>\n",
       "      <th></th>\n",
       "      <th></th>\n",
       "      <th></th>\n",
       "      <th></th>\n",
       "    </tr>\n",
       "  </thead>\n",
       "  <tbody>\n",
       "    <tr>\n",
       "      <th>1900</th>\n",
       "      <td>1983.8</td>\n",
       "      <td>466.1</td>\n",
       "      <td>298.3</td>\n",
       "      <td>484.8</td>\n",
       "    </tr>\n",
       "    <tr>\n",
       "      <th>1901</th>\n",
       "      <td>1695.0</td>\n",
       "      <td>427.6</td>\n",
       "      <td>273.6</td>\n",
       "      <td>454.4</td>\n",
       "    </tr>\n",
       "    <tr>\n",
       "      <th>1902</th>\n",
       "      <td>1655.7</td>\n",
       "      <td>403.3</td>\n",
       "      <td>252.5</td>\n",
       "      <td>421.5</td>\n",
       "    </tr>\n",
       "    <tr>\n",
       "      <th>1903</th>\n",
       "      <td>1542.1</td>\n",
       "      <td>414.7</td>\n",
       "      <td>268.2</td>\n",
       "      <td>434.1</td>\n",
       "    </tr>\n",
       "    <tr>\n",
       "      <th>1904</th>\n",
       "      <td>1591.5</td>\n",
       "      <td>425.0</td>\n",
       "      <td>305.2</td>\n",
       "      <td>471.4</td>\n",
       "    </tr>\n",
       "  </tbody>\n",
       "</table>\n",
       "</div>"
      ],
      "text/plain": [
       "      01-04 Years  05-09 Years  10-14 Years  15-19 Years\n",
       "Year                                                    \n",
       "1900       1983.8        466.1        298.3        484.8\n",
       "1901       1695.0        427.6        273.6        454.4\n",
       "1902       1655.7        403.3        252.5        421.5\n",
       "1903       1542.1        414.7        268.2        434.1\n",
       "1904       1591.5        425.0        305.2        471.4"
      ]
     },
     "execution_count": 66,
     "metadata": {},
     "output_type": "execute_result"
    }
   ],
   "source": [
    "mortality_wide = mortality_wide.set_index('Year')\n",
    "\n",
    "mortality_wide.to_pickle('mortality_wide.pkl')\n",
    "mortality_wide = pd.read_pickle('mortality_wide.pkl')\n",
    "mortality_wide.head()"
   ]
  },
  {
   "cell_type": "markdown",
   "id": "b56d13df-259d-4cf1-be2d-d060cbd46afe",
   "metadata": {},
   "source": [
    "## Outliers\n",
    "\n",
    "    - Defined: \"Unusual\" dataset values\n",
    "    - Problematic: Distor findings\n",
    "    - Identifying outliers (simple):\n",
    "        1. Sort data\n",
    "        2. Graphs\n",
    "    - Fixing:\n",
    "        1. Keep\n",
    "        2. Drop\n",
    "        3. Modify\n",
    "            A. Cap\n",
    "            B. Reassign\n",
    "            C. Other procedures"
   ]
  },
  {
   "cell_type": "code",
   "execution_count": 68,
   "id": "5cf865b2-42cb-4ad8-80e6-3d467e1a755c",
   "metadata": {
    "tags": []
   },
   "outputs": [
    {
     "data": {
      "text/plain": [
       "<Axes: >"
      ]
     },
     "execution_count": 68,
     "metadata": {},
     "output_type": "execute_result"
    },
    {
     "data": {
      "image/png": "[encoded data removed]",
      "text/plain": [
       "<Figure size 640x480 with 1 Axes>"
      ]
     },
     "metadata": {},
     "output_type": "display_data"
    }
   ],
   "source": [
    "mortality_wide.plot.box()"
   ]
  },
  {
   "cell_type": "code",
   "execution_count": 69,
   "id": "34a06ba4-93fc-44d5-9c0c-abdfb6b2c2ec",
   "metadata": {
    "tags": []
   },
   "outputs": [
    {
     "data": {
      "text/plain": [
       "<Axes: title={'center': 'DeathRate by AgeGroup'}, xlabel='Year', ylabel='Deaths per 100,000'>"
      ]
     },
     "execution_count": 69,
     "metadata": {},
     "output_type": "execute_result"
    },
    {
     "data": {
      "image/png": "[encoded data removed]",
      "text/plain": [
       "<Figure size 640x480 with 1 Axes>"
      ]
     },
     "metadata": {},
     "output_type": "display_data"
    }
   ],
   "source": [
    "mortality_wide.plot(xlabel='Year', ylabel='Deaths per 100,000', title='DeathRate by AgeGroup')"
   ]
  },
  {
   "cell_type": "code",
   "execution_count": 70,
   "id": "e3034bf9-8bef-49b5-9fed-33be65d34ae7",
   "metadata": {
    "tags": []
   },
   "outputs": [
    {
     "data": {
      "text/plain": [
       "<Axes: xlabel='AgeGroup'>"
      ]
     },
     "execution_count": 70,
     "metadata": {},
     "output_type": "execute_result"
    },
    {
     "data": {
      "image/png": "[encoded data removed]",
      "text/plain": [
       "<Figure size 640x480 with 1 Axes>"
      ]
     },
     "metadata": {},
     "output_type": "display_data"
    }
   ],
   "source": [
    "mortality_data.groupby('AgeGroup')['DeathRate'].agg(['mean', 'median', 'std']).plot.bar(rot=45)"
   ]
  },
  {
   "cell_type": "code",
   "execution_count": 71,
   "id": "5e43cf19-8bfc-43c5-9ca8-d9adebf65978",
   "metadata": {
    "tags": []
   },
   "outputs": [
    {
     "data": {
      "text/plain": [
       "<Axes: ylabel='AgeGroup'>"
      ]
     },
     "execution_count": 71,
     "metadata": {},
     "output_type": "execute_result"
    },
    {
     "data": {
      "image/png": "[encoded data removed]",
      "text/plain": [
       "<Figure size 640x480 with 1 Axes>"
      ]
     },
     "metadata": {},
     "output_type": "display_data"
    }
   ],
   "source": [
    "mortality_data.groupby('AgeGroup')['DeathRate'].agg(['mean', 'median', 'std']).plot.barh()"
   ]
  },
  {
   "cell_type": "code",
   "execution_count": 72,
   "id": "f99d7825-4146-46f2-9c08-cb50f55f1a4d",
   "metadata": {
    "tags": []
   },
   "outputs": [
    {
     "data": {
      "text/plain": [
       "<Axes: ylabel='DeathRate'>"
      ]
     },
     "execution_count": 72,
     "metadata": {},
     "output_type": "execute_result"
    },
    {
     "data": {
      "image/png": "[encoded data removed]",
      "text/plain": [
       "<Figure size 640x480 with 1 Axes>"
      ]
     },
     "metadata": {},
     "output_type": "display_data"
    }
   ],
   "source": [
    "mortality_data.query('Year in (1900, 1925, 1950, 1975, 2000)').groupby('Year').DeathRate.sum().plot.pie()"
   ]
  },
  {
   "cell_type": "code",
   "execution_count": 73,
   "id": "8790453a-ddb3-4b83-960e-f95410f176c5",
   "metadata": {
    "tags": []
   },
   "outputs": [
    {
     "data": {
      "text/plain": [
       "array([[<Axes: title={'center': 'Child Mortality: 01-04'}, ylabel='Year'>,\n",
       "        <Axes: title={'center': 'Child Mortality: 05-09'}, ylabel='Year'>],\n",
       "       [<Axes: title={'center': 'Child Mortality: 10-14'}, ylabel='Year'>,\n",
       "        <Axes: title={'center': 'Child Mortality: 15-19'}, ylabel='Year'>]],\n",
       "      dtype=object)"
      ]
     },
     "execution_count": 73,
     "metadata": {},
     "output_type": "execute_result"
    },
    {
     "data": {
      "image/png": "[encoded data removed]",
      "text/plain": [
       "<Figure size 800x500 with 4 Axes>"
      ]
     },
     "metadata": {},
     "output_type": "display_data"
    }
   ],
   "source": [
    "mortality_wide.query('Year in (1900, 1925, 1950, 1975, 2000)').plot.barh(\n",
    "    title=['Child Mortality: 01-04', 'Child Mortality: 05-09',\n",
    "           'Child Mortality: 10-14', 'Child Mortality: 15-19'],\n",
    "    sharey=True, legend=False, subplots=True, layout=(2,2), figsize=(8,5))"
   ]
  },
  {
   "cell_type": "code",
   "execution_count": 74,
   "id": "c9208f28-19ba-48d0-be47-485d014d90fb",
   "metadata": {
    "tags": []
   },
   "outputs": [
    {
     "data": {
      "text/plain": [
       "<Axes: xlabel='Year', ylabel='DeathRate'>"
      ]
     },
     "execution_count": 74,
     "metadata": {},
     "output_type": "execute_result"
    },
    {
     "data": {
      "image/png": "[encoded data removed]",
      "text/plain": [
       "<Figure size 640x480 with 1 Axes>"
      ]
     },
     "metadata": {},
     "output_type": "display_data"
    }
   ],
   "source": [
    "mortality_data.query('AgeGroup == \"01-04 Years\"').plot.scatter(x='Year', y='DeathRate', c='Blue')"
   ]
  },
  {
   "cell_type": "code",
   "execution_count": null,
   "id": "b2ce797d-27a1-452a-adbb-5ab1739291bf",
   "metadata": {},
   "outputs": [],
   "source": []
  }
 ],
 "metadata": {
  "kernelspec": {
   "display_name": "Python 3 (ipykernel)",
   "language": "python",
   "name": "python3"
  },
  "language_info": {
   "codemirror_mode": {
    "name": "ipython",
    "version": 3
   },
   "file_extension": ".py",
   "mimetype": "text/x-python",
   "name": "python",
   "nbconvert_exporter": "python",
   "pygments_lexer": "ipython3",
   "version": "3.11.7"
  }
 },
 "nbformat": 4,
 "nbformat_minor": 5
}
